{
 "cells": [
  {
   "cell_type": "markdown",
   "id": "e235b86a",
   "metadata": {},
   "source": [
    "# Machine Learning Models"
   ]
  },
  {
   "cell_type": "code",
   "execution_count": 3,
   "id": "c633bd1d",
   "metadata": {},
   "outputs": [],
   "source": [
    "import pandas as pd\n",
    "\n",
    "data = pd.read_csv('data/clean_train.csv')"
   ]
  },
  {
   "cell_type": "code",
   "execution_count": 2,
   "id": "473e503c",
   "metadata": {},
   "outputs": [],
   "source": [
    "from sklearn.model_selection import train_test_split as tts"
   ]
  },
  {
   "cell_type": "markdown",
   "id": "a1705652",
   "metadata": {},
   "source": [
    "## H2O"
   ]
  },
  {
   "cell_type": "markdown",
   "id": "9c40bfcb",
   "metadata": {},
   "source": [
    "Empezamos utilizando h2o para probar diferentes modelos y compararlos entre ellos, obteniendo una visión general y una primera impresión de los modelos que pueden utilizar mejor."
   ]
  },
  {
   "cell_type": "code",
   "execution_count": 5,
   "id": "0e09c55e",
   "metadata": {},
   "outputs": [
    {
     "name": "stdout",
     "output_type": "stream",
     "text": [
      "Collecting h2o\n",
      "  Using cached h2o-3.36.0.3-py2.py3-none-any.whl\n",
      "Requirement already satisfied: future in /home/mariomm/anaconda3/lib/python3.9/site-packages (from h2o) (0.18.2)\n",
      "Collecting tabulate\n",
      "  Using cached tabulate-0.8.9-py3-none-any.whl (25 kB)\n",
      "Requirement already satisfied: requests in /home/mariomm/anaconda3/lib/python3.9/site-packages (from h2o) (2.26.0)\n",
      "Requirement already satisfied: certifi>=2017.4.17 in /home/mariomm/anaconda3/lib/python3.9/site-packages (from requests->h2o) (2021.10.8)\n",
      "Requirement already satisfied: urllib3<1.27,>=1.21.1 in /home/mariomm/anaconda3/lib/python3.9/site-packages (from requests->h2o) (1.26.7)\n",
      "Requirement already satisfied: idna<4,>=2.5 in /home/mariomm/anaconda3/lib/python3.9/site-packages (from requests->h2o) (3.2)\n",
      "Requirement already satisfied: charset-normalizer~=2.0.0 in /home/mariomm/anaconda3/lib/python3.9/site-packages (from requests->h2o) (2.0.4)\n",
      "Installing collected packages: tabulate, h2o\n",
      "Successfully installed h2o-3.36.0.3 tabulate-0.8.9\n",
      "Note: you may need to restart the kernel to use updated packages.\n"
     ]
    }
   ],
   "source": [
    "%pip install h2o"
   ]
  },
  {
   "cell_type": "code",
   "execution_count": 7,
   "id": "7d969ae7",
   "metadata": {},
   "outputs": [],
   "source": [
    "import h2o\n",
    "\n",
    "from h2o.automl import H2OAutoML"
   ]
  },
  {
   "cell_type": "code",
   "execution_count": 29,
   "id": "94eabc36",
   "metadata": {},
   "outputs": [
    {
     "name": "stdout",
     "output_type": "stream",
     "text": [
      "Checking whether there is an H2O instance running at http://localhost:54321 ..... not found.\n",
      "Attempting to start a local H2O server...\n",
      "  Java Version: openjdk version \"11.0.13\" 2021-10-19; OpenJDK Runtime Environment (build 11.0.13+8-Ubuntu-0ubuntu1.20.04); OpenJDK 64-Bit Server VM (build 11.0.13+8-Ubuntu-0ubuntu1.20.04, mixed mode, sharing)\n",
      "  Starting server from /home/mariomm/anaconda3/lib/python3.9/site-packages/h2o/backend/bin/h2o.jar\n",
      "  Ice root: /tmp/tmphkinshri\n",
      "  JVM stdout: /tmp/tmphkinshri/h2o_mariomm_started_from_python.out\n",
      "  JVM stderr: /tmp/tmphkinshri/h2o_mariomm_started_from_python.err\n",
      "  Server is running at http://127.0.0.1:54321\n",
      "Connecting to H2O server at http://127.0.0.1:54321 ... successful.\n"
     ]
    },
    {
     "data": {
      "text/html": [
       "<div style=\"overflow:auto\"><table style=\"width:50%\"><tr><td>H2O_cluster_uptime:</td>\n",
       "<td>04 secs</td></tr>\n",
       "<tr><td>H2O_cluster_timezone:</td>\n",
       "<td>Europe/Madrid</td></tr>\n",
       "<tr><td>H2O_data_parsing_timezone:</td>\n",
       "<td>UTC</td></tr>\n",
       "<tr><td>H2O_cluster_version:</td>\n",
       "<td>3.36.0.3</td></tr>\n",
       "<tr><td>H2O_cluster_version_age:</td>\n",
       "<td>6 days </td></tr>\n",
       "<tr><td>H2O_cluster_name:</td>\n",
       "<td>H2O_from_python_mariomm_rwhvnb</td></tr>\n",
       "<tr><td>H2O_cluster_total_nodes:</td>\n",
       "<td>1</td></tr>\n",
       "<tr><td>H2O_cluster_free_memory:</td>\n",
       "<td>958 Mb</td></tr>\n",
       "<tr><td>H2O_cluster_total_cores:</td>\n",
       "<td>8</td></tr>\n",
       "<tr><td>H2O_cluster_allowed_cores:</td>\n",
       "<td>8</td></tr>\n",
       "<tr><td>H2O_cluster_status:</td>\n",
       "<td>locked, healthy</td></tr>\n",
       "<tr><td>H2O_connection_url:</td>\n",
       "<td>http://127.0.0.1:54321</td></tr>\n",
       "<tr><td>H2O_connection_proxy:</td>\n",
       "<td>{\"http\": null, \"https\": null}</td></tr>\n",
       "<tr><td>H2O_internal_security:</td>\n",
       "<td>False</td></tr>\n",
       "<tr><td>Python_version:</td>\n",
       "<td>3.9.7 final</td></tr></table></div>"
      ],
      "text/plain": [
       "--------------------------  ------------------------------\n",
       "H2O_cluster_uptime:         04 secs\n",
       "H2O_cluster_timezone:       Europe/Madrid\n",
       "H2O_data_parsing_timezone:  UTC\n",
       "H2O_cluster_version:        3.36.0.3\n",
       "H2O_cluster_version_age:    6 days\n",
       "H2O_cluster_name:           H2O_from_python_mariomm_rwhvnb\n",
       "H2O_cluster_total_nodes:    1\n",
       "H2O_cluster_free_memory:    958 Mb\n",
       "H2O_cluster_total_cores:    8\n",
       "H2O_cluster_allowed_cores:  8\n",
       "H2O_cluster_status:         locked, healthy\n",
       "H2O_connection_url:         http://127.0.0.1:54321\n",
       "H2O_connection_proxy:       {\"http\": null, \"https\": null}\n",
       "H2O_internal_security:      False\n",
       "Python_version:             3.9.7 final\n",
       "--------------------------  ------------------------------"
      ]
     },
     "metadata": {},
     "output_type": "display_data"
    }
   ],
   "source": [
    "# Inicializamos:\n",
    "\n",
    "h2o.init()\n",
    "    #nthreads=-1,     # number of threads when launching a new H2O server\n",
    "    #max_mem_size=12  # in gigabytes\n"
   ]
  },
  {
   "cell_type": "code",
   "execution_count": 30,
   "id": "bb67983b",
   "metadata": {},
   "outputs": [],
   "source": [
    "train, test = tts(data, test_size=0.2, train_size=0.8, random_state=42)\n",
    "\n",
    "train.to_csv('data/h2o_train.csv', index=False)\n",
    "\n",
    "test.to_csv('data/h2o_test.csv', index=False)"
   ]
  },
  {
   "cell_type": "code",
   "execution_count": 31,
   "id": "5d9c6389",
   "metadata": {},
   "outputs": [
    {
     "name": "stdout",
     "output_type": "stream",
     "text": [
      "Parse progress: |████████████████████████████████████████████████████████████████| (done) 100%\n",
      "Parse progress: |████████████████████████████████████████████████████████████████| (done) 100%\n"
     ]
    }
   ],
   "source": [
    "# parseo de datos a h2o:\n",
    "\n",
    "train = h2o.import_file('data/h2o_train.csv')\n",
    "test = h2o.import_file('data/h2o_test.csv')"
   ]
  },
  {
   "cell_type": "code",
   "execution_count": 32,
   "id": "26ef6831",
   "metadata": {},
   "outputs": [],
   "source": [
    "X=train.columns\n",
    "y='price'\n",
    "X.remove(y)"
   ]
  },
  {
   "cell_type": "code",
   "execution_count": 33,
   "id": "9e967c50",
   "metadata": {},
   "outputs": [],
   "source": [
    "# factor para clasificacion binaria\n",
    "\n",
    "train[y]=train[y].asfactor()\n",
    "test[y]=test[y].asfactor()"
   ]
  },
  {
   "cell_type": "code",
   "execution_count": null,
   "id": "244cc2b4",
   "metadata": {},
   "outputs": [
    {
     "name": "stdout",
     "output_type": "stream",
     "text": [
      "AutoML progress: |█████████████████████████████████████████████████████\n",
      "21:58:05.889: GBM_1_AutoML_1_20220222_214639 [GBM def_5] failed: water.exceptions.H2OModelBuilderIllegalArgumentException: Illegal argument(s) for GBM model: GBM_1_AutoML_1_20220222_214639_cv_1.  Details: ERRR on field: _ntrees: The tree model will not fit in the driver node's memory (83.3 KB per tree x 10000 > 406.3 MB) - try decreasing ntrees and/or max_depth or increasing min_rows!\n",
      "\n",
      "\n",
      "██\n",
      "21:58:10.965: StackedEnsemble_BestOfFamily_1_AutoML_1_20220222_214639 [StackedEnsemble best_of_family_1 (built with AUTO metalearner, using top model from each algorithm type)] failed: java.lang.RuntimeException: java.lang.ArrayIndexOutOfBoundsException: Index 791 out of bounds for length 791\n",
      "\n",
      "███████"
     ]
    }
   ],
   "source": [
    "# 20 modelos\n",
    "\n",
    "aml=H2OAutoML(max_models=15, seed=1)\n",
    "aml.train(x=X, y=y, training_frame=train)"
   ]
  },
  {
   "cell_type": "code",
   "execution_count": null,
   "id": "b23d0196",
   "metadata": {},
   "outputs": [],
   "source": []
  },
  {
   "cell_type": "code",
   "execution_count": null,
   "id": "424e217b",
   "metadata": {},
   "outputs": [],
   "source": []
  },
  {
   "cell_type": "code",
   "execution_count": null,
   "id": "16dcb8d6",
   "metadata": {},
   "outputs": [],
   "source": []
  },
  {
   "cell_type": "code",
   "execution_count": null,
   "id": "97f61348",
   "metadata": {},
   "outputs": [],
   "source": []
  },
  {
   "cell_type": "code",
   "execution_count": 9,
   "id": "1eae89a8",
   "metadata": {},
   "outputs": [],
   "source": [
    "X = data.drop('price', axis=1)\n",
    "\n",
    "y = data.price\n",
    "\n",
    "X.to_csv('data/X_h2o.csv')"
   ]
  },
  {
   "cell_type": "code",
   "execution_count": 10,
   "id": "2745b724",
   "metadata": {},
   "outputs": [],
   "source": [
    "X_train, X_test, y_train, y_test = tts(X, y, test_size=0.2, train_size=0.8, random_state=42)"
   ]
  }
 ],
 "metadata": {
  "kernelspec": {
   "display_name": "Python 3 (ipykernel)",
   "language": "python",
   "name": "python3"
  },
  "language_info": {
   "codemirror_mode": {
    "name": "ipython",
    "version": 3
   },
   "file_extension": ".py",
   "mimetype": "text/x-python",
   "name": "python",
   "nbconvert_exporter": "python",
   "pygments_lexer": "ipython3",
   "version": "3.9.7"
  }
 },
 "nbformat": 4,
 "nbformat_minor": 5
}
