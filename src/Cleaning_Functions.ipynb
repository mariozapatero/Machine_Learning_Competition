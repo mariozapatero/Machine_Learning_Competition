{
 "cells": [
  {
   "cell_type": "code",
   "execution_count": null,
   "id": "dbe4615f",
   "metadata": {},
   "outputs": [],
   "source": [
    "columns = ['neighbourhood_group_cleansed', 'bathrooms', 'calendar_updated', 'listing_url', 'scrape_id', 'last_scraped',\n",
    "           'picture_url', 'host_id', 'host_url', 'host_thumbnail_url', 'host_picture_url', 'calendar_last_scraped', 'license']\n",
    "\n",
    "data.drop(columns, axis=1, inplace=True)"
   ]
  },
  {
   "cell_type": "code",
   "execution_count": null,
   "id": "57b328f2",
   "metadata": {},
   "outputs": [],
   "source": [
    "columns = ['name', 'description', 'neighborhood_overview', 'host_name', 'host_location', 'host_about', 'host_listings_count',\n",
    "          'neighbourhood', 'property_type', 'maximum_nights', 'minimum_minimum_nights', 'maximum_minimum_nights',\n",
    "          'minimum_maximum_nights', 'maximum_maximum_nights', 'minimum_nights_avg_ntm', 'maximum_nights_avg_ntm',\n",
    "          'has_availability', 'availability_30', 'availability_60', 'availability_90', 'availability_365',\n",
    "          'number_of_reviews_ltm', 'number_of_reviews_l30d', 'review_scores_accuracy', 'review_scores_cleanliness',\n",
    "          'review_scores_checkin', 'review_scores_communication', 'review_scores_location', 'review_scores_value',\n",
    "          'calculated_host_listings_count', 'calculated_host_listings_count_entire_homes',\n",
    "          'calculated_host_listings_count_private_rooms', 'calculated_host_listings_count_shared_rooms']\n",
    "\n",
    "cleaning = data.drop(columns, axis=1)"
   ]
  },
  {
   "cell_type": "code",
   "execution_count": null,
   "id": "69541634",
   "metadata": {},
   "outputs": [],
   "source": [
    "cleaning.host_since = cleaning.host_since.apply(lambda x: int(x[:4]))"
   ]
  },
  {
   "cell_type": "code",
   "execution_count": null,
   "id": "494d63a6",
   "metadata": {},
   "outputs": [],
   "source": [
    "cleaning.drop('host_response_time', axis=1, inplace=True)\n",
    "cleaning.drop('host_response_rate', axis=1, inplace=True)\n",
    "cleaning.drop('host_acceptance_rate', axis=1, inplace=True)"
   ]
  },
  {
   "cell_type": "code",
   "execution_count": null,
   "id": "3ea3e791",
   "metadata": {},
   "outputs": [],
   "source": [
    "cleaning.host_is_superhost = cleaning.host_is_superhost.replace(['f', 't'], [0, 1])"
   ]
  },
  {
   "cell_type": "code",
   "execution_count": null,
   "id": "c3f1a6d5",
   "metadata": {},
   "outputs": [],
   "source": [
    "cleaning.drop('host_neighbourhood', axis=1, inplace=True)"
   ]
  },
  {
   "cell_type": "code",
   "execution_count": null,
   "id": "c997bf2e",
   "metadata": {},
   "outputs": [],
   "source": [
    "def limpieza_lista(x):\n",
    "    x = x.lstrip(\"['\")\n",
    "    x = x.rstrip(\"']\")\n",
    "    x = x.split(\"', '\")\n",
    "    return len(x)\n",
    "\n",
    "cleaning.host_verifications = cleaning.host_verifications.apply(limpieza_lista)"
   ]
  },
  {
   "cell_type": "code",
   "execution_count": null,
   "id": "3cebcbff",
   "metadata": {},
   "outputs": [],
   "source": [
    "cleaning.drop('host_has_profile_pic', axis=1, inplace=True)"
   ]
  },
  {
   "cell_type": "code",
   "execution_count": null,
   "id": "9ff6e195",
   "metadata": {},
   "outputs": [],
   "source": [
    "cleaning.host_identity_verified = cleaning.host_identity_verified.replace(['f', 't'], [0, 1])"
   ]
  },
  {
   "cell_type": "code",
   "execution_count": null,
   "id": "d318f04f",
   "metadata": {},
   "outputs": [],
   "source": [
    "barrio = pd.get_dummies(cleaning.neighbourhood_cleansed)\n",
    "cleaning = pd.concat([cleaning, barrio], axis=1)\n",
    "cleaning.drop('neighbourhood_cleansed', axis=1, inplace=True)"
   ]
  },
  {
   "cell_type": "code",
   "execution_count": null,
   "id": "f6f75ce3",
   "metadata": {},
   "outputs": [],
   "source": []
  }
 ],
 "metadata": {
  "kernelspec": {
   "display_name": "Python 3 (ipykernel)",
   "language": "python",
   "name": "python3"
  },
  "language_info": {
   "codemirror_mode": {
    "name": "ipython",
    "version": 3
   },
   "file_extension": ".py",
   "mimetype": "text/x-python",
   "name": "python",
   "nbconvert_exporter": "python",
   "pygments_lexer": "ipython3",
   "version": "3.9.7"
  }
 },
 "nbformat": 4,
 "nbformat_minor": 5
}
