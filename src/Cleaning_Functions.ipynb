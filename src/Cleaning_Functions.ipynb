{
 "cells": [
  {
   "cell_type": "code",
   "execution_count": null,
   "id": "adc543a4",
   "metadata": {},
   "outputs": [],
   "source": [
    "columns = ['neighbourhood_group_cleansed', 'bathrooms', 'calendar_updated', 'listing_url', 'scrape_id', 'last_scraped',\n",
    "           'picture_url', 'host_id', 'host_url', 'host_thumbnail_url', 'host_picture_url', 'calendar_last_scraped', 'license']\n",
    "\n",
    "data.drop(columns, axis=1, inplace=True)"
   ]
  },
  {
   "cell_type": "code",
   "execution_count": null,
   "id": "997e8141",
   "metadata": {},
   "outputs": [],
   "source": [
    "columns = ['name', 'description', 'neighborhood_overview', 'host_name', 'host_location', 'host_about', 'host_listings_count',\n",
    "          'neighbourhood', 'property_type', 'maximum_nights', 'minimum_minimum_nights', 'maximum_minimum_nights',\n",
    "          'minimum_maximum_nights', 'maximum_maximum_nights', 'minimum_nights_avg_ntm', 'maximum_nights_avg_ntm',\n",
    "          'has_availability', 'availability_30', 'availability_60', 'availability_90', 'availability_365',\n",
    "          'number_of_reviews_ltm', 'number_of_reviews_l30d', 'review_scores_accuracy', 'review_scores_cleanliness',\n",
    "          'review_scores_checkin', 'review_scores_communication', 'review_scores_location', 'review_scores_value',\n",
    "          'calculated_host_listings_count', 'calculated_host_listings_count_entire_homes',\n",
    "          'calculated_host_listings_count_private_rooms', 'calculated_host_listings_count_shared_rooms']\n",
    "\n",
    "cleaning = data.drop(columns, axis=1)"
   ]
  },
  {
   "cell_type": "code",
   "execution_count": null,
   "id": "8f0c889a",
   "metadata": {},
   "outputs": [],
   "source": [
    "cleaning.host_since = cleaning.host_since.apply(lambda x: int(x[:4]))"
   ]
  },
  {
   "cell_type": "code",
   "execution_count": null,
   "id": "36eca6b7",
   "metadata": {},
   "outputs": [],
   "source": [
    "cleaning.drop('host_response_time', axis=1, inplace=True)\n",
    "cleaning.drop('host_response_rate', axis=1, inplace=True)\n",
    "cleaning.drop('host_acceptance_rate', axis=1, inplace=True)"
   ]
  },
  {
   "cell_type": "code",
   "execution_count": null,
   "id": "abbfc32f",
   "metadata": {},
   "outputs": [],
   "source": [
    "cleaning.host_is_superhost = cleaning.host_is_superhost.replace(['f', 't'], [0, 1])"
   ]
  },
  {
   "cell_type": "code",
   "execution_count": null,
   "id": "6ade9271",
   "metadata": {},
   "outputs": [],
   "source": [
    "cleaning.drop('host_neighbourhood', axis=1, inplace=True)"
   ]
  },
  {
   "cell_type": "code",
   "execution_count": null,
   "id": "f7608068",
   "metadata": {},
   "outputs": [],
   "source": [
    "def limpieza_lista(x):\n",
    "    x = x.lstrip(\"['\")\n",
    "    x = x.rstrip(\"']\")\n",
    "    x = x.split(\"', '\")\n",
    "    return len(x)\n",
    "\n",
    "cleaning.host_verifications = cleaning.host_verifications.apply(limpieza_lista)"
   ]
  },
  {
   "cell_type": "code",
   "execution_count": null,
   "id": "ecb6858e",
   "metadata": {},
   "outputs": [],
   "source": [
    "cleaning.drop('host_has_profile_pic', axis=1, inplace=True)"
   ]
  },
  {
   "cell_type": "code",
   "execution_count": null,
   "id": "5499bf1c",
   "metadata": {},
   "outputs": [],
   "source": [
    "cleaning.host_identity_verified = cleaning.host_identity_verified.replace(['f', 't'], [0, 1])"
   ]
  },
  {
   "cell_type": "code",
   "execution_count": null,
   "id": "cc1e80be",
   "metadata": {},
   "outputs": [],
   "source": [
    "barrio = pd.get_dummies(cleaning.neighbourhood_cleansed)\n",
    "cleaning = pd.concat([cleaning, barrio], axis=1)\n",
    "cleaning.drop('neighbourhood_cleansed', axis=1, inplace=True)"
   ]
  },
  {
   "cell_type": "code",
   "execution_count": null,
   "id": "272ce772",
   "metadata": {},
   "outputs": [],
   "source": [
    "room_type = pd.get_dummies(cleaning.room_type)\n",
    "cleaning = pd.concat([cleaning, room_type], axis=1)\n",
    "cleaning.drop('room_type', axis=1, inplace=True)"
   ]
  },
  {
   "cell_type": "code",
   "execution_count": null,
   "id": "7085306c",
   "metadata": {},
   "outputs": [],
   "source": [
    "cleaning.bathrooms_text.fillna('0.0', inplace=True)\n",
    "\n",
    "def baños_digit (x):\n",
    "    try:\n",
    "        digit = re.findall('\\d.?\\d?', x)\n",
    "        return float(digit[0])\n",
    "    except:\n",
    "        return 0.5 \n",
    "    \n",
    "cleaning.bathrooms_text = cleaning.bathrooms_text.apply(baños_digit)"
   ]
  },
  {
   "cell_type": "code",
   "execution_count": null,
   "id": "df9934a8",
   "metadata": {},
   "outputs": [],
   "source": [
    "def limpieza_lista2 (x):\n",
    "    x = x.lstrip('''[\"''')\n",
    "    x = x.rstrip('''\"]''')\n",
    "    x = x.split('''\", \"''')\n",
    "    return len(x)\n",
    "\n",
    "cleaning.amenities = cleaning.amenities.apply(limpieza_lista2)"
   ]
  },
  {
   "cell_type": "code",
   "execution_count": null,
   "id": "22a90eb0",
   "metadata": {},
   "outputs": [],
   "source": [
    "def reviews_date(x):\n",
    "    try:\n",
    "        x = int(x[:4])\n",
    "        return x\n",
    "    except:\n",
    "        x = 0     \n",
    "        return x\n",
    "        \n",
    "cleaning.first_review = cleaning.first_review.apply(reviews_date)\n",
    "\n",
    "cleaning.last_review = cleaning.last_review.apply(reviews_date)"
   ]
  },
  {
   "cell_type": "code",
   "execution_count": null,
   "id": "cc6ea1b3",
   "metadata": {},
   "outputs": [],
   "source": [
    "cleaning.review_scores_rating.fillna(0, inplace=True)"
   ]
  },
  {
   "cell_type": "code",
   "execution_count": null,
   "id": "8c438eab",
   "metadata": {},
   "outputs": [],
   "source": [
    "cleaning.instant_bookable = cleaning.instant_bookable.replace(['f', 't'], [0, 1])"
   ]
  },
  {
   "cell_type": "code",
   "execution_count": null,
   "id": "a200708a",
   "metadata": {},
   "outputs": [],
   "source": [
    "cleaning.reviews_per_month.fillna(0, inplace=True)"
   ]
  },
  {
   "cell_type": "code",
   "execution_count": null,
   "id": "da49f0bb",
   "metadata": {},
   "outputs": [],
   "source": [
    "cleaning.drop('id', axis=1, inplace=True)"
   ]
  },
  {
   "cell_type": "code",
   "execution_count": null,
   "id": "d9b9627b",
   "metadata": {},
   "outputs": [],
   "source": [
    "cleaning.drop(['last_review', 'first_review', 'bedrooms', 'beds'] , axis=1, inplace=True)"
   ]
  },
  {
   "cell_type": "code",
   "execution_count": null,
   "id": "64b714d4",
   "metadata": {},
   "outputs": [],
   "source": []
  },
  {
   "cell_type": "code",
   "execution_count": null,
   "id": "3b4a418a",
   "metadata": {},
   "outputs": [],
   "source": []
  }
 ],
 "metadata": {
  "kernelspec": {
   "display_name": "Python 3 (ipykernel)",
   "language": "python",
   "name": "python3"
  },
  "language_info": {
   "codemirror_mode": {
    "name": "ipython",
    "version": 3
   },
   "file_extension": ".py",
   "mimetype": "text/x-python",
   "name": "python",
   "nbconvert_exporter": "python",
   "pygments_lexer": "ipython3",
   "version": "3.9.7"
  }
 },
 "nbformat": 4,
 "nbformat_minor": 5
}
