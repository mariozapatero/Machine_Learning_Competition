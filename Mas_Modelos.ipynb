{
 "cells": [
  {
   "cell_type": "code",
   "execution_count": 2,
   "id": "6faebf0a",
   "metadata": {},
   "outputs": [],
   "source": [
    "import pandas as pd\n",
    "import numpy as np\n",
    "\n",
    "from scipy.stats import linregress\n",
    "\n",
    "import statsmodels.api as sm\n",
    "from statsmodels.formula.api import ols\n",
    "\n",
    "from sklearn.model_selection import train_test_split as tts"
   ]
  },
  {
   "cell_type": "code",
   "execution_count": 3,
   "id": "98ed2ac6",
   "metadata": {},
   "outputs": [],
   "source": [
    "data = pd.read_csv('data/clean_train.csv')"
   ]
  },
  {
   "cell_type": "code",
   "execution_count": 4,
   "id": "b7ddf4dd",
   "metadata": {},
   "outputs": [],
   "source": [
    "X = data.drop('price', axis=1)\n",
    "y = data.price"
   ]
  },
  {
   "cell_type": "code",
   "execution_count": 5,
   "id": "6487e6c9",
   "metadata": {},
   "outputs": [],
   "source": [
    "X_train, X_test, y_train, y_test = tts(X, y, test_size=0.2, train_size=0.8, random_state=42)"
   ]
  },
  {
   "cell_type": "code",
   "execution_count": 7,
   "id": "03b9115a",
   "metadata": {},
   "outputs": [
    {
     "data": {
      "text/plain": [
       "LinearRegression()"
      ]
     },
     "execution_count": 7,
     "metadata": {},
     "output_type": "execute_result"
    }
   ],
   "source": [
    "# modelo\n",
    "\n",
    "from sklearn.linear_model import LinearRegression as LinReg\n",
    "\n",
    "linreg=LinReg()\n",
    "\n",
    "linreg.fit(X_train, y_train)"
   ]
  },
  {
   "cell_type": "code",
   "execution_count": 8,
   "id": "ee655abc",
   "metadata": {},
   "outputs": [],
   "source": [
    "y_pred=linreg.predict(X_test)"
   ]
  },
  {
   "cell_type": "code",
   "execution_count": 9,
   "id": "89ab3c6d",
   "metadata": {},
   "outputs": [
    {
     "name": "stdout",
     "output_type": "stream",
     "text": [
      "Train: 0.1469047717456352\n",
      "Test: 0.3418211850621615\n"
     ]
    }
   ],
   "source": [
    "train_score=linreg.score(X_train, y_train)  # R2\n",
    "test_score=linreg.score(X_test, y_test)\n",
    "\n",
    "\n",
    "print('Train:', train_score)\n",
    "print('Test:', test_score)"
   ]
  },
  {
   "cell_type": "markdown",
   "id": "ca722e9d",
   "metadata": {},
   "source": [
    "### Super Train"
   ]
  },
  {
   "cell_type": "code",
   "execution_count": 37,
   "id": "441b4361",
   "metadata": {},
   "outputs": [],
   "source": [
    "testeo = pd.read_csv('data/clean_test.csv')"
   ]
  },
  {
   "cell_type": "code",
   "execution_count": 36,
   "id": "c57d4898",
   "metadata": {},
   "outputs": [
    {
     "data": {
      "text/plain": [
       "LinearRegression()"
      ]
     },
     "execution_count": 36,
     "metadata": {},
     "output_type": "execute_result"
    }
   ],
   "source": [
    "linreg.fit(X, y)"
   ]
  },
  {
   "cell_type": "code",
   "execution_count": 38,
   "id": "c4a1aa45",
   "metadata": {},
   "outputs": [],
   "source": [
    "y_pred=linreg.predict(testeo)"
   ]
  },
  {
   "cell_type": "code",
   "execution_count": 40,
   "id": "2a378a8f",
   "metadata": {},
   "outputs": [
    {
     "data": {
      "text/plain": [
       "array([ 57.89732881,  88.98273624, 145.01941786, ..., 205.20243388,\n",
       "       114.21932131, 154.53818118])"
      ]
     },
     "execution_count": 40,
     "metadata": {},
     "output_type": "execute_result"
    }
   ],
   "source": [
    "y_pred"
   ]
  },
  {
   "cell_type": "code",
   "execution_count": 41,
   "id": "e8643105",
   "metadata": {},
   "outputs": [],
   "source": [
    "sample = pd.read_csv('data/sample.csv')"
   ]
  },
  {
   "cell_type": "code",
   "execution_count": 44,
   "id": "fa08ea79",
   "metadata": {},
   "outputs": [],
   "source": [
    "sample['price'] = y_pred"
   ]
  },
  {
   "cell_type": "code",
   "execution_count": 47,
   "id": "86ce5e81",
   "metadata": {},
   "outputs": [],
   "source": [
    "sample.to_csv('data/submit_1.csv', index=False)"
   ]
  },
  {
   "cell_type": "markdown",
   "id": "c320de4d",
   "metadata": {},
   "source": [
    "# Lasso"
   ]
  },
  {
   "cell_type": "code",
   "execution_count": 10,
   "id": "e4cbc537",
   "metadata": {},
   "outputs": [],
   "source": [
    "from sklearn.linear_model import Lasso"
   ]
  },
  {
   "cell_type": "code",
   "execution_count": 11,
   "id": "2b7dfbbb",
   "metadata": {},
   "outputs": [
    {
     "name": "stdout",
     "output_type": "stream",
     "text": [
      "Train: 0.13976915847732785\n",
      "Test: 0.3335011589833955\n"
     ]
    }
   ],
   "source": [
    "# Lasso L1\n",
    "\n",
    "lasso=Lasso()\n",
    "lasso.fit(X_train, y_train)\n",
    "\n",
    "train_score=lasso.score(X_train, y_train)  \n",
    "test_score=lasso.score(X_test, y_test)\n",
    "\n",
    "\n",
    "print('Train:', train_score)\n",
    "print('Test:', test_score) "
   ]
  },
  {
   "cell_type": "markdown",
   "id": "574379b5",
   "metadata": {},
   "source": [
    "# Ridge"
   ]
  },
  {
   "cell_type": "code",
   "execution_count": 12,
   "id": "a701b4bf",
   "metadata": {},
   "outputs": [],
   "source": [
    "from sklearn.linear_model import Ridge"
   ]
  },
  {
   "cell_type": "code",
   "execution_count": 13,
   "id": "37ac45ff",
   "metadata": {},
   "outputs": [
    {
     "name": "stdout",
     "output_type": "stream",
     "text": [
      "Train: 0.14633150863746036\n",
      "Test: 0.33976228024303956\n"
     ]
    }
   ],
   "source": [
    "# Ridge L2\n",
    "\n",
    "ridge=Ridge()\n",
    "ridge.fit(X_train, y_train)\n",
    "\n",
    "train_score=ridge.score(X_train, y_train)  \n",
    "test_score=ridge.score(X_test, y_test)\n",
    "\n",
    "\n",
    "print('Train:', train_score)\n",
    "print('Test:', test_score) "
   ]
  },
  {
   "cell_type": "markdown",
   "id": "0eda61be",
   "metadata": {},
   "source": [
    "# ElasticNet"
   ]
  },
  {
   "cell_type": "code",
   "execution_count": 14,
   "id": "39917a4e",
   "metadata": {},
   "outputs": [],
   "source": [
    "from sklearn.linear_model import ElasticNet"
   ]
  },
  {
   "cell_type": "code",
   "execution_count": 15,
   "id": "d8232224",
   "metadata": {},
   "outputs": [
    {
     "name": "stdout",
     "output_type": "stream",
     "text": [
      "Train: 0.11845579662153483\n",
      "Test: 0.3112274672804427\n"
     ]
    }
   ],
   "source": [
    "# ElasticNet  L1+L2\n",
    "\n",
    "elastic=ElasticNet()\n",
    "elastic.fit(X_train, y_train)\n",
    "\n",
    "train_score=elastic.score(X_train, y_train)  \n",
    "test_score=elastic.score(X_test, y_test)\n",
    "\n",
    "\n",
    "print('Train:', train_score)\n",
    "print('Test:', test_score) "
   ]
  },
  {
   "cell_type": "markdown",
   "id": "8f562d18",
   "metadata": {},
   "source": [
    "# Máquina de Soporte Vectorial"
   ]
  },
  {
   "cell_type": "code",
   "execution_count": 16,
   "id": "58e75203",
   "metadata": {},
   "outputs": [],
   "source": [
    "from sklearn.svm import SVR"
   ]
  },
  {
   "cell_type": "code",
   "execution_count": 17,
   "id": "55e64e3d",
   "metadata": {},
   "outputs": [
    {
     "name": "stdout",
     "output_type": "stream",
     "text": [
      "Train: -0.01764617275274416\n",
      "Test: -0.03488028344823624\n"
     ]
    }
   ],
   "source": [
    "svr=SVR(kernel='poly', degree=10)\n",
    "svr.fit(X_train, y_train)\n",
    "\n",
    "y_pred=svr.predict(X_test)\n",
    "\n",
    "train_score=svr.score(X_train, y_train)  \n",
    "test_score=svr.score(X_test, y_test)\n",
    "\n",
    "\n",
    "print('Train:', train_score)\n",
    "print('Test:', test_score) "
   ]
  },
  {
   "cell_type": "markdown",
   "id": "5729eda7",
   "metadata": {},
   "source": [
    "# Random Forest"
   ]
  },
  {
   "cell_type": "code",
   "execution_count": 18,
   "id": "d167c422",
   "metadata": {},
   "outputs": [],
   "source": [
    "from sklearn.ensemble import RandomForestRegressor as RFR"
   ]
  },
  {
   "cell_type": "code",
   "execution_count": 35,
   "id": "ab7076c5",
   "metadata": {},
   "outputs": [
    {
     "name": "stdout",
     "output_type": "stream",
     "text": [
      "Train: 0.8669141073187306\n",
      "Test: -1.0544775939584903\n"
     ]
    }
   ],
   "source": [
    "rfr=RFR(n_estimators=132)\n",
    "rfr.fit(X_train, y_train)\n",
    "\n",
    "y_pred=rfr.predict(X_test)\n",
    "\n",
    "train_score=rfr.score(X_train, y_train)  \n",
    "test_score=rfr.score(X_test, y_test)\n",
    "\n",
    "\n",
    "print('Train:', train_score)\n",
    "print('Test:', test_score)"
   ]
  },
  {
   "cell_type": "code",
   "execution_count": 19,
   "id": "bf078637",
   "metadata": {},
   "outputs": [],
   "source": [
    "def bosque(n):\n",
    "    rfr=RFR(n_estimators=n)\n",
    "    rfr.fit(X_train, y_train)\n",
    "\n",
    "    y_pred=rfr.predict(X_test)\n",
    "\n",
    "    train_score=rfr.score(X_train, y_train)  \n",
    "    test_score=rfr.score(X_test, y_test)\n",
    "\n",
    "\n",
    "    print('Train:', train_score)\n",
    "    print('Test:', test_score) "
   ]
  },
  {
   "cell_type": "code",
   "execution_count": 20,
   "id": "45e4a350",
   "metadata": {},
   "outputs": [
    {
     "name": "stdout",
     "output_type": "stream",
     "text": [
      "Train: 0.6546195242391828\n",
      "Test: 0.021417141605453605\n",
      "2 None\n",
      "Train: 0.8152195943161763\n",
      "Test: -1.8257383777994978\n",
      "5 None\n",
      "Train: 0.862402994383891\n",
      "Test: -0.829704613507048\n",
      "50 None\n",
      "Train: 0.870111047540846\n",
      "Test: -1.05153625709786\n",
      "100 None\n",
      "Train: 0.8657210084823328\n",
      "Test: -1.358264790089903\n",
      "200 None\n"
     ]
    }
   ],
   "source": [
    "for e in [2, 5, 50, 100, 200]:\n",
    "    print(e, bosque(e))"
   ]
  }
 ],
 "metadata": {
  "kernelspec": {
   "display_name": "Python 3 (ipykernel)",
   "language": "python",
   "name": "python3"
  },
  "language_info": {
   "codemirror_mode": {
    "name": "ipython",
    "version": 3
   },
   "file_extension": ".py",
   "mimetype": "text/x-python",
   "name": "python",
   "nbconvert_exporter": "python",
   "pygments_lexer": "ipython3",
   "version": "3.9.7"
  }
 },
 "nbformat": 4,
 "nbformat_minor": 5
}
