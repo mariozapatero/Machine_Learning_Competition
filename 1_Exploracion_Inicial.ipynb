{
 "cells": [
  {
   "cell_type": "markdown",
   "id": "e1653cec",
   "metadata": {},
   "source": [
    "# Exploración Inicial"
   ]
  },
  {
   "cell_type": "code",
   "execution_count": 1,
   "id": "d9c7b220",
   "metadata": {},
   "outputs": [],
   "source": [
    "import pandas as pd\n",
    "\n",
    "data = pd.read_csv('data/train.csv')"
   ]
  },
  {
   "cell_type": "code",
   "execution_count": 5,
   "id": "6c7d2f7d",
   "metadata": {},
   "outputs": [],
   "source": [
    "pd.options.display.max_columns = None"
   ]
  },
  {
   "cell_type": "markdown",
   "id": "15b79068",
   "metadata": {},
   "source": [
    "No proporcionan un dataset con datos referentes a pisos de Airbnb.\n",
    "\n",
    "Las diferentes características han sido estuadiadas de antemano para saber qué es lo que nos indica cada columna, un aspecto fundamental a la hora de tratar correctamente los datos."
   ]
  },
  {
   "cell_type": "code",
   "execution_count": 2,
   "id": "9e334968",
   "metadata": {},
   "outputs": [
    {
     "data": {
      "text/plain": [
       "(4167, 74)"
      ]
     },
     "execution_count": 2,
     "metadata": {},
     "output_type": "execute_result"
    }
   ],
   "source": [
    "data.shape"
   ]
  },
  {
   "cell_type": "markdown",
   "id": "7c094716",
   "metadata": {},
   "source": [
    "### Descartamos columnas en función de su contenido."
   ]
  },
  {
   "cell_type": "code",
   "execution_count": 3,
   "id": "29b008ef",
   "metadata": {},
   "outputs": [
    {
     "name": "stdout",
     "output_type": "stream",
     "text": [
      "<class 'pandas.core.frame.DataFrame'>\n",
      "RangeIndex: 4167 entries, 0 to 4166\n",
      "Data columns (total 74 columns):\n",
      " #   Column                                        Non-Null Count  Dtype  \n",
      "---  ------                                        --------------  -----  \n",
      " 0   id                                            4167 non-null   int64  \n",
      " 1   listing_url                                   4167 non-null   object \n",
      " 2   scrape_id                                     4167 non-null   int64  \n",
      " 3   last_scraped                                  4167 non-null   object \n",
      " 4   name                                          4167 non-null   object \n",
      " 5   description                                   4159 non-null   object \n",
      " 6   neighborhood_overview                         3004 non-null   object \n",
      " 7   picture_url                                   4167 non-null   object \n",
      " 8   host_id                                       4167 non-null   int64  \n",
      " 9   host_url                                      4167 non-null   object \n",
      " 10  host_name                                     4167 non-null   object \n",
      " 11  host_since                                    4167 non-null   object \n",
      " 12  host_location                                 4155 non-null   object \n",
      " 13  host_about                                    2655 non-null   object \n",
      " 14  host_response_time                            2754 non-null   object \n",
      " 15  host_response_rate                            2754 non-null   object \n",
      " 16  host_acceptance_rate                          3075 non-null   object \n",
      " 17  host_is_superhost                             4167 non-null   object \n",
      " 18  host_thumbnail_url                            4167 non-null   object \n",
      " 19  host_picture_url                              4167 non-null   object \n",
      " 20  host_neighbourhood                            2381 non-null   object \n",
      " 21  host_listings_count                           4167 non-null   int64  \n",
      " 22  host_total_listings_count                     4167 non-null   int64  \n",
      " 23  host_verifications                            4167 non-null   object \n",
      " 24  host_has_profile_pic                          4167 non-null   object \n",
      " 25  host_identity_verified                        4167 non-null   object \n",
      " 26  neighbourhood                                 3004 non-null   object \n",
      " 27  neighbourhood_cleansed                        4167 non-null   object \n",
      " 28  neighbourhood_group_cleansed                  0 non-null      float64\n",
      " 29  latitude                                      4167 non-null   float64\n",
      " 30  longitude                                     4167 non-null   float64\n",
      " 31  property_type                                 4167 non-null   object \n",
      " 32  room_type                                     4167 non-null   object \n",
      " 33  accommodates                                  4167 non-null   int64  \n",
      " 34  bathrooms                                     0 non-null      float64\n",
      " 35  bathrooms_text                                4159 non-null   object \n",
      " 36  bedrooms                                      3914 non-null   float64\n",
      " 37  beds                                          3993 non-null   float64\n",
      " 38  amenities                                     4167 non-null   object \n",
      " 39  price                                         4167 non-null   float64\n",
      " 40  minimum_nights                                4167 non-null   int64  \n",
      " 41  maximum_nights                                4167 non-null   int64  \n",
      " 42  minimum_minimum_nights                        4166 non-null   float64\n",
      " 43  maximum_minimum_nights                        4166 non-null   float64\n",
      " 44  minimum_maximum_nights                        4166 non-null   float64\n",
      " 45  maximum_maximum_nights                        4166 non-null   float64\n",
      " 46  minimum_nights_avg_ntm                        4166 non-null   float64\n",
      " 47  maximum_nights_avg_ntm                        4166 non-null   float64\n",
      " 48  calendar_updated                              0 non-null      float64\n",
      " 49  has_availability                              4167 non-null   object \n",
      " 50  availability_30                               4167 non-null   int64  \n",
      " 51  availability_60                               4167 non-null   int64  \n",
      " 52  availability_90                               4167 non-null   int64  \n",
      " 53  availability_365                              4167 non-null   int64  \n",
      " 54  calendar_last_scraped                         4167 non-null   object \n",
      " 55  number_of_reviews                             4167 non-null   int64  \n",
      " 56  number_of_reviews_ltm                         4167 non-null   int64  \n",
      " 57  number_of_reviews_l30d                        4167 non-null   int64  \n",
      " 58  first_review                                  3790 non-null   object \n",
      " 59  last_review                                   3790 non-null   object \n",
      " 60  review_scores_rating                          3790 non-null   float64\n",
      " 61  review_scores_accuracy                        3782 non-null   float64\n",
      " 62  review_scores_cleanliness                     3782 non-null   float64\n",
      " 63  review_scores_checkin                         3782 non-null   float64\n",
      " 64  review_scores_communication                   3782 non-null   float64\n",
      " 65  review_scores_location                        3782 non-null   float64\n",
      " 66  review_scores_value                           3782 non-null   float64\n",
      " 67  license                                       4135 non-null   object \n",
      " 68  instant_bookable                              4167 non-null   object \n",
      " 69  calculated_host_listings_count                4167 non-null   int64  \n",
      " 70  calculated_host_listings_count_entire_homes   4167 non-null   int64  \n",
      " 71  calculated_host_listings_count_private_rooms  4167 non-null   int64  \n",
      " 72  calculated_host_listings_count_shared_rooms   4167 non-null   int64  \n",
      " 73  reviews_per_month                             3790 non-null   float64\n",
      "dtypes: float64(22), int64(19), object(33)\n",
      "memory usage: 2.4+ MB\n"
     ]
    }
   ],
   "source": [
    "data.info()"
   ]
  },
  {
   "cell_type": "markdown",
   "id": "faa923c9",
   "metadata": {},
   "source": [
    "Para empezar, nos fijamos en que las columnas ya vienen con nombres adecuados para trabajar con ellas (sin espacios o caracteres que nos supongan problemas), por lo que no tendremos que hacer nada en este sentido.\n",
    "\n",
    "En la descripción general de estas columnas ya identificamos 3 columnas con el 100% de datos tipo NaN. Lo primero que haremos será borrar estas columnas puesto que no aportan absolutamente nada (son todo valores nulos, es decir, son columnas vacías>).\n",
    "\n",
    "Columnas **eliminadas** por la enorme cantidad de valores tipo **NaN** que contienen:\n",
    "- **'neighbourhood_group_cleansed'.**.\n",
    "- **'bathrooms'.**\n",
    "- **'calendar_updated'.**\n",
    "\n",
    "\n",
    "También encontramos otras columnas con una proporción elevada de valores nulos. No obstante, la decisión no es tan clara como en los casos anteriores, por lo que profundizaremos un poco en cada una de ellas. Estas columnas quedarán a la espera hasta que estudiemos mejor la información que nos aportan y tomemos una decisión."
   ]
  },
  {
   "cell_type": "markdown",
   "id": "5022fb14",
   "metadata": {},
   "source": [
    "Por otro lado, la información aportada por los datos de cada columna será el criterio fundamental por el cual decidamos descartarlas o mantenerlas. Esto ha sido estudiado de antemano (qué es lo que nos indica cada columna), pero en algunos casos no queda del todo claro si nos aportan valor o no, por lo que deberemos llevar a cabo un estudio más profundo que se incorpora al notebook de limpieza de datos. Es decir, primero eliminaremos las columnas que claramente no aporten ningún valor al proyecto y, las que estén en duda, se irán eliminando sobre la marcha si finalmente fuese conveniente.\n",
    "\n",
    "Columnas **eliminadas** de manera directa por la **información aportada** en cada una de ellas (no aportan valor al proyecto; básicamente se coresponden con urls o ids):\n",
    "- **'listing_url'.**\n",
    "- **'scrape_id'.**\n",
    "- **'last_scraped'.**\n",
    "- **'picture_url'.**\n",
    "- **'host_id'.**\n",
    "- **'host_url'.**\n",
    "- **'host_thumbnail_url'.**\n",
    "- **'host_picture_url\t'.**\n",
    "- **'calendar_last_scraped'.**\n",
    "- **'license'.**"
   ]
  },
  {
   "cell_type": "markdown",
   "id": "f04562d7",
   "metadata": {},
   "source": [
    "Llegados a este punto, ya hemos comprendido de manera general qué es lo que nos aporta cada columna y hemos descartado un total de 13 columnas de manera directa (antes de profundizar en los datos). Lo primero que haremos será eliminar estas columnas y, a partir de ahí, empezaremos a trabajar con los datos para comprobar el valor que aportan al proyecto y las transformaciones necesarias para alcanzar nuestros objetivos.\n",
    "\n",
    "Este proceso queda desarrollado en el notebook de data cleaning, donde haremos una exploración en produndidas y llevaremos a cabo los procesos de limpieza que consideremos oportunos."
   ]
  }
 ],
 "metadata": {
  "kernelspec": {
   "display_name": "Python 3 (ipykernel)",
   "language": "python",
   "name": "python3"
  },
  "language_info": {
   "codemirror_mode": {
    "name": "ipython",
    "version": 3
   },
   "file_extension": ".py",
   "mimetype": "text/x-python",
   "name": "python",
   "nbconvert_exporter": "python",
   "pygments_lexer": "ipython3",
   "version": "3.9.7"
  }
 },
 "nbformat": 4,
 "nbformat_minor": 5
}
