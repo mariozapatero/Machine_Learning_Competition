{
 "cells": [
  {
   "cell_type": "markdown",
   "id": "de542021",
   "metadata": {},
   "source": [
    "En este notebook probaremos modelos transformando el dataset limpio (eliminaremos outliers y descartaremos dimesiones)."
   ]
  },
  {
   "cell_type": "code",
   "execution_count": 1,
   "id": "cd3a06d3",
   "metadata": {},
   "outputs": [],
   "source": [
    "import pandas as pd\n",
    "import numpy as np\n",
    "\n",
    "from sklearn.model_selection import train_test_split as tts"
   ]
  },
  {
   "cell_type": "code",
   "execution_count": 2,
   "id": "5fd5f474",
   "metadata": {},
   "outputs": [],
   "source": [
    "from scipy.stats import linregress\n",
    "\n",
    "import statsmodels.api as sm\n",
    "from statsmodels.formula.api import ols"
   ]
  },
  {
   "cell_type": "code",
   "execution_count": 3,
   "id": "87846313",
   "metadata": {},
   "outputs": [],
   "source": [
    "data = pd.read_csv('data/clean_train.csv')"
   ]
  },
  {
   "cell_type": "markdown",
   "id": "5487c3ce",
   "metadata": {},
   "source": [
    "Comprobamos **valores atípicos** en el precio."
   ]
  },
  {
   "cell_type": "code",
   "execution_count": 4,
   "id": "702f5861",
   "metadata": {},
   "outputs": [
    {
     "data": {
      "text/plain": [
       "array([ 87., 250., 151., ..., 114., 416., 292.])"
      ]
     },
     "execution_count": 4,
     "metadata": {},
     "output_type": "execute_result"
    }
   ],
   "source": [
    "data.price.values"
   ]
  },
  {
   "cell_type": "code",
   "execution_count": 5,
   "id": "6cc3b7e2",
   "metadata": {},
   "outputs": [],
   "source": [
    "precios = []\n",
    "\n",
    "for e in data.price.values:\n",
    "    precios.append(e)"
   ]
  },
  {
   "cell_type": "code",
   "execution_count": 6,
   "id": "0bced183",
   "metadata": {},
   "outputs": [
    {
     "data": {
      "text/plain": [
       "[0.0, 0.0, 0.0, 0.0, 20.0, 22.0, 22.0, 22.0, 24.0, 24.0]"
      ]
     },
     "execution_count": 6,
     "metadata": {},
     "output_type": "execute_result"
    }
   ],
   "source": [
    "precios.sort()\n",
    "\n",
    "precios[:10] \n",
    "\n",
    "# Encontramos 4 ceros que pueden provocar desajustes en el entrenamiento del modelo.\n",
    "\n",
    "# Eliminamos estos registros."
   ]
  },
  {
   "cell_type": "code",
   "execution_count": 7,
   "id": "205408d2",
   "metadata": {},
   "outputs": [
    {
     "data": {
      "text/plain": [
       "[6477.0,\n",
       " 6477.0,\n",
       " 1818.0,\n",
       " 1400.0,\n",
       " 1400.0,\n",
       " 1399.0,\n",
       " 1190.0,\n",
       " 1057.0,\n",
       " 1000.0,\n",
       " 999.0,\n",
       " 981.0,\n",
       " 950.0,\n",
       " 904.0,\n",
       " 890.0,\n",
       " 861.0]"
      ]
     },
     "execution_count": 7,
     "metadata": {},
     "output_type": "execute_result"
    }
   ],
   "source": [
    "precios.sort(reverse=True)\n",
    "\n",
    "precios[:15]\n",
    "\n",
    "# Encontramos dos valores muy elevados que pueden provocar desajustes en el entrenamiento del modelo.\n",
    "\n",
    "# Eliminamos estos registros."
   ]
  },
  {
   "cell_type": "code",
   "execution_count": 8,
   "id": "89c36036",
   "metadata": {},
   "outputs": [],
   "source": [
    "data = data.drop(data[data.price > 6000].index)"
   ]
  },
  {
   "cell_type": "code",
   "execution_count": 9,
   "id": "ee8d4242",
   "metadata": {},
   "outputs": [
    {
     "data": {
      "text/plain": [
       "[1818.0, 1400.0, 1400.0, 1399.0, 1190.0]"
      ]
     },
     "execution_count": 9,
     "metadata": {},
     "output_type": "execute_result"
    }
   ],
   "source": [
    "# Comprobamos que se han eliminado.\n",
    "\n",
    "precios = []\n",
    "\n",
    "for e in data.price.values:\n",
    "    precios.append(e)\n",
    "\n",
    "precios.sort(reverse=True)\n",
    "\n",
    "precios[:5]"
   ]
  },
  {
   "cell_type": "code",
   "execution_count": 10,
   "id": "7caaed3b",
   "metadata": {},
   "outputs": [],
   "source": [
    "data = data.drop(data[data.price == 0].index)"
   ]
  },
  {
   "cell_type": "code",
   "execution_count": 11,
   "id": "fe1455fc",
   "metadata": {},
   "outputs": [
    {
     "data": {
      "text/plain": [
       "[20.0, 22.0, 22.0, 22.0, 24.0]"
      ]
     },
     "execution_count": 11,
     "metadata": {},
     "output_type": "execute_result"
    }
   ],
   "source": [
    "# Comprobamos que se han eliminado donde price = 0.\n",
    "\n",
    "precios = []\n",
    "\n",
    "for e in data.price.values:\n",
    "    precios.append(e)\n",
    "\n",
    "precios.sort()\n",
    "\n",
    "precios[:5]"
   ]
  },
  {
   "cell_type": "markdown",
   "id": "943ec74f",
   "metadata": {},
   "source": [
    "Ya tenemos el dataset sin registros donde el precio puede desajustar el modelo.\n",
    "\n",
    "Ahora analizaremos cuáles son las **dimensiones** de mayor importancia para descartar aquellas que no aporten suficiente valor al modelo. Esto lo haremos a través del modelo XGBoost, el cual nos proporciona la importancia relativa de las características."
   ]
  },
  {
   "cell_type": "code",
   "execution_count": 12,
   "id": "4367b514",
   "metadata": {},
   "outputs": [],
   "source": [
    "X = data.drop('price', axis=1)\n",
    "y = data.price\n",
    "\n",
    "X_train, X_test, y_train, y_test = tts(X, y, test_size=0.2, train_size=0.8, random_state=42)"
   ]
  },
  {
   "cell_type": "code",
   "execution_count": 15,
   "id": "eaa2c0e8",
   "metadata": {},
   "outputs": [
    {
     "name": "stderr",
     "output_type": "stream",
     "text": [
      "/home/mario/miniconda3/envs/ironhack/lib/python3.8/site-packages/xgboost/compat.py:36: FutureWarning: pandas.Int64Index is deprecated and will be removed from pandas in a future version. Use pandas.Index with the appropriate dtype instead.\n",
      "  from pandas import MultiIndex, Int64Index\n"
     ]
    }
   ],
   "source": [
    "from xgboost import XGBRegressor\n",
    "from matplotlib import pyplot"
   ]
  },
  {
   "cell_type": "code",
   "execution_count": 17,
   "id": "4a8151e8",
   "metadata": {},
   "outputs": [
    {
     "name": "stderr",
     "output_type": "stream",
     "text": [
      "/home/mario/miniconda3/envs/ironhack/lib/python3.8/site-packages/xgboost/data.py:262: FutureWarning: pandas.Int64Index is deprecated and will be removed from pandas in a future version. Use pandas.Index with the appropriate dtype instead.\n",
      "  elif isinstance(data.columns, (pd.Int64Index, pd.RangeIndex)):\n"
     ]
    },
    {
     "data": {
      "text/plain": [
       "XGBRegressor(base_score=0.5, booster='gbtree', colsample_bylevel=1,\n",
       "             colsample_bynode=1, colsample_bytree=1, enable_categorical=False,\n",
       "             gamma=0, gpu_id=-1, importance_type=None,\n",
       "             interaction_constraints='', learning_rate=0.300000012,\n",
       "             max_delta_step=0, max_depth=6, min_child_weight=1, missing=nan,\n",
       "             monotone_constraints='()', n_estimators=100, n_jobs=8,\n",
       "             num_parallel_tree=1, predictor='auto', random_state=0, reg_alpha=0,\n",
       "             reg_lambda=1, scale_pos_weight=1, subsample=1, tree_method='exact',\n",
       "             validate_parameters=1, verbosity=None)"
      ]
     },
     "execution_count": 17,
     "metadata": {},
     "output_type": "execute_result"
    }
   ],
   "source": [
    "model = XGBRegressor()\n",
    "model.fit(X, y)"
   ]
  },
  {
   "cell_type": "code",
   "execution_count": 135,
   "id": "999958a5",
   "metadata": {},
   "outputs": [
    {
     "name": "stdout",
     "output_type": "stream",
     "text": [
      "[0.01030624 0.00816413 0.01446615 0.01726599 0.01842247 0.01434449\n",
      " 0.01718605 0.16427329 0.03781392 0.02325239 0.01596333 0.01483155\n",
      " 0.01223045 0.00922952 0.01525213 0.00324664 0.01313893 0.00530087\n",
      " 0.04347727 0.02556247 0.07519017 0.         0.00616697 0.01537455\n",
      " 0.         0.         0.00207077 0.00262358 0.05322443 0.00628731\n",
      " 0.00972577 0.02325671 0.0206045  0.00567559 0.00353627 0.02388413\n",
      " 0.00863596 0.13370122 0.02447254 0.10069142 0.00114981]\n"
     ]
    }
   ],
   "source": [
    "# feature importance\n",
    "print(model.feature_importances_)"
   ]
  },
  {
   "cell_type": "code",
   "execution_count": 29,
   "id": "40ffee47",
   "metadata": {},
   "outputs": [
    {
     "data": {
      "image/png": "[encoded data removed]",
      "text/plain": [
       "<Figure size 1800x1800 with 1 Axes>"
      ]
     },
     "metadata": {
      "needs_background": "light"
     },
     "output_type": "display_data"
    }
   ],
   "source": [
    "ax = plot_importance(model)\n",
    "fig = ax.figure\n",
    "fig.set_size_inches(25., 25.)"
   ]
  },
  {
   "cell_type": "markdown",
   "id": "11de9138",
   "metadata": {},
   "source": [
    "Observamos que la importancia de las características (medida en F score) cambia muchísimo de unas a otras. \n",
    "\n",
    "Lo que haremos será quedarnos con aquellas que tienen mayor importancia y descartar las que no lo tienen (si todo va bien, esto debería mejorar la calidad de nuestro modelo)."
   ]
  },
  {
   "cell_type": "markdown",
   "id": "6bfd6a13",
   "metadata": {},
   "source": [
    "Probamos estableciendo un umbral de F Score > 65.\n",
    "\n",
    "Filtramos el dataset y utilizamos el modelo sobre el reajuste."
   ]
  },
  {
   "cell_type": "code",
   "execution_count": 54,
   "id": "75097c43",
   "metadata": {},
   "outputs": [],
   "source": [
    "umbral_65 = data[['latitude', 'longitude', 'host_since', 'amenities', 'reviews_per_month',\n",
    "                   'number_of_reviews', 'host_verifications', 'host_total_listings_count',\n",
    "                   'accommodates', 'review_scores_rating', 'minimum_nights', 'bathrooms_text', 'host_is_superhost',\n",
    "                   'price']]"
   ]
  },
  {
   "cell_type": "code",
   "execution_count": 46,
   "id": "cd9ebab9",
   "metadata": {},
   "outputs": [],
   "source": [
    "def regre(modelo):\n",
    "    \n",
    "    modelo.fit(X_train, y_train)\n",
    "    \n",
    "    train_score=modelo.score(X_train, y_train)  # R2\n",
    "    test_score=modelo.score(X_test, y_test)\n",
    "    \n",
    "    print(modelo)\n",
    "    print('Train R2:', train_score)\n",
    "    print('Test R2:', test_score)\n",
    "    \n",
    "    return modelo"
   ]
  },
  {
   "cell_type": "code",
   "execution_count": 47,
   "id": "91a8b817",
   "metadata": {
    "scrolled": true
   },
   "outputs": [
    {
     "name": "stderr",
     "output_type": "stream",
     "text": [
      "/home/mario/miniconda3/envs/ironhack/lib/python3.8/site-packages/xgboost/data.py:262: FutureWarning: pandas.Int64Index is deprecated and will be removed from pandas in a future version. Use pandas.Index with the appropriate dtype instead.\n",
      "  elif isinstance(data.columns, (pd.Int64Index, pd.RangeIndex)):\n"
     ]
    },
    {
     "name": "stdout",
     "output_type": "stream",
     "text": [
      "XGBRegressor(base_score=0.5, booster='gbtree', colsample_bylevel=1,\n",
      "             colsample_bynode=1, colsample_bytree=1, enable_categorical=False,\n",
      "             gamma=0, gpu_id=-1, importance_type=None,\n",
      "             interaction_constraints='', learning_rate=0.300000012,\n",
      "             max_delta_step=0, max_depth=6, min_child_weight=1, missing=nan,\n",
      "             monotone_constraints='()', n_estimators=100, n_jobs=8,\n",
      "             num_parallel_tree=1, predictor='auto', random_state=0, reg_alpha=0,\n",
      "             reg_lambda=1, scale_pos_weight=1, subsample=1, tree_method='exact',\n",
      "             validate_parameters=1, verbosity=None)\n",
      "Train R2: 0.9603692472867917\n",
      "Test R2: 0.33105184819507605\n"
     ]
    },
    {
     "name": "stderr",
     "output_type": "stream",
     "text": [
      "/home/mario/miniconda3/envs/ironhack/lib/python3.8/site-packages/xgboost/data.py:262: FutureWarning: pandas.Int64Index is deprecated and will be removed from pandas in a future version. Use pandas.Index with the appropriate dtype instead.\n",
      "  elif isinstance(data.columns, (pd.Int64Index, pd.RangeIndex)):\n"
     ]
    }
   ],
   "source": [
    "# Probamos XGBR sobre el dataset original.\n",
    "\n",
    "xgbr = XGBRegressor()\n",
    "\n",
    "xgbr = regre(xgbr) "
   ]
  },
  {
   "cell_type": "code",
   "execution_count": 55,
   "id": "6da9d8a8",
   "metadata": {},
   "outputs": [],
   "source": [
    "# Probamos XGBR sobre el nuevo dataset.\n",
    "\n",
    "X2 = umbral_65.drop('price', axis=1)\n",
    "y2 = umbral_65.price\n",
    "\n",
    "X2_train, X2_test, y2_train, y2_test = tts(X2, y2, test_size=0.2, train_size=0.8, random_state=42)"
   ]
  },
  {
   "cell_type": "code",
   "execution_count": 52,
   "id": "b4675fe3",
   "metadata": {},
   "outputs": [],
   "source": [
    "def regre2(modelo):\n",
    "    \n",
    "    modelo.fit(X2_train, y2_train)\n",
    "    \n",
    "    train_score=modelo.score(X2_train, y2_train)  # R2\n",
    "    test_score=modelo.score(X2_test, y2_test)\n",
    "    \n",
    "    print(modelo)\n",
    "    print('Train R2:', train_score)\n",
    "    print('Test R2:', test_score)\n",
    "    \n",
    "    return modelo"
   ]
  },
  {
   "cell_type": "code",
   "execution_count": 56,
   "id": "5578d86c",
   "metadata": {},
   "outputs": [
    {
     "name": "stderr",
     "output_type": "stream",
     "text": [
      "/home/mario/miniconda3/envs/ironhack/lib/python3.8/site-packages/xgboost/data.py:262: FutureWarning: pandas.Int64Index is deprecated and will be removed from pandas in a future version. Use pandas.Index with the appropriate dtype instead.\n",
      "  elif isinstance(data.columns, (pd.Int64Index, pd.RangeIndex)):\n"
     ]
    },
    {
     "name": "stdout",
     "output_type": "stream",
     "text": [
      "XGBRegressor(base_score=0.5, booster='gbtree', colsample_bylevel=1,\n",
      "             colsample_bynode=1, colsample_bytree=1, enable_categorical=False,\n",
      "             gamma=0, gpu_id=-1, importance_type=None,\n",
      "             interaction_constraints='', learning_rate=0.300000012,\n",
      "             max_delta_step=0, max_depth=6, min_child_weight=1, missing=nan,\n",
      "             monotone_constraints='()', n_estimators=100, n_jobs=8,\n",
      "             num_parallel_tree=1, predictor='auto', random_state=0, reg_alpha=0,\n",
      "             reg_lambda=1, scale_pos_weight=1, subsample=1, tree_method='exact',\n",
      "             validate_parameters=1, verbosity=None)\n",
      "Train R2: 0.9541157207842486\n",
      "Test R2: 0.3193772145103273\n"
     ]
    },
    {
     "name": "stderr",
     "output_type": "stream",
     "text": [
      "/home/mario/miniconda3/envs/ironhack/lib/python3.8/site-packages/xgboost/data.py:262: FutureWarning: pandas.Int64Index is deprecated and will be removed from pandas in a future version. Use pandas.Index with the appropriate dtype instead.\n",
      "  elif isinstance(data.columns, (pd.Int64Index, pd.RangeIndex)):\n"
     ]
    }
   ],
   "source": [
    "xgbr = XGBRegressor()\n",
    "\n",
    "xgbr = regre2(xgbr) "
   ]
  },
  {
   "cell_type": "markdown",
   "id": "dd09e78e",
   "metadata": {},
   "source": [
    "No obtenemos mejoras en este modelo, pero es posible que si lo hagamos en otros.\n",
    "\n",
    "Probaremos a meter este dataset en H2O para ver si obtenemos algún modelo interesante (mejor a los que ya tenemos)."
   ]
  },
  {
   "cell_type": "code",
   "execution_count": 57,
   "id": "c93d538e",
   "metadata": {},
   "outputs": [],
   "source": [
    "# Exportamos el dataset.\n",
    "\n",
    "umbral_65.to_csv('data/train_umbralF_65.csv', index=False)"
   ]
  },
  {
   "cell_type": "markdown",
   "id": "6aff72c9",
   "metadata": {},
   "source": [
    "Probamos h2o sobre el nuevo dataset."
   ]
  },
  {
   "cell_type": "code",
   "execution_count": 60,
   "id": "288917ff",
   "metadata": {},
   "outputs": [],
   "source": [
    "data_h20 = pd.read_csv('data/train_umbralF_65.csv')"
   ]
  },
  {
   "cell_type": "code",
   "execution_count": 58,
   "id": "395f4293",
   "metadata": {},
   "outputs": [],
   "source": [
    "import h2o\n",
    "\n",
    "from h2o.automl import H2OAutoML"
   ]
  },
  {
   "cell_type": "code",
   "execution_count": 59,
   "id": "de052143",
   "metadata": {},
   "outputs": [
    {
     "name": "stdout",
     "output_type": "stream",
     "text": [
      "Checking whether there is an H2O instance running at http://localhost:54321 ..... not found.\n",
      "Attempting to start a local H2O server...\n",
      "  Java Version: openjdk version \"11.0.13\" 2021-10-19; OpenJDK Runtime Environment (build 11.0.13+8-Ubuntu-0ubuntu1.20.04); OpenJDK 64-Bit Server VM (build 11.0.13+8-Ubuntu-0ubuntu1.20.04, mixed mode, sharing)\n",
      "  Starting server from /home/mario/miniconda3/envs/ironhack/lib/python3.8/site-packages/h2o/backend/bin/h2o.jar\n",
      "  Ice root: /tmp/tmpxnjgijk4\n",
      "  JVM stdout: /tmp/tmpxnjgijk4/h2o_mario_started_from_python.out\n",
      "  JVM stderr: /tmp/tmpxnjgijk4/h2o_mario_started_from_python.err\n",
      "  Server is running at http://127.0.0.1:54323\n",
      "Connecting to H2O server at http://127.0.0.1:54323 ... successful.\n"
     ]
    },
    {
     "data": {
      "text/html": [
       "<div style=\"overflow:auto\"><table style=\"width:50%\"><tr><td>H2O_cluster_uptime:</td>\n",
       "<td>07 secs</td></tr>\n",
       "<tr><td>H2O_cluster_timezone:</td>\n",
       "<td>Europe/Madrid</td></tr>\n",
       "<tr><td>H2O_data_parsing_timezone:</td>\n",
       "<td>UTC</td></tr>\n",
       "<tr><td>H2O_cluster_version:</td>\n",
       "<td>3.36.0.3</td></tr>\n",
       "<tr><td>H2O_cluster_version_age:</td>\n",
       "<td>7 days, 20 hours and 3 minutes </td></tr>\n",
       "<tr><td>H2O_cluster_name:</td>\n",
       "<td>H2O_from_python_mario_591umk</td></tr>\n",
       "<tr><td>H2O_cluster_total_nodes:</td>\n",
       "<td>1</td></tr>\n",
       "<tr><td>H2O_cluster_free_memory:</td>\n",
       "<td>1.869 Gb</td></tr>\n",
       "<tr><td>H2O_cluster_total_cores:</td>\n",
       "<td>8</td></tr>\n",
       "<tr><td>H2O_cluster_allowed_cores:</td>\n",
       "<td>8</td></tr>\n",
       "<tr><td>H2O_cluster_status:</td>\n",
       "<td>locked, healthy</td></tr>\n",
       "<tr><td>H2O_connection_url:</td>\n",
       "<td>http://127.0.0.1:54323</td></tr>\n",
       "<tr><td>H2O_connection_proxy:</td>\n",
       "<td>{\"http\": null, \"https\": null}</td></tr>\n",
       "<tr><td>H2O_internal_security:</td>\n",
       "<td>False</td></tr>\n",
       "<tr><td>Python_version:</td>\n",
       "<td>3.8.5 final</td></tr></table></div>"
      ],
      "text/plain": [
       "--------------------------  ------------------------------\n",
       "H2O_cluster_uptime:         07 secs\n",
       "H2O_cluster_timezone:       Europe/Madrid\n",
       "H2O_data_parsing_timezone:  UTC\n",
       "H2O_cluster_version:        3.36.0.3\n",
       "H2O_cluster_version_age:    7 days, 20 hours and 3 minutes\n",
       "H2O_cluster_name:           H2O_from_python_mario_591umk\n",
       "H2O_cluster_total_nodes:    1\n",
       "H2O_cluster_free_memory:    1.869 Gb\n",
       "H2O_cluster_total_cores:    8\n",
       "H2O_cluster_allowed_cores:  8\n",
       "H2O_cluster_status:         locked, healthy\n",
       "H2O_connection_url:         http://127.0.0.1:54323\n",
       "H2O_connection_proxy:       {\"http\": null, \"https\": null}\n",
       "H2O_internal_security:      False\n",
       "Python_version:             3.8.5 final\n",
       "--------------------------  ------------------------------"
      ]
     },
     "metadata": {},
     "output_type": "display_data"
    }
   ],
   "source": [
    "# Inicializamos:\n",
    "\n",
    "h2o.init()"
   ]
  },
  {
   "cell_type": "code",
   "execution_count": 61,
   "id": "2cc122ba",
   "metadata": {},
   "outputs": [],
   "source": [
    "train, test = tts(data_h20, test_size=0.2, train_size=0.8, random_state=42)\n",
    "\n",
    "train.to_csv('data/h2o_train_umbralF_65.csv', index=False)\n",
    "\n",
    "test.to_csv('data/h2o_test_umbralF_65.csv', index=False)"
   ]
  },
  {
   "cell_type": "code",
   "execution_count": 62,
   "id": "3cfe8bc3",
   "metadata": {},
   "outputs": [
    {
     "name": "stdout",
     "output_type": "stream",
     "text": [
      "Parse progress: |████████████████████████████████████████████████████████████████| (done) 100%\n",
      "Parse progress: |████████████████████████████████████████████████████████████████| (done) 100%\n"
     ]
    }
   ],
   "source": [
    "train = h2o.import_file('data/h2o_train_umbralF_65.csv')\n",
    "test = h2o.import_file('data/h2o_test_umbralF_65.csv')"
   ]
  },
  {
   "cell_type": "code",
   "execution_count": 63,
   "id": "51aac66e",
   "metadata": {},
   "outputs": [],
   "source": [
    "X=train.columns\n",
    "y='price'\n",
    "X.remove(y)"
   ]
  },
  {
   "cell_type": "code",
   "execution_count": 64,
   "id": "968fcc48",
   "metadata": {},
   "outputs": [],
   "source": [
    "# factor para clasificacion binaria\n",
    "\n",
    "train[y]=train[y]\n",
    "test[y]=test[y]"
   ]
  },
  {
   "cell_type": "markdown",
   "id": "8a47a2e4",
   "metadata": {},
   "source": [
    "## H2O v1"
   ]
  },
  {
   "cell_type": "code",
   "execution_count": 65,
   "id": "ad182b93",
   "metadata": {
    "scrolled": true
   },
   "outputs": [
    {
     "name": "stdout",
     "output_type": "stream",
     "text": [
      "AutoML progress: |███████████████████████████████████████████████████████████████| (done) 100%\n",
      "Model Details\n",
      "=============\n",
      "H2OStackedEnsembleEstimator :  Stacked Ensemble\n",
      "Model Key:  StackedEnsemble_BestOfFamily_5_AutoML_1_20220224_135938\n",
      "\n",
      "No model summary for this model\n",
      "\n",
      "ModelMetricsRegressionGLM: stackedensemble\n",
      "** Reported on train data. **\n",
      "\n",
      "MSE: 4210.386594193614\n",
      "RMSE: 64.88749181617065\n",
      "MAE: 38.05906853936196\n",
      "RMSLE: 0.2993533005817067\n",
      "R^2: 0.6671267397074456\n",
      "Mean Residual Deviance: 4210.386594193614\n",
      "Null degrees of freedom: 3327\n",
      "Residual degrees of freedom: 3323\n",
      "Null deviance: 42094599.52764423\n",
      "Residual deviance: 14012166.585476346\n",
      "AIC: 37229.64572520986\n",
      "\n",
      "ModelMetricsRegressionGLM: stackedensemble\n",
      "** Reported on cross-validation data. **\n",
      "\n",
      "MSE: 7291.4641420198\n",
      "RMSE: 85.39007051185635\n",
      "MAE: 50.081626250947934\n",
      "RMSLE: 0.38412905281153636\n",
      "R^2: 0.42353667841153786\n",
      "Mean Residual Deviance: 7291.4641420198\n",
      "Null degrees of freedom: 3327\n",
      "Residual degrees of freedom: 3322\n",
      "Null deviance: 42127696.75476618\n",
      "Residual deviance: 24265992.664641894\n",
      "AIC: 39059.21658343525\n"
     ]
    },
    {
     "data": {
      "text/plain": []
     },
     "execution_count": 65,
     "metadata": {},
     "output_type": "execute_result"
    }
   ],
   "source": [
    "# Ejecutamos h2o.\n",
    "\n",
    "aml = H2OAutoML(max_models=20, seed=9)\n",
    "aml.train(x=X, y=y, training_frame=train)"
   ]
  },
  {
   "cell_type": "code",
   "execution_count": 66,
   "id": "e2a95e0f",
   "metadata": {
    "scrolled": true
   },
   "outputs": [
    {
     "data": {
      "text/html": [
       "<table>\n",
       "<thead>\n",
       "<tr><th>model_id                                               </th><th style=\"text-align: right;\">  mean_residual_deviance</th><th style=\"text-align: right;\">   rmse</th><th style=\"text-align: right;\">    mse</th><th style=\"text-align: right;\">    mae</th><th style=\"text-align: right;\">     rmsle</th></tr>\n",
       "</thead>\n",
       "<tbody>\n",
       "<tr><td>StackedEnsemble_BestOfFamily_5_AutoML_1_20220224_135938</td><td style=\"text-align: right;\">                 7291.46</td><td style=\"text-align: right;\">85.3901</td><td style=\"text-align: right;\">7291.46</td><td style=\"text-align: right;\">50.0816</td><td style=\"text-align: right;\">  0.384129</td></tr>\n",
       "<tr><td>StackedEnsemble_BestOfFamily_4_AutoML_1_20220224_135938</td><td style=\"text-align: right;\">                 7294.1 </td><td style=\"text-align: right;\">85.4055</td><td style=\"text-align: right;\">7294.1 </td><td style=\"text-align: right;\">50.381 </td><td style=\"text-align: right;\">  0.388729</td></tr>\n",
       "<tr><td>StackedEnsemble_AllModels_4_AutoML_1_20220224_135938   </td><td style=\"text-align: right;\">                 7307.76</td><td style=\"text-align: right;\">85.4854</td><td style=\"text-align: right;\">7307.76</td><td style=\"text-align: right;\">50.0591</td><td style=\"text-align: right;\">  0.384396</td></tr>\n",
       "<tr><td>StackedEnsemble_AllModels_7_AutoML_1_20220224_135938   </td><td style=\"text-align: right;\">                 7331.6 </td><td style=\"text-align: right;\">85.6248</td><td style=\"text-align: right;\">7331.6 </td><td style=\"text-align: right;\">50.2323</td><td style=\"text-align: right;\">  0.387438</td></tr>\n",
       "<tr><td>StackedEnsemble_AllModels_3_AutoML_1_20220224_135938   </td><td style=\"text-align: right;\">                 7347.62</td><td style=\"text-align: right;\">85.7183</td><td style=\"text-align: right;\">7347.62</td><td style=\"text-align: right;\">50.2333</td><td style=\"text-align: right;\">  0.385572</td></tr>\n",
       "<tr><td>StackedEnsemble_AllModels_2_AutoML_1_20220224_135938   </td><td style=\"text-align: right;\">                 7353.15</td><td style=\"text-align: right;\">85.7505</td><td style=\"text-align: right;\">7353.15</td><td style=\"text-align: right;\">50.5383</td><td style=\"text-align: right;\">  0.387747</td></tr>\n",
       "<tr><td>StackedEnsemble_BestOfFamily_8_AutoML_1_20220224_135938</td><td style=\"text-align: right;\">                 7362.47</td><td style=\"text-align: right;\">85.8048</td><td style=\"text-align: right;\">7362.47</td><td style=\"text-align: right;\">50.376 </td><td style=\"text-align: right;\">  0.389755</td></tr>\n",
       "<tr><td>StackedEnsemble_BestOfFamily_3_AutoML_1_20220224_135938</td><td style=\"text-align: right;\">                 7369.18</td><td style=\"text-align: right;\">85.8439</td><td style=\"text-align: right;\">7369.18</td><td style=\"text-align: right;\">50.7192</td><td style=\"text-align: right;\">  0.389254</td></tr>\n",
       "<tr><td>StackedEnsemble_AllModels_1_AutoML_1_20220224_135938   </td><td style=\"text-align: right;\">                 7393.97</td><td style=\"text-align: right;\">85.9882</td><td style=\"text-align: right;\">7393.97</td><td style=\"text-align: right;\">50.7074</td><td style=\"text-align: right;\">  0.38964 </td></tr>\n",
       "<tr><td>StackedEnsemble_BestOfFamily_2_AutoML_1_20220224_135938</td><td style=\"text-align: right;\">                 7423.56</td><td style=\"text-align: right;\">86.1601</td><td style=\"text-align: right;\">7423.56</td><td style=\"text-align: right;\">50.9748</td><td style=\"text-align: right;\">  0.391411</td></tr>\n",
       "<tr><td>GBM_3_AutoML_1_20220224_135938                         </td><td style=\"text-align: right;\">                 7425.49</td><td style=\"text-align: right;\">86.1713</td><td style=\"text-align: right;\">7425.49</td><td style=\"text-align: right;\">51.2293</td><td style=\"text-align: right;\">  0.395579</td></tr>\n",
       "<tr><td>GBM_grid_1_AutoML_1_20220224_135938_model_2            </td><td style=\"text-align: right;\">                 7451.54</td><td style=\"text-align: right;\">86.3223</td><td style=\"text-align: right;\">7451.54</td><td style=\"text-align: right;\">51.1486</td><td style=\"text-align: right;\">  0.394331</td></tr>\n",
       "<tr><td>StackedEnsemble_AllModels_6_AutoML_1_20220224_135938   </td><td style=\"text-align: right;\">                 7472.84</td><td style=\"text-align: right;\">86.4456</td><td style=\"text-align: right;\">7472.84</td><td style=\"text-align: right;\">51.2878</td><td style=\"text-align: right;\">  0.392436</td></tr>\n",
       "<tr><td>GBM_4_AutoML_1_20220224_135938                         </td><td style=\"text-align: right;\">                 7508.93</td><td style=\"text-align: right;\">86.6541</td><td style=\"text-align: right;\">7508.93</td><td style=\"text-align: right;\">51.643 </td><td style=\"text-align: right;\">  0.39681 </td></tr>\n",
       "<tr><td>GBM_2_AutoML_1_20220224_135938                         </td><td style=\"text-align: right;\">                 7585.18</td><td style=\"text-align: right;\">87.0929</td><td style=\"text-align: right;\">7585.18</td><td style=\"text-align: right;\">51.6269</td><td style=\"text-align: right;\">  0.397363</td></tr>\n",
       "<tr><td>StackedEnsemble_BestOfFamily_1_AutoML_1_20220224_135938</td><td style=\"text-align: right;\">                 7590.91</td><td style=\"text-align: right;\">87.1258</td><td style=\"text-align: right;\">7590.91</td><td style=\"text-align: right;\">51.7618</td><td style=\"text-align: right;\">  0.401677</td></tr>\n",
       "<tr><td>StackedEnsemble_BestOfFamily_7_AutoML_1_20220224_135938</td><td style=\"text-align: right;\">                 7615.88</td><td style=\"text-align: right;\">87.269 </td><td style=\"text-align: right;\">7615.88</td><td style=\"text-align: right;\">51.6624</td><td style=\"text-align: right;\">  0.392395</td></tr>\n",
       "<tr><td>XGBoost_grid_1_AutoML_1_20220224_135938_model_3        </td><td style=\"text-align: right;\">                 7657.13</td><td style=\"text-align: right;\">87.505 </td><td style=\"text-align: right;\">7657.13</td><td style=\"text-align: right;\">51.8243</td><td style=\"text-align: right;\">  0.396962</td></tr>\n",
       "<tr><td>DeepLearning_grid_3_AutoML_1_20220224_135938_model_1   </td><td style=\"text-align: right;\">                 7683.8 </td><td style=\"text-align: right;\">87.6573</td><td style=\"text-align: right;\">7683.8 </td><td style=\"text-align: right;\">53.2428</td><td style=\"text-align: right;\">nan       </td></tr>\n",
       "<tr><td>GBM_1_AutoML_1_20220224_135938                         </td><td style=\"text-align: right;\">                 7738.23</td><td style=\"text-align: right;\">87.9672</td><td style=\"text-align: right;\">7738.23</td><td style=\"text-align: right;\">52.1265</td><td style=\"text-align: right;\">  0.406359</td></tr>\n",
       "<tr><td>GBM_grid_1_AutoML_1_20220224_135938_model_1            </td><td style=\"text-align: right;\">                 7748.66</td><td style=\"text-align: right;\">88.0265</td><td style=\"text-align: right;\">7748.66</td><td style=\"text-align: right;\">51.9219</td><td style=\"text-align: right;\">  0.408338</td></tr>\n",
       "<tr><td>DeepLearning_grid_2_AutoML_1_20220224_135938_model_1   </td><td style=\"text-align: right;\">                 7805.98</td><td style=\"text-align: right;\">88.3515</td><td style=\"text-align: right;\">7805.98</td><td style=\"text-align: right;\">52.3696</td><td style=\"text-align: right;\">nan       </td></tr>\n",
       "<tr><td>XRT_1_AutoML_1_20220224_135938                         </td><td style=\"text-align: right;\">                 7819.09</td><td style=\"text-align: right;\">88.4256</td><td style=\"text-align: right;\">7819.09</td><td style=\"text-align: right;\">53.6631</td><td style=\"text-align: right;\">  0.410763</td></tr>\n",
       "<tr><td>DRF_1_AutoML_1_20220224_135938                         </td><td style=\"text-align: right;\">                 7848.22</td><td style=\"text-align: right;\">88.5902</td><td style=\"text-align: right;\">7848.22</td><td style=\"text-align: right;\">53.4185</td><td style=\"text-align: right;\">  0.406193</td></tr>\n",
       "<tr><td>GBM_5_AutoML_1_20220224_135938                         </td><td style=\"text-align: right;\">                 7913.24</td><td style=\"text-align: right;\">88.9564</td><td style=\"text-align: right;\">7913.24</td><td style=\"text-align: right;\">53.2017</td><td style=\"text-align: right;\">  0.405918</td></tr>\n",
       "<tr><td>XGBoost_3_AutoML_1_20220224_135938                     </td><td style=\"text-align: right;\">                 8042.76</td><td style=\"text-align: right;\">89.6814</td><td style=\"text-align: right;\">8042.76</td><td style=\"text-align: right;\">53.5403</td><td style=\"text-align: right;\">  0.420195</td></tr>\n",
       "<tr><td>DeepLearning_grid_1_AutoML_1_20220224_135938_model_1   </td><td style=\"text-align: right;\">                 8051.22</td><td style=\"text-align: right;\">89.7286</td><td style=\"text-align: right;\">8051.22</td><td style=\"text-align: right;\">54.1335</td><td style=\"text-align: right;\">nan       </td></tr>\n",
       "<tr><td>XGBoost_grid_1_AutoML_1_20220224_135938_model_2        </td><td style=\"text-align: right;\">                 8059.2 </td><td style=\"text-align: right;\">89.773 </td><td style=\"text-align: right;\">8059.2 </td><td style=\"text-align: right;\">55.1062</td><td style=\"text-align: right;\">nan       </td></tr>\n",
       "<tr><td>DeepLearning_1_AutoML_1_20220224_135938                </td><td style=\"text-align: right;\">                 8109.91</td><td style=\"text-align: right;\">90.0551</td><td style=\"text-align: right;\">8109.91</td><td style=\"text-align: right;\">56.1115</td><td style=\"text-align: right;\">nan       </td></tr>\n",
       "<tr><td>XGBoost_grid_1_AutoML_1_20220224_135938_model_1        </td><td style=\"text-align: right;\">                 8243.66</td><td style=\"text-align: right;\">90.7946</td><td style=\"text-align: right;\">8243.66</td><td style=\"text-align: right;\">56.4103</td><td style=\"text-align: right;\">  0.444972</td></tr>\n",
       "<tr><td>GLM_1_AutoML_1_20220224_135938                         </td><td style=\"text-align: right;\">                 8458.23</td><td style=\"text-align: right;\">91.9686</td><td style=\"text-align: right;\">8458.23</td><td style=\"text-align: right;\">57.045 </td><td style=\"text-align: right;\">nan       </td></tr>\n",
       "<tr><td>StackedEnsemble_AllModels_5_AutoML_1_20220224_135938   </td><td style=\"text-align: right;\">                 8480.44</td><td style=\"text-align: right;\">92.0893</td><td style=\"text-align: right;\">8480.44</td><td style=\"text-align: right;\">55.4727</td><td style=\"text-align: right;\">  0.420724</td></tr>\n",
       "<tr><td>StackedEnsemble_BestOfFamily_6_AutoML_1_20220224_135938</td><td style=\"text-align: right;\">                 8894.59</td><td style=\"text-align: right;\">94.3111</td><td style=\"text-align: right;\">8894.59</td><td style=\"text-align: right;\">55.8214</td><td style=\"text-align: right;\">  0.416788</td></tr>\n",
       "<tr><td>XGBoost_1_AutoML_1_20220224_135938                     </td><td style=\"text-align: right;\">                 8996.09</td><td style=\"text-align: right;\">94.8477</td><td style=\"text-align: right;\">8996.09</td><td style=\"text-align: right;\">60.1525</td><td style=\"text-align: right;\">nan       </td></tr>\n",
       "<tr><td>XGBoost_2_AutoML_1_20220224_135938                     </td><td style=\"text-align: right;\">                 9024.61</td><td style=\"text-align: right;\">94.998 </td><td style=\"text-align: right;\">9024.61</td><td style=\"text-align: right;\">59.3108</td><td style=\"text-align: right;\">nan       </td></tr>\n",
       "</tbody>\n",
       "</table>"
      ]
     },
     "metadata": {},
     "output_type": "display_data"
    },
    {
     "data": {
      "text/plain": []
     },
     "execution_count": 66,
     "metadata": {},
     "output_type": "execute_result"
    }
   ],
   "source": [
    "lb =aml.leaderboard\n",
    "\n",
    "lb.head(rows=lb.nrows)"
   ]
  },
  {
   "cell_type": "code",
   "execution_count": 136,
   "id": "c9140320",
   "metadata": {},
   "outputs": [
    {
     "name": "stdout",
     "output_type": "stream",
     "text": [
      "Model Details\n",
      "=============\n",
      "H2OStackedEnsembleEstimator :  Stacked Ensemble\n",
      "Model Key:  StackedEnsemble_BestOfFamily_5_AutoML_1_20220224_135938\n",
      "\n",
      "No model summary for this model\n",
      "\n",
      "ModelMetricsRegressionGLM: stackedensemble\n",
      "** Reported on train data. **\n",
      "\n",
      "MSE: 4210.386594193614\n",
      "RMSE: 64.88749181617065\n",
      "MAE: 38.05906853936196\n",
      "RMSLE: 0.2993533005817067\n",
      "R^2: 0.6671267397074456\n",
      "Mean Residual Deviance: 4210.386594193614\n",
      "Null degrees of freedom: 3327\n",
      "Residual degrees of freedom: 3323\n",
      "Null deviance: 42094599.52764423\n",
      "Residual deviance: 14012166.585476346\n",
      "AIC: 37229.64572520986\n",
      "\n",
      "ModelMetricsRegressionGLM: stackedensemble\n",
      "** Reported on cross-validation data. **\n",
      "\n",
      "MSE: 7291.4641420198\n",
      "RMSE: 85.39007051185635\n",
      "MAE: 50.081626250947934\n",
      "RMSLE: 0.38412905281153636\n",
      "R^2: 0.42353667841153786\n",
      "Mean Residual Deviance: 7291.4641420198\n",
      "Null degrees of freedom: 3327\n",
      "Residual degrees of freedom: 3322\n",
      "Null deviance: 42127696.75476618\n",
      "Residual deviance: 24265992.664641894\n",
      "AIC: 39059.21658343525\n"
     ]
    },
    {
     "data": {
      "text/plain": []
     },
     "execution_count": 136,
     "metadata": {},
     "output_type": "execute_result"
    }
   ],
   "source": [
    "aml.leader"
   ]
  },
  {
   "cell_type": "markdown",
   "id": "4e566974",
   "metadata": {},
   "source": [
    "## H2O v2"
   ]
  },
  {
   "cell_type": "code",
   "execution_count": 69,
   "id": "1b2643cc",
   "metadata": {
    "scrolled": true
   },
   "outputs": [
    {
     "name": "stdout",
     "output_type": "stream",
     "text": [
      "AutoML progress: |███████████████████████████████████████████████████████████████| (done) 100%\n",
      "Model Details\n",
      "=============\n",
      "H2OStackedEnsembleEstimator :  Stacked Ensemble\n",
      "Model Key:  StackedEnsemble_AllModels_4_AutoML_3_20220224_143602\n",
      "\n",
      "No model summary for this model\n",
      "\n",
      "ModelMetricsRegressionGLM: stackedensemble\n",
      "** Reported on train data. **\n",
      "\n",
      "MSE: 3705.7800475926333\n",
      "RMSE: 60.87511846060452\n",
      "MAE: 35.85273978012612\n",
      "RMSLE: 0.2846043945953189\n",
      "R^2: 0.7070209448057795\n",
      "Mean Residual Deviance: 3705.7800475926333\n",
      "Null degrees of freedom: 3327\n",
      "Residual degrees of freedom: 3311\n",
      "Null deviance: 42094599.52764423\n",
      "Residual deviance: 12332835.998388283\n",
      "AIC: 36828.79093115585\n",
      "\n",
      "ModelMetricsRegressionGLM: stackedensemble\n",
      "** Reported on cross-validation data. **\n",
      "\n",
      "MSE: 7269.22851427254\n",
      "RMSE: 85.25977078477598\n",
      "MAE: 49.98482390055128\n",
      "RMSLE: 0.38475040181841824\n",
      "R^2: 0.42529462764904713\n",
      "Mean Residual Deviance: 7269.22851427254\n",
      "Null degrees of freedom: 3327\n",
      "Residual degrees of freedom: 3312\n",
      "Null deviance: 42118230.94729333\n",
      "Residual deviance: 24191992.495499015\n",
      "AIC: 39069.052200680475\n"
     ]
    },
    {
     "data": {
      "text/plain": []
     },
     "execution_count": 69,
     "metadata": {},
     "output_type": "execute_result"
    }
   ],
   "source": [
    "aml2 = H2OAutoML(max_models=40, seed=1)\n",
    "aml2.train(x=X, y=y, training_frame=train)"
   ]
  },
  {
   "cell_type": "code",
   "execution_count": 70,
   "id": "a2d7fbba",
   "metadata": {
    "scrolled": true
   },
   "outputs": [
    {
     "data": {
      "text/html": [
       "<table>\n",
       "<thead>\n",
       "<tr><th>model_id                                               </th><th style=\"text-align: right;\">  mean_residual_deviance</th><th style=\"text-align: right;\">    rmse</th><th style=\"text-align: right;\">     mse</th><th style=\"text-align: right;\">    mae</th><th style=\"text-align: right;\">     rmsle</th></tr>\n",
       "</thead>\n",
       "<tbody>\n",
       "<tr><td>StackedEnsemble_AllModels_4_AutoML_3_20220224_143602   </td><td style=\"text-align: right;\">                 7269.23</td><td style=\"text-align: right;\"> 85.2598</td><td style=\"text-align: right;\"> 7269.23</td><td style=\"text-align: right;\">49.9848</td><td style=\"text-align: right;\">  0.38475 </td></tr>\n",
       "<tr><td>StackedEnsemble_BestOfFamily_8_AutoML_3_20220224_143602</td><td style=\"text-align: right;\">                 7276.67</td><td style=\"text-align: right;\"> 85.3034</td><td style=\"text-align: right;\"> 7276.67</td><td style=\"text-align: right;\">50.1211</td><td style=\"text-align: right;\">  0.387901</td></tr>\n",
       "<tr><td>StackedEnsemble_AllModels_3_AutoML_3_20220224_143602   </td><td style=\"text-align: right;\">                 7292.36</td><td style=\"text-align: right;\"> 85.3953</td><td style=\"text-align: right;\"> 7292.36</td><td style=\"text-align: right;\">50.1308</td><td style=\"text-align: right;\">  0.386446</td></tr>\n",
       "<tr><td>StackedEnsemble_BestOfFamily_5_AutoML_3_20220224_143602</td><td style=\"text-align: right;\">                 7297.89</td><td style=\"text-align: right;\"> 85.4277</td><td style=\"text-align: right;\"> 7297.89</td><td style=\"text-align: right;\">50.1479</td><td style=\"text-align: right;\">  0.386501</td></tr>\n",
       "<tr><td>StackedEnsemble_BestOfFamily_4_AutoML_3_20220224_143602</td><td style=\"text-align: right;\">                 7313.74</td><td style=\"text-align: right;\"> 85.5204</td><td style=\"text-align: right;\"> 7313.74</td><td style=\"text-align: right;\">50.3197</td><td style=\"text-align: right;\">nan       </td></tr>\n",
       "<tr><td>StackedEnsemble_AllModels_2_AutoML_3_20220224_143602   </td><td style=\"text-align: right;\">                 7358.27</td><td style=\"text-align: right;\"> 85.7804</td><td style=\"text-align: right;\"> 7358.27</td><td style=\"text-align: right;\">50.5876</td><td style=\"text-align: right;\">  0.388622</td></tr>\n",
       "<tr><td>StackedEnsemble_BestOfFamily_2_AutoML_3_20220224_143602</td><td style=\"text-align: right;\">                 7365.75</td><td style=\"text-align: right;\"> 85.824 </td><td style=\"text-align: right;\"> 7365.75</td><td style=\"text-align: right;\">50.7226</td><td style=\"text-align: right;\">  0.388627</td></tr>\n",
       "<tr><td>StackedEnsemble_AllModels_7_AutoML_3_20220224_143602   </td><td style=\"text-align: right;\">                 7376.48</td><td style=\"text-align: right;\"> 85.8865</td><td style=\"text-align: right;\"> 7376.48</td><td style=\"text-align: right;\">50.3742</td><td style=\"text-align: right;\">  0.391573</td></tr>\n",
       "<tr><td>StackedEnsemble_BestOfFamily_3_AutoML_3_20220224_143602</td><td style=\"text-align: right;\">                 7378.89</td><td style=\"text-align: right;\"> 85.9005</td><td style=\"text-align: right;\"> 7378.89</td><td style=\"text-align: right;\">50.7024</td><td style=\"text-align: right;\">  0.38913 </td></tr>\n",
       "<tr><td>StackedEnsemble_AllModels_1_AutoML_3_20220224_143602   </td><td style=\"text-align: right;\">                 7385.37</td><td style=\"text-align: right;\"> 85.9382</td><td style=\"text-align: right;\"> 7385.37</td><td style=\"text-align: right;\">50.6808</td><td style=\"text-align: right;\">  0.388631</td></tr>\n",
       "<tr><td>GBM_3_AutoML_3_20220224_143602                         </td><td style=\"text-align: right;\">                 7431.51</td><td style=\"text-align: right;\"> 86.2062</td><td style=\"text-align: right;\"> 7431.51</td><td style=\"text-align: right;\">51.2895</td><td style=\"text-align: right;\">  0.393527</td></tr>\n",
       "<tr><td>StackedEnsemble_BestOfFamily_1_AutoML_3_20220224_143602</td><td style=\"text-align: right;\">                 7540.86</td><td style=\"text-align: right;\"> 86.8381</td><td style=\"text-align: right;\"> 7540.86</td><td style=\"text-align: right;\">51.5085</td><td style=\"text-align: right;\">  0.400193</td></tr>\n",
       "<tr><td>StackedEnsemble_AllModels_6_AutoML_3_20220224_143602   </td><td style=\"text-align: right;\">                 7558.97</td><td style=\"text-align: right;\"> 86.9423</td><td style=\"text-align: right;\"> 7558.97</td><td style=\"text-align: right;\">51.3698</td><td style=\"text-align: right;\">  0.393192</td></tr>\n",
       "<tr><td>GBM_grid_1_AutoML_3_20220224_143602_model_4            </td><td style=\"text-align: right;\">                 7572.99</td><td style=\"text-align: right;\"> 87.0229</td><td style=\"text-align: right;\"> 7572.99</td><td style=\"text-align: right;\">52.2168</td><td style=\"text-align: right;\">  0.401156</td></tr>\n",
       "<tr><td>GBM_2_AutoML_3_20220224_143602                         </td><td style=\"text-align: right;\">                 7586.99</td><td style=\"text-align: right;\"> 87.1033</td><td style=\"text-align: right;\"> 7586.99</td><td style=\"text-align: right;\">51.8362</td><td style=\"text-align: right;\">  0.399302</td></tr>\n",
       "<tr><td>GBM_4_AutoML_3_20220224_143602                         </td><td style=\"text-align: right;\">                 7611.65</td><td style=\"text-align: right;\"> 87.2447</td><td style=\"text-align: right;\"> 7611.65</td><td style=\"text-align: right;\">52.1775</td><td style=\"text-align: right;\">  0.398014</td></tr>\n",
       "<tr><td>GBM_grid_1_AutoML_3_20220224_143602_model_3            </td><td style=\"text-align: right;\">                 7612.72</td><td style=\"text-align: right;\"> 87.2509</td><td style=\"text-align: right;\"> 7612.72</td><td style=\"text-align: right;\">51.7899</td><td style=\"text-align: right;\">  0.401485</td></tr>\n",
       "<tr><td>GBM_grid_1_AutoML_3_20220224_143602_model_2            </td><td style=\"text-align: right;\">                 7638.25</td><td style=\"text-align: right;\"> 87.3971</td><td style=\"text-align: right;\"> 7638.25</td><td style=\"text-align: right;\">51.7243</td><td style=\"text-align: right;\">  0.400323</td></tr>\n",
       "<tr><td>DRF_1_AutoML_3_20220224_143602                         </td><td style=\"text-align: right;\">                 7646.65</td><td style=\"text-align: right;\"> 87.4451</td><td style=\"text-align: right;\"> 7646.65</td><td style=\"text-align: right;\">52.8146</td><td style=\"text-align: right;\">  0.404246</td></tr>\n",
       "<tr><td>GBM_grid_1_AutoML_3_20220224_143602_model_1            </td><td style=\"text-align: right;\">                 7652.71</td><td style=\"text-align: right;\"> 87.4798</td><td style=\"text-align: right;\"> 7652.71</td><td style=\"text-align: right;\">52.4383</td><td style=\"text-align: right;\">  0.404545</td></tr>\n",
       "<tr><td>GBM_grid_1_AutoML_3_20220224_143602_model_7            </td><td style=\"text-align: right;\">                 7705.55</td><td style=\"text-align: right;\"> 87.7813</td><td style=\"text-align: right;\"> 7705.55</td><td style=\"text-align: right;\">51.8665</td><td style=\"text-align: right;\">  0.404773</td></tr>\n",
       "<tr><td>DeepLearning_grid_2_AutoML_3_20220224_143602_model_1   </td><td style=\"text-align: right;\">                 7724.36</td><td style=\"text-align: right;\"> 87.8884</td><td style=\"text-align: right;\"> 7724.36</td><td style=\"text-align: right;\">52.6897</td><td style=\"text-align: right;\">nan       </td></tr>\n",
       "<tr><td>GBM_grid_1_AutoML_3_20220224_143602_model_5            </td><td style=\"text-align: right;\">                 7735.01</td><td style=\"text-align: right;\"> 87.9489</td><td style=\"text-align: right;\"> 7735.01</td><td style=\"text-align: right;\">52.4351</td><td style=\"text-align: right;\">  0.399225</td></tr>\n",
       "<tr><td>GBM_1_AutoML_3_20220224_143602                         </td><td style=\"text-align: right;\">                 7784.86</td><td style=\"text-align: right;\"> 88.2318</td><td style=\"text-align: right;\"> 7784.86</td><td style=\"text-align: right;\">52.1525</td><td style=\"text-align: right;\">  0.406729</td></tr>\n",
       "<tr><td>StackedEnsemble_BestOfFamily_7_AutoML_3_20220224_143602</td><td style=\"text-align: right;\">                 7803.12</td><td style=\"text-align: right;\"> 88.3353</td><td style=\"text-align: right;\"> 7803.12</td><td style=\"text-align: right;\">52.1474</td><td style=\"text-align: right;\">  0.396273</td></tr>\n",
       "<tr><td>DeepLearning_grid_1_AutoML_3_20220224_143602_model_1   </td><td style=\"text-align: right;\">                 7846.93</td><td style=\"text-align: right;\"> 88.5829</td><td style=\"text-align: right;\"> 7846.93</td><td style=\"text-align: right;\">53.6574</td><td style=\"text-align: right;\">nan       </td></tr>\n",
       "<tr><td>DeepLearning_grid_3_AutoML_3_20220224_143602_model_1   </td><td style=\"text-align: right;\">                 7887.95</td><td style=\"text-align: right;\"> 88.8141</td><td style=\"text-align: right;\"> 7887.95</td><td style=\"text-align: right;\">52.1533</td><td style=\"text-align: right;\">nan       </td></tr>\n",
       "<tr><td>GBM_grid_1_AutoML_3_20220224_143602_model_6            </td><td style=\"text-align: right;\">                 7889.74</td><td style=\"text-align: right;\"> 88.8242</td><td style=\"text-align: right;\"> 7889.74</td><td style=\"text-align: right;\">52.3943</td><td style=\"text-align: right;\">  0.41272 </td></tr>\n",
       "<tr><td>GBM_5_AutoML_3_20220224_143602                         </td><td style=\"text-align: right;\">                 7903.92</td><td style=\"text-align: right;\"> 88.904 </td><td style=\"text-align: right;\"> 7903.92</td><td style=\"text-align: right;\">52.5851</td><td style=\"text-align: right;\">  0.402976</td></tr>\n",
       "<tr><td>XRT_1_AutoML_3_20220224_143602                         </td><td style=\"text-align: right;\">                 7913.54</td><td style=\"text-align: right;\"> 88.9581</td><td style=\"text-align: right;\"> 7913.54</td><td style=\"text-align: right;\">53.9221</td><td style=\"text-align: right;\">  0.41348 </td></tr>\n",
       "<tr><td>DeepLearning_grid_1_AutoML_3_20220224_143602_model_4   </td><td style=\"text-align: right;\">                 7919.68</td><td style=\"text-align: right;\"> 88.9926</td><td style=\"text-align: right;\"> 7919.68</td><td style=\"text-align: right;\">53.8564</td><td style=\"text-align: right;\">nan       </td></tr>\n",
       "<tr><td>XGBoost_grid_1_AutoML_3_20220224_143602_model_7        </td><td style=\"text-align: right;\">                 7953.6 </td><td style=\"text-align: right;\"> 89.183 </td><td style=\"text-align: right;\"> 7953.6 </td><td style=\"text-align: right;\">54.065 </td><td style=\"text-align: right;\">  0.420998</td></tr>\n",
       "<tr><td>DeepLearning_grid_2_AutoML_3_20220224_143602_model_3   </td><td style=\"text-align: right;\">                 8031.24</td><td style=\"text-align: right;\"> 89.6172</td><td style=\"text-align: right;\"> 8031.24</td><td style=\"text-align: right;\">53.5988</td><td style=\"text-align: right;\">nan       </td></tr>\n",
       "<tr><td>XGBoost_grid_1_AutoML_3_20220224_143602_model_2        </td><td style=\"text-align: right;\">                 8055.14</td><td style=\"text-align: right;\"> 89.7504</td><td style=\"text-align: right;\"> 8055.14</td><td style=\"text-align: right;\">53.7496</td><td style=\"text-align: right;\">  0.416531</td></tr>\n",
       "<tr><td>DeepLearning_grid_1_AutoML_3_20220224_143602_model_3   </td><td style=\"text-align: right;\">                 8084.68</td><td style=\"text-align: right;\"> 89.9148</td><td style=\"text-align: right;\"> 8084.68</td><td style=\"text-align: right;\">54.9676</td><td style=\"text-align: right;\">nan       </td></tr>\n",
       "<tr><td>XGBoost_grid_1_AutoML_3_20220224_143602_model_9        </td><td style=\"text-align: right;\">                 8091.51</td><td style=\"text-align: right;\"> 89.9528</td><td style=\"text-align: right;\"> 8091.51</td><td style=\"text-align: right;\">54.9941</td><td style=\"text-align: right;\">  0.429237</td></tr>\n",
       "<tr><td>DeepLearning_grid_1_AutoML_3_20220224_143602_model_2   </td><td style=\"text-align: right;\">                 8144.04</td><td style=\"text-align: right;\"> 90.2443</td><td style=\"text-align: right;\"> 8144.04</td><td style=\"text-align: right;\">53.3934</td><td style=\"text-align: right;\">nan       </td></tr>\n",
       "<tr><td>DeepLearning_1_AutoML_3_20220224_143602                </td><td style=\"text-align: right;\">                 8152.78</td><td style=\"text-align: right;\"> 90.2928</td><td style=\"text-align: right;\"> 8152.78</td><td style=\"text-align: right;\">56.1679</td><td style=\"text-align: right;\">  0.438896</td></tr>\n",
       "<tr><td>XGBoost_grid_1_AutoML_3_20220224_143602_model_11       </td><td style=\"text-align: right;\">                 8161.16</td><td style=\"text-align: right;\"> 90.3391</td><td style=\"text-align: right;\"> 8161.16</td><td style=\"text-align: right;\">54.9884</td><td style=\"text-align: right;\">nan       </td></tr>\n",
       "<tr><td>DeepLearning_grid_3_AutoML_3_20220224_143602_model_3   </td><td style=\"text-align: right;\">                 8194.51</td><td style=\"text-align: right;\"> 90.5236</td><td style=\"text-align: right;\"> 8194.51</td><td style=\"text-align: right;\">55.989 </td><td style=\"text-align: right;\">nan       </td></tr>\n",
       "<tr><td>XGBoost_grid_1_AutoML_3_20220224_143602_model_6        </td><td style=\"text-align: right;\">                 8325.18</td><td style=\"text-align: right;\"> 91.2424</td><td style=\"text-align: right;\"> 8325.18</td><td style=\"text-align: right;\">56.3003</td><td style=\"text-align: right;\">  0.448589</td></tr>\n",
       "<tr><td>XGBoost_grid_1_AutoML_3_20220224_143602_model_3        </td><td style=\"text-align: right;\">                 8349.78</td><td style=\"text-align: right;\"> 91.3772</td><td style=\"text-align: right;\"> 8349.78</td><td style=\"text-align: right;\">54.2618</td><td style=\"text-align: right;\">nan       </td></tr>\n",
       "<tr><td>DeepLearning_grid_3_AutoML_3_20220224_143602_model_2   </td><td style=\"text-align: right;\">                 8351.43</td><td style=\"text-align: right;\"> 91.3862</td><td style=\"text-align: right;\"> 8351.43</td><td style=\"text-align: right;\">57.387 </td><td style=\"text-align: right;\">  0.449934</td></tr>\n",
       "<tr><td>XGBoost_3_AutoML_3_20220224_143602                     </td><td style=\"text-align: right;\">                 8357.04</td><td style=\"text-align: right;\"> 91.4168</td><td style=\"text-align: right;\"> 8357.04</td><td style=\"text-align: right;\">53.9029</td><td style=\"text-align: right;\">  0.419465</td></tr>\n",
       "<tr><td>XGBoost_grid_1_AutoML_3_20220224_143602_model_4        </td><td style=\"text-align: right;\">                 8383.94</td><td style=\"text-align: right;\"> 91.5638</td><td style=\"text-align: right;\"> 8383.94</td><td style=\"text-align: right;\">56.3686</td><td style=\"text-align: right;\">  0.433803</td></tr>\n",
       "<tr><td>StackedEnsemble_AllModels_5_AutoML_3_20220224_143602   </td><td style=\"text-align: right;\">                 8419.61</td><td style=\"text-align: right;\"> 91.7584</td><td style=\"text-align: right;\"> 8419.61</td><td style=\"text-align: right;\">54.7974</td><td style=\"text-align: right;\">  0.413735</td></tr>\n",
       "<tr><td>GLM_1_AutoML_3_20220224_143602                         </td><td style=\"text-align: right;\">                 8458.23</td><td style=\"text-align: right;\"> 91.9686</td><td style=\"text-align: right;\"> 8458.23</td><td style=\"text-align: right;\">57.045 </td><td style=\"text-align: right;\">nan       </td></tr>\n",
       "<tr><td>DeepLearning_grid_2_AutoML_3_20220224_143602_model_2   </td><td style=\"text-align: right;\">                 8630.97</td><td style=\"text-align: right;\"> 92.903 </td><td style=\"text-align: right;\"> 8630.97</td><td style=\"text-align: right;\">58.5253</td><td style=\"text-align: right;\">nan       </td></tr>\n",
       "<tr><td>XGBoost_grid_1_AutoML_3_20220224_143602_model_1        </td><td style=\"text-align: right;\">                 8639.02</td><td style=\"text-align: right;\"> 92.9463</td><td style=\"text-align: right;\"> 8639.02</td><td style=\"text-align: right;\">57.8979</td><td style=\"text-align: right;\">  0.469263</td></tr>\n",
       "<tr><td>XGBoost_1_AutoML_3_20220224_143602                     </td><td style=\"text-align: right;\">                 8733.48</td><td style=\"text-align: right;\"> 93.4531</td><td style=\"text-align: right;\"> 8733.48</td><td style=\"text-align: right;\">58.6462</td><td style=\"text-align: right;\">nan       </td></tr>\n",
       "<tr><td>StackedEnsemble_BestOfFamily_6_AutoML_3_20220224_143602</td><td style=\"text-align: right;\">                 8758.07</td><td style=\"text-align: right;\"> 93.5846</td><td style=\"text-align: right;\"> 8758.07</td><td style=\"text-align: right;\">55.7858</td><td style=\"text-align: right;\">  0.417653</td></tr>\n",
       "<tr><td>XGBoost_2_AutoML_3_20220224_143602                     </td><td style=\"text-align: right;\">                 8887.6 </td><td style=\"text-align: right;\"> 94.2741</td><td style=\"text-align: right;\"> 8887.6 </td><td style=\"text-align: right;\">59.5961</td><td style=\"text-align: right;\">nan       </td></tr>\n",
       "<tr><td>XGBoost_grid_1_AutoML_3_20220224_143602_model_8        </td><td style=\"text-align: right;\">                 9185.32</td><td style=\"text-align: right;\"> 95.84  </td><td style=\"text-align: right;\"> 9185.32</td><td style=\"text-align: right;\">58.2016</td><td style=\"text-align: right;\">  0.434871</td></tr>\n",
       "<tr><td>XGBoost_grid_1_AutoML_3_20220224_143602_model_5        </td><td style=\"text-align: right;\">                 9192.27</td><td style=\"text-align: right;\"> 95.8763</td><td style=\"text-align: right;\"> 9192.27</td><td style=\"text-align: right;\">61.6451</td><td style=\"text-align: right;\">nan       </td></tr>\n",
       "<tr><td>XGBoost_grid_1_AutoML_3_20220224_143602_model_10       </td><td style=\"text-align: right;\">                10092.8 </td><td style=\"text-align: right;\">100.463 </td><td style=\"text-align: right;\">10092.8 </td><td style=\"text-align: right;\">62.9344</td><td style=\"text-align: right;\">nan       </td></tr>\n",
       "</tbody>\n",
       "</table>"
      ]
     },
     "metadata": {},
     "output_type": "display_data"
    },
    {
     "data": {
      "text/plain": []
     },
     "execution_count": 70,
     "metadata": {},
     "output_type": "execute_result"
    }
   ],
   "source": [
    "lb2 =aml2.leaderboard\n",
    "\n",
    "lb2.head(rows=lb2.nrows)"
   ]
  },
  {
   "cell_type": "code",
   "execution_count": 74,
   "id": "52e5ab8b",
   "metadata": {
    "scrolled": true
   },
   "outputs": [
    {
     "name": "stdout",
     "output_type": "stream",
     "text": [
      "Model Details\n",
      "=============\n",
      "H2OStackedEnsembleEstimator :  Stacked Ensemble\n",
      "Model Key:  StackedEnsemble_AllModels_4_AutoML_3_20220224_143602\n",
      "\n",
      "No model summary for this model\n",
      "\n",
      "ModelMetricsRegressionGLM: stackedensemble\n",
      "** Reported on train data. **\n",
      "\n",
      "MSE: 3705.7800475926333\n",
      "RMSE: 60.87511846060452\n",
      "MAE: 35.85273978012612\n",
      "RMSLE: 0.2846043945953189\n",
      "R^2: 0.7070209448057795\n",
      "Mean Residual Deviance: 3705.7800475926333\n",
      "Null degrees of freedom: 3327\n",
      "Residual degrees of freedom: 3311\n",
      "Null deviance: 42094599.52764423\n",
      "Residual deviance: 12332835.998388283\n",
      "AIC: 36828.79093115585\n",
      "\n",
      "ModelMetricsRegressionGLM: stackedensemble\n",
      "** Reported on cross-validation data. **\n",
      "\n",
      "MSE: 7269.22851427254\n",
      "RMSE: 85.25977078477598\n",
      "MAE: 49.98482390055128\n",
      "RMSLE: 0.38475040181841824\n",
      "R^2: 0.42529462764904713\n",
      "Mean Residual Deviance: 7269.22851427254\n",
      "Null degrees of freedom: 3327\n",
      "Residual degrees of freedom: 3312\n",
      "Null deviance: 42118230.94729333\n",
      "Residual deviance: 24191992.495499015\n",
      "AIC: 39069.052200680475\n"
     ]
    },
    {
     "data": {
      "text/plain": []
     },
     "execution_count": 74,
     "metadata": {},
     "output_type": "execute_result"
    }
   ],
   "source": [
    "aml2.leader"
   ]
  },
  {
   "cell_type": "code",
   "execution_count": 71,
   "id": "17fb240c",
   "metadata": {
    "scrolled": true
   },
   "outputs": [
    {
     "name": "stdout",
     "output_type": "stream",
     "text": [
      "AutoML progress: |███████████████████████████████████████████████████████████████| (done) 100%\n",
      "Model Details\n",
      "=============\n",
      "H2OStackedEnsembleEstimator :  Stacked Ensemble\n",
      "Model Key:  StackedEnsemble_AllModels_3_AutoML_4_20220224_145614\n",
      "\n",
      "No model summary for this model\n",
      "\n",
      "ModelMetricsRegressionGLM: stackedensemble\n",
      "** Reported on train data. **\n",
      "\n",
      "MSE: 3046.1547186894136\n",
      "RMSE: 55.1919805650188\n",
      "MAE: 33.18807692584005\n",
      "RMSLE: 0.2630079781348781\n",
      "R^2: 0.759170938373203\n",
      "Mean Residual Deviance: 3046.1547186894136\n",
      "Null degrees of freedom: 3327\n",
      "Residual degrees of freedom: 3310\n",
      "Null deviance: 42094599.52764423\n",
      "Residual deviance: 10137602.903798368\n",
      "AIC: 36178.45724266859\n",
      "\n",
      "ModelMetricsRegressionGLM: stackedensemble\n",
      "** Reported on cross-validation data. **\n",
      "\n",
      "MSE: 7209.82688674268\n",
      "RMSE: 84.91069948329644\n",
      "MAE: 50.01178778310782\n",
      "RMSLE: NaN\n",
      "R^2: 0.42999092167815534\n",
      "Mean Residual Deviance: 7209.82688674268\n",
      "Null degrees of freedom: 3327\n",
      "Residual degrees of freedom: 3310\n",
      "Null deviance: 42112184.03134992\n",
      "Residual deviance: 23994303.879079636\n",
      "AIC: 39045.74520860531\n"
     ]
    },
    {
     "data": {
      "text/plain": []
     },
     "execution_count": 71,
     "metadata": {},
     "output_type": "execute_result"
    }
   ],
   "source": [
    "aml3 = H2OAutoML()\n",
    "aml3.train(x=X, y=y, training_frame=train)"
   ]
  },
  {
   "cell_type": "markdown",
   "id": "e4d5c646",
   "metadata": {},
   "source": [
    "## H2O v3"
   ]
  },
  {
   "cell_type": "code",
   "execution_count": 72,
   "id": "8eef8833",
   "metadata": {
    "scrolled": true
   },
   "outputs": [
    {
     "data": {
      "text/html": [
       "<table>\n",
       "<thead>\n",
       "<tr><th>model_id                                                                </th><th style=\"text-align: right;\">  mean_residual_deviance</th><th style=\"text-align: right;\">    rmse</th><th style=\"text-align: right;\">     mse</th><th style=\"text-align: right;\">    mae</th><th style=\"text-align: right;\">     rmsle</th></tr>\n",
       "</thead>\n",
       "<tbody>\n",
       "<tr><td>StackedEnsemble_AllModels_3_AutoML_4_20220224_145614                    </td><td style=\"text-align: right;\">                 7209.83</td><td style=\"text-align: right;\"> 84.9107</td><td style=\"text-align: right;\"> 7209.83</td><td style=\"text-align: right;\">50.0118</td><td style=\"text-align: right;\">nan       </td></tr>\n",
       "<tr><td>StackedEnsemble_AllModels_4_AutoML_4_20220224_145614                    </td><td style=\"text-align: right;\">                 7225.63</td><td style=\"text-align: right;\"> 85.0037</td><td style=\"text-align: right;\"> 7225.63</td><td style=\"text-align: right;\">50.0083</td><td style=\"text-align: right;\">nan       </td></tr>\n",
       "<tr><td>StackedEnsemble_BestOfFamily_8_AutoML_4_20220224_145614                 </td><td style=\"text-align: right;\">                 7238.3 </td><td style=\"text-align: right;\"> 85.0782</td><td style=\"text-align: right;\"> 7238.3 </td><td style=\"text-align: right;\">49.937 </td><td style=\"text-align: right;\">  0.383929</td></tr>\n",
       "<tr><td>StackedEnsemble_AllModels_7_AutoML_4_20220224_145614                    </td><td style=\"text-align: right;\">                 7256.28</td><td style=\"text-align: right;\"> 85.1838</td><td style=\"text-align: right;\"> 7256.28</td><td style=\"text-align: right;\">49.9422</td><td style=\"text-align: right;\">  0.386691</td></tr>\n",
       "<tr><td>StackedEnsemble_BestOfFamily_4_AutoML_4_20220224_145614                 </td><td style=\"text-align: right;\">                 7265.51</td><td style=\"text-align: right;\"> 85.238 </td><td style=\"text-align: right;\"> 7265.51</td><td style=\"text-align: right;\">50.0028</td><td style=\"text-align: right;\">  0.388236</td></tr>\n",
       "<tr><td>StackedEnsemble_BestOfFamily_9_AutoML_4_20220224_145614                 </td><td style=\"text-align: right;\">                 7285.65</td><td style=\"text-align: right;\"> 85.356 </td><td style=\"text-align: right;\"> 7285.65</td><td style=\"text-align: right;\">50.0845</td><td style=\"text-align: right;\">  0.38404 </td></tr>\n",
       "<tr><td>StackedEnsemble_BestOfFamily_5_AutoML_4_20220224_145614                 </td><td style=\"text-align: right;\">                 7294.32</td><td style=\"text-align: right;\"> 85.4068</td><td style=\"text-align: right;\"> 7294.32</td><td style=\"text-align: right;\">50.2329</td><td style=\"text-align: right;\">  0.385812</td></tr>\n",
       "<tr><td>StackedEnsemble_AllModels_2_AutoML_4_20220224_145614                    </td><td style=\"text-align: right;\">                 7313   </td><td style=\"text-align: right;\"> 85.5161</td><td style=\"text-align: right;\"> 7313   </td><td style=\"text-align: right;\">50.4405</td><td style=\"text-align: right;\">  0.388053</td></tr>\n",
       "<tr><td>StackedEnsemble_Best1000_1_AutoML_4_20220224_145614                     </td><td style=\"text-align: right;\">                 7328.86</td><td style=\"text-align: right;\"> 85.6087</td><td style=\"text-align: right;\"> 7328.86</td><td style=\"text-align: right;\">50.3462</td><td style=\"text-align: right;\">  0.39204 </td></tr>\n",
       "<tr><td>XGBoost_lr_search_selection_AutoML_4_20220224_145614_select_grid_model_3</td><td style=\"text-align: right;\">                 7365.09</td><td style=\"text-align: right;\"> 85.8201</td><td style=\"text-align: right;\"> 7365.09</td><td style=\"text-align: right;\">50.5029</td><td style=\"text-align: right;\">  0.388904</td></tr>\n",
       "<tr><td>StackedEnsemble_BestOfFamily_3_AutoML_4_20220224_145614                 </td><td style=\"text-align: right;\">                 7391.64</td><td style=\"text-align: right;\"> 85.9746</td><td style=\"text-align: right;\"> 7391.64</td><td style=\"text-align: right;\">50.7568</td><td style=\"text-align: right;\">  0.388927</td></tr>\n",
       "<tr><td>StackedEnsemble_AllModels_1_AutoML_4_20220224_145614                    </td><td style=\"text-align: right;\">                 7421.6 </td><td style=\"text-align: right;\"> 86.1487</td><td style=\"text-align: right;\"> 7421.6 </td><td style=\"text-align: right;\">50.7189</td><td style=\"text-align: right;\">  0.39089 </td></tr>\n",
       "<tr><td>StackedEnsemble_BestOfFamily_2_AutoML_4_20220224_145614                 </td><td style=\"text-align: right;\">                 7443.56</td><td style=\"text-align: right;\"> 86.2761</td><td style=\"text-align: right;\"> 7443.56</td><td style=\"text-align: right;\">51.1336</td><td style=\"text-align: right;\">  0.392088</td></tr>\n",
       "<tr><td>GBM_grid_1_AutoML_4_20220224_145614_model_29                            </td><td style=\"text-align: right;\">                 7457.37</td><td style=\"text-align: right;\"> 86.3561</td><td style=\"text-align: right;\"> 7457.37</td><td style=\"text-align: right;\">51.1846</td><td style=\"text-align: right;\">  0.394448</td></tr>\n",
       "<tr><td>GBM_lr_annealing_selection_AutoML_4_20220224_145614_select_model        </td><td style=\"text-align: right;\">                 7458.55</td><td style=\"text-align: right;\"> 86.3629</td><td style=\"text-align: right;\"> 7458.55</td><td style=\"text-align: right;\">51.0519</td><td style=\"text-align: right;\">  0.393736</td></tr>\n",
       "<tr><td>GBM_grid_1_AutoML_4_20220224_145614_model_3                             </td><td style=\"text-align: right;\">                 7484.65</td><td style=\"text-align: right;\"> 86.5138</td><td style=\"text-align: right;\"> 7484.65</td><td style=\"text-align: right;\">51.3346</td><td style=\"text-align: right;\">  0.396666</td></tr>\n",
       "<tr><td>GBM_grid_1_AutoML_4_20220224_145614_model_43                            </td><td style=\"text-align: right;\">                 7497.54</td><td style=\"text-align: right;\"> 86.5883</td><td style=\"text-align: right;\"> 7497.54</td><td style=\"text-align: right;\">51.2987</td><td style=\"text-align: right;\">  0.396461</td></tr>\n",
       "<tr><td>GBM_grid_1_AutoML_4_20220224_145614_model_39                            </td><td style=\"text-align: right;\">                 7505.52</td><td style=\"text-align: right;\"> 86.6344</td><td style=\"text-align: right;\"> 7505.52</td><td style=\"text-align: right;\">51.2286</td><td style=\"text-align: right;\">  0.394926</td></tr>\n",
       "<tr><td>XGBoost_grid_1_AutoML_4_20220224_145614_model_75                        </td><td style=\"text-align: right;\">                 7506.25</td><td style=\"text-align: right;\"> 86.6386</td><td style=\"text-align: right;\"> 7506.25</td><td style=\"text-align: right;\">51.4786</td><td style=\"text-align: right;\">  0.398426</td></tr>\n",
       "<tr><td>GBM_3_AutoML_4_20220224_145614                                          </td><td style=\"text-align: right;\">                 7517.56</td><td style=\"text-align: right;\"> 86.7038</td><td style=\"text-align: right;\"> 7517.56</td><td style=\"text-align: right;\">51.5251</td><td style=\"text-align: right;\">  0.397028</td></tr>\n",
       "<tr><td>GBM_grid_1_AutoML_4_20220224_145614_model_16                            </td><td style=\"text-align: right;\">                 7522.44</td><td style=\"text-align: right;\"> 86.732 </td><td style=\"text-align: right;\"> 7522.44</td><td style=\"text-align: right;\">51.9095</td><td style=\"text-align: right;\">  0.398963</td></tr>\n",
       "<tr><td>XGBoost_grid_1_AutoML_4_20220224_145614_model_24                        </td><td style=\"text-align: right;\">                 7523.81</td><td style=\"text-align: right;\"> 86.7399</td><td style=\"text-align: right;\"> 7523.81</td><td style=\"text-align: right;\">51.3451</td><td style=\"text-align: right;\">  0.397785</td></tr>\n",
       "<tr><td>GBM_grid_1_AutoML_4_20220224_145614_model_26                            </td><td style=\"text-align: right;\">                 7527.38</td><td style=\"text-align: right;\"> 86.7605</td><td style=\"text-align: right;\"> 7527.38</td><td style=\"text-align: right;\">51.2197</td><td style=\"text-align: right;\">  0.395522</td></tr>\n",
       "<tr><td>GBM_grid_1_AutoML_4_20220224_145614_model_9                             </td><td style=\"text-align: right;\">                 7529.3 </td><td style=\"text-align: right;\"> 86.7715</td><td style=\"text-align: right;\"> 7529.3 </td><td style=\"text-align: right;\">51.338 </td><td style=\"text-align: right;\">  0.396126</td></tr>\n",
       "<tr><td>GBM_grid_1_AutoML_4_20220224_145614_model_50                            </td><td style=\"text-align: right;\">                 7529.44</td><td style=\"text-align: right;\"> 86.7723</td><td style=\"text-align: right;\"> 7529.44</td><td style=\"text-align: right;\">51.8343</td><td style=\"text-align: right;\">  0.398053</td></tr>\n",
       "<tr><td>GBM_grid_1_AutoML_4_20220224_145614_model_1                             </td><td style=\"text-align: right;\">                 7532.4 </td><td style=\"text-align: right;\"> 86.7894</td><td style=\"text-align: right;\"> 7532.4 </td><td style=\"text-align: right;\">51.521 </td><td style=\"text-align: right;\">  0.39618 </td></tr>\n",
       "<tr><td>GBM_grid_1_AutoML_4_20220224_145614_model_38                            </td><td style=\"text-align: right;\">                 7541.43</td><td style=\"text-align: right;\"> 86.8414</td><td style=\"text-align: right;\"> 7541.43</td><td style=\"text-align: right;\">51.6301</td><td style=\"text-align: right;\">  0.397336</td></tr>\n",
       "<tr><td>StackedEnsemble_BestOfFamily_1_AutoML_4_20220224_145614                 </td><td style=\"text-align: right;\">                 7542.38</td><td style=\"text-align: right;\"> 86.8469</td><td style=\"text-align: right;\"> 7542.38</td><td style=\"text-align: right;\">51.5619</td><td style=\"text-align: right;\">  0.400025</td></tr>\n",
       "<tr><td>GBM_grid_1_AutoML_4_20220224_145614_model_14                            </td><td style=\"text-align: right;\">                 7542.84</td><td style=\"text-align: right;\"> 86.8495</td><td style=\"text-align: right;\"> 7542.84</td><td style=\"text-align: right;\">51.8683</td><td style=\"text-align: right;\">  0.398393</td></tr>\n",
       "<tr><td>XGBoost_grid_1_AutoML_4_20220224_145614_model_23                        </td><td style=\"text-align: right;\">                 7547.63</td><td style=\"text-align: right;\"> 86.8771</td><td style=\"text-align: right;\"> 7547.63</td><td style=\"text-align: right;\">51.441 </td><td style=\"text-align: right;\">  0.397219</td></tr>\n",
       "<tr><td>GBM_grid_1_AutoML_4_20220224_145614_model_28                            </td><td style=\"text-align: right;\">                 7553.79</td><td style=\"text-align: right;\"> 86.9126</td><td style=\"text-align: right;\"> 7553.79</td><td style=\"text-align: right;\">51.6072</td><td style=\"text-align: right;\">  0.399357</td></tr>\n",
       "<tr><td>GBM_grid_1_AutoML_4_20220224_145614_model_25                            </td><td style=\"text-align: right;\">                 7555.34</td><td style=\"text-align: right;\"> 86.9215</td><td style=\"text-align: right;\"> 7555.34</td><td style=\"text-align: right;\">51.9126</td><td style=\"text-align: right;\">  0.400192</td></tr>\n",
       "<tr><td>GBM_grid_1_AutoML_4_20220224_145614_model_2                             </td><td style=\"text-align: right;\">                 7563.1 </td><td style=\"text-align: right;\"> 86.9661</td><td style=\"text-align: right;\"> 7563.1 </td><td style=\"text-align: right;\">52.1141</td><td style=\"text-align: right;\">  0.403336</td></tr>\n",
       "<tr><td>GBM_grid_1_AutoML_4_20220224_145614_model_36                            </td><td style=\"text-align: right;\">                 7569.4 </td><td style=\"text-align: right;\"> 87.0023</td><td style=\"text-align: right;\"> 7569.4 </td><td style=\"text-align: right;\">51.7126</td><td style=\"text-align: right;\">  0.399846</td></tr>\n",
       "<tr><td>GBM_grid_1_AutoML_4_20220224_145614_model_8                             </td><td style=\"text-align: right;\">                 7569.77</td><td style=\"text-align: right;\"> 87.0044</td><td style=\"text-align: right;\"> 7569.77</td><td style=\"text-align: right;\">51.6188</td><td style=\"text-align: right;\">  0.397464</td></tr>\n",
       "<tr><td>GBM_grid_1_AutoML_4_20220224_145614_model_19                            </td><td style=\"text-align: right;\">                 7575.22</td><td style=\"text-align: right;\"> 87.0358</td><td style=\"text-align: right;\"> 7575.22</td><td style=\"text-align: right;\">51.7945</td><td style=\"text-align: right;\">  0.39635 </td></tr>\n",
       "<tr><td>GBM_grid_1_AutoML_4_20220224_145614_model_35                            </td><td style=\"text-align: right;\">                 7575.24</td><td style=\"text-align: right;\"> 87.0359</td><td style=\"text-align: right;\"> 7575.24</td><td style=\"text-align: right;\">51.8333</td><td style=\"text-align: right;\">  0.399301</td></tr>\n",
       "<tr><td>GBM_grid_1_AutoML_4_20220224_145614_model_52                            </td><td style=\"text-align: right;\">                 7579.85</td><td style=\"text-align: right;\"> 87.0623</td><td style=\"text-align: right;\"> 7579.85</td><td style=\"text-align: right;\">51.8379</td><td style=\"text-align: right;\">  0.400355</td></tr>\n",
       "<tr><td>GBM_grid_1_AutoML_4_20220224_145614_model_55                            </td><td style=\"text-align: right;\">                 7585.69</td><td style=\"text-align: right;\"> 87.0959</td><td style=\"text-align: right;\"> 7585.69</td><td style=\"text-align: right;\">51.4978</td><td style=\"text-align: right;\">  0.39828 </td></tr>\n",
       "<tr><td>GBM_grid_1_AutoML_4_20220224_145614_model_53                            </td><td style=\"text-align: right;\">                 7594.58</td><td style=\"text-align: right;\"> 87.1469</td><td style=\"text-align: right;\"> 7594.58</td><td style=\"text-align: right;\">51.9863</td><td style=\"text-align: right;\">  0.401165</td></tr>\n",
       "<tr><td>GBM_grid_1_AutoML_4_20220224_145614_model_20                            </td><td style=\"text-align: right;\">                 7594.76</td><td style=\"text-align: right;\"> 87.1479</td><td style=\"text-align: right;\"> 7594.76</td><td style=\"text-align: right;\">51.5422</td><td style=\"text-align: right;\">  0.396436</td></tr>\n",
       "<tr><td>XGBoost_grid_1_AutoML_4_20220224_145614_model_16                        </td><td style=\"text-align: right;\">                 7595.45</td><td style=\"text-align: right;\"> 87.1519</td><td style=\"text-align: right;\"> 7595.45</td><td style=\"text-align: right;\">51.8775</td><td style=\"text-align: right;\">  0.399001</td></tr>\n",
       "<tr><td>XGBoost_grid_1_AutoML_4_20220224_145614_model_32                        </td><td style=\"text-align: right;\">                 7598.07</td><td style=\"text-align: right;\"> 87.1669</td><td style=\"text-align: right;\"> 7598.07</td><td style=\"text-align: right;\">51.7464</td><td style=\"text-align: right;\">  0.401265</td></tr>\n",
       "<tr><td>XGBoost_grid_1_AutoML_4_20220224_145614_model_66                        </td><td style=\"text-align: right;\">                 7599.57</td><td style=\"text-align: right;\"> 87.1755</td><td style=\"text-align: right;\"> 7599.57</td><td style=\"text-align: right;\">51.3511</td><td style=\"text-align: right;\">  0.398285</td></tr>\n",
       "<tr><td>GBM_4_AutoML_4_20220224_145614                                          </td><td style=\"text-align: right;\">                 7606.61</td><td style=\"text-align: right;\"> 87.2159</td><td style=\"text-align: right;\"> 7606.61</td><td style=\"text-align: right;\">51.948 </td><td style=\"text-align: right;\">  0.401274</td></tr>\n",
       "<tr><td>XGBoost_grid_1_AutoML_4_20220224_145614_model_43                        </td><td style=\"text-align: right;\">                 7606.7 </td><td style=\"text-align: right;\"> 87.2164</td><td style=\"text-align: right;\"> 7606.7 </td><td style=\"text-align: right;\">51.2496</td><td style=\"text-align: right;\">  0.398425</td></tr>\n",
       "<tr><td>GBM_grid_1_AutoML_4_20220224_145614_model_6                             </td><td style=\"text-align: right;\">                 7614.21</td><td style=\"text-align: right;\"> 87.2594</td><td style=\"text-align: right;\"> 7614.21</td><td style=\"text-align: right;\">51.6765</td><td style=\"text-align: right;\">  0.400061</td></tr>\n",
       "<tr><td>GBM_grid_1_AutoML_4_20220224_145614_model_11                            </td><td style=\"text-align: right;\">                 7614.56</td><td style=\"text-align: right;\"> 87.2614</td><td style=\"text-align: right;\"> 7614.56</td><td style=\"text-align: right;\">52.0728</td><td style=\"text-align: right;\">  0.403246</td></tr>\n",
       "<tr><td>GBM_5_AutoML_4_20220224_145614                                          </td><td style=\"text-align: right;\">                 7624.3 </td><td style=\"text-align: right;\"> 87.3172</td><td style=\"text-align: right;\"> 7624.3 </td><td style=\"text-align: right;\">51.9485</td><td style=\"text-align: right;\">  0.399603</td></tr>\n",
       "<tr><td>GBM_grid_1_AutoML_4_20220224_145614_model_60                            </td><td style=\"text-align: right;\">                 7631.4 </td><td style=\"text-align: right;\"> 87.3579</td><td style=\"text-align: right;\"> 7631.4 </td><td style=\"text-align: right;\">51.7684</td><td style=\"text-align: right;\">  0.401412</td></tr>\n",
       "<tr><td>GBM_grid_1_AutoML_4_20220224_145614_model_15                            </td><td style=\"text-align: right;\">                 7640.4 </td><td style=\"text-align: right;\"> 87.4094</td><td style=\"text-align: right;\"> 7640.4 </td><td style=\"text-align: right;\">52.0955</td><td style=\"text-align: right;\">  0.40084 </td></tr>\n",
       "<tr><td>GBM_grid_1_AutoML_4_20220224_145614_model_10                            </td><td style=\"text-align: right;\">                 7645.18</td><td style=\"text-align: right;\"> 87.4367</td><td style=\"text-align: right;\"> 7645.18</td><td style=\"text-align: right;\">51.9964</td><td style=\"text-align: right;\">  0.403429</td></tr>\n",
       "<tr><td>GBM_grid_1_AutoML_4_20220224_145614_model_49                            </td><td style=\"text-align: right;\">                 7645.54</td><td style=\"text-align: right;\"> 87.4388</td><td style=\"text-align: right;\"> 7645.54</td><td style=\"text-align: right;\">52.035 </td><td style=\"text-align: right;\">  0.400012</td></tr>\n",
       "<tr><td>XGBoost_grid_1_AutoML_4_20220224_145614_model_76                        </td><td style=\"text-align: right;\">                 7651.04</td><td style=\"text-align: right;\"> 87.4702</td><td style=\"text-align: right;\"> 7651.04</td><td style=\"text-align: right;\">52.5531</td><td style=\"text-align: right;\">  0.409199</td></tr>\n",
       "<tr><td>XGBoost_grid_1_AutoML_4_20220224_145614_model_34                        </td><td style=\"text-align: right;\">                 7661.92</td><td style=\"text-align: right;\"> 87.5324</td><td style=\"text-align: right;\"> 7661.92</td><td style=\"text-align: right;\">53.8863</td><td style=\"text-align: right;\">  0.421273</td></tr>\n",
       "<tr><td>GBM_2_AutoML_4_20220224_145614                                          </td><td style=\"text-align: right;\">                 7667.04</td><td style=\"text-align: right;\"> 87.5617</td><td style=\"text-align: right;\"> 7667.04</td><td style=\"text-align: right;\">51.8353</td><td style=\"text-align: right;\">  0.399882</td></tr>\n",
       "<tr><td>GBM_grid_1_AutoML_4_20220224_145614_model_34                            </td><td style=\"text-align: right;\">                 7670.48</td><td style=\"text-align: right;\"> 87.5813</td><td style=\"text-align: right;\"> 7670.48</td><td style=\"text-align: right;\">52.9412</td><td style=\"text-align: right;\">  0.410194</td></tr>\n",
       "<tr><td>GBM_grid_1_AutoML_4_20220224_145614_model_57                            </td><td style=\"text-align: right;\">                 7673.03</td><td style=\"text-align: right;\"> 87.5958</td><td style=\"text-align: right;\"> 7673.03</td><td style=\"text-align: right;\">52.1012</td><td style=\"text-align: right;\">  0.397722</td></tr>\n",
       "<tr><td>XGBoost_grid_1_AutoML_4_20220224_145614_model_46                        </td><td style=\"text-align: right;\">                 7678.64</td><td style=\"text-align: right;\"> 87.6278</td><td style=\"text-align: right;\"> 7678.64</td><td style=\"text-align: right;\">52.0805</td><td style=\"text-align: right;\">  0.40549 </td></tr>\n",
       "<tr><td>XGBoost_grid_1_AutoML_4_20220224_145614_model_25                        </td><td style=\"text-align: right;\">                 7679.03</td><td style=\"text-align: right;\"> 87.6301</td><td style=\"text-align: right;\"> 7679.03</td><td style=\"text-align: right;\">52.4222</td><td style=\"text-align: right;\">  0.411178</td></tr>\n",
       "<tr><td>GBM_grid_1_AutoML_4_20220224_145614_model_33                            </td><td style=\"text-align: right;\">                 7679.16</td><td style=\"text-align: right;\"> 87.6308</td><td style=\"text-align: right;\"> 7679.16</td><td style=\"text-align: right;\">51.809 </td><td style=\"text-align: right;\">  0.407339</td></tr>\n",
       "<tr><td>GBM_grid_1_AutoML_4_20220224_145614_model_12                            </td><td style=\"text-align: right;\">                 7681.76</td><td style=\"text-align: right;\"> 87.6457</td><td style=\"text-align: right;\"> 7681.76</td><td style=\"text-align: right;\">51.6486</td><td style=\"text-align: right;\">  0.401423</td></tr>\n",
       "<tr><td>GBM_grid_1_AutoML_4_20220224_145614_model_7                             </td><td style=\"text-align: right;\">                 7688.89</td><td style=\"text-align: right;\"> 87.6863</td><td style=\"text-align: right;\"> 7688.89</td><td style=\"text-align: right;\">51.7989</td><td style=\"text-align: right;\">  0.40447 </td></tr>\n",
       "<tr><td>XGBoost_grid_1_AutoML_4_20220224_145614_model_86                        </td><td style=\"text-align: right;\">                 7690.54</td><td style=\"text-align: right;\"> 87.6957</td><td style=\"text-align: right;\"> 7690.54</td><td style=\"text-align: right;\">52.4784</td><td style=\"text-align: right;\">  0.4093  </td></tr>\n",
       "<tr><td>StackedEnsemble_BestOfFamily_7_AutoML_4_20220224_145614                 </td><td style=\"text-align: right;\">                 7690.97</td><td style=\"text-align: right;\"> 87.6982</td><td style=\"text-align: right;\"> 7690.97</td><td style=\"text-align: right;\">51.4661</td><td style=\"text-align: right;\">  0.391678</td></tr>\n",
       "<tr><td>GBM_grid_1_AutoML_4_20220224_145614_model_22                            </td><td style=\"text-align: right;\">                 7696.65</td><td style=\"text-align: right;\"> 87.7305</td><td style=\"text-align: right;\"> 7696.65</td><td style=\"text-align: right;\">52.5577</td><td style=\"text-align: right;\">  0.401217</td></tr>\n",
       "<tr><td>XGBoost_grid_1_AutoML_4_20220224_145614_model_10                        </td><td style=\"text-align: right;\">                 7697.36</td><td style=\"text-align: right;\"> 87.7346</td><td style=\"text-align: right;\"> 7697.36</td><td style=\"text-align: right;\">52.2725</td><td style=\"text-align: right;\">  0.403876</td></tr>\n",
       "<tr><td>XGBoost_grid_1_AutoML_4_20220224_145614_model_35                        </td><td style=\"text-align: right;\">                 7697.44</td><td style=\"text-align: right;\"> 87.735 </td><td style=\"text-align: right;\"> 7697.44</td><td style=\"text-align: right;\">52.4451</td><td style=\"text-align: right;\">  0.409347</td></tr>\n",
       "<tr><td>StackedEnsemble_AllModels_6_AutoML_4_20220224_145614                    </td><td style=\"text-align: right;\">                 7704.73</td><td style=\"text-align: right;\"> 87.7766</td><td style=\"text-align: right;\"> 7704.73</td><td style=\"text-align: right;\">51.4754</td><td style=\"text-align: right;\">  0.393868</td></tr>\n",
       "<tr><td>GBM_grid_1_AutoML_4_20220224_145614_model_21                            </td><td style=\"text-align: right;\">                 7707.2 </td><td style=\"text-align: right;\"> 87.7907</td><td style=\"text-align: right;\"> 7707.2 </td><td style=\"text-align: right;\">52.4257</td><td style=\"text-align: right;\">  0.399889</td></tr>\n",
       "<tr><td>GBM_grid_1_AutoML_4_20220224_145614_model_18                            </td><td style=\"text-align: right;\">                 7708.81</td><td style=\"text-align: right;\"> 87.7998</td><td style=\"text-align: right;\"> 7708.81</td><td style=\"text-align: right;\">52.3056</td><td style=\"text-align: right;\">  0.400502</td></tr>\n",
       "<tr><td>GBM_grid_1_AutoML_4_20220224_145614_model_5                             </td><td style=\"text-align: right;\">                 7710.71</td><td style=\"text-align: right;\"> 87.8106</td><td style=\"text-align: right;\"> 7710.71</td><td style=\"text-align: right;\">53.0689</td><td style=\"text-align: right;\">  0.407761</td></tr>\n",
       "<tr><td>XGBoost_grid_1_AutoML_4_20220224_145614_model_56                        </td><td style=\"text-align: right;\">                 7716.77</td><td style=\"text-align: right;\"> 87.8451</td><td style=\"text-align: right;\"> 7716.77</td><td style=\"text-align: right;\">51.8972</td><td style=\"text-align: right;\">  0.400755</td></tr>\n",
       "<tr><td>XGBoost_grid_1_AutoML_4_20220224_145614_model_48                        </td><td style=\"text-align: right;\">                 7721.07</td><td style=\"text-align: right;\"> 87.8696</td><td style=\"text-align: right;\"> 7721.07</td><td style=\"text-align: right;\">52.6725</td><td style=\"text-align: right;\">nan       </td></tr>\n",
       "<tr><td>GBM_grid_1_AutoML_4_20220224_145614_model_44                            </td><td style=\"text-align: right;\">                 7733.66</td><td style=\"text-align: right;\"> 87.9412</td><td style=\"text-align: right;\"> 7733.66</td><td style=\"text-align: right;\">52.5608</td><td style=\"text-align: right;\">  0.402624</td></tr>\n",
       "<tr><td>XGBoost_grid_1_AutoML_4_20220224_145614_model_9                         </td><td style=\"text-align: right;\">                 7738.41</td><td style=\"text-align: right;\"> 87.9683</td><td style=\"text-align: right;\"> 7738.41</td><td style=\"text-align: right;\">53.796 </td><td style=\"text-align: right;\">  0.417985</td></tr>\n",
       "<tr><td>XGBoost_grid_1_AutoML_4_20220224_145614_model_72                        </td><td style=\"text-align: right;\">                 7745.57</td><td style=\"text-align: right;\"> 88.0089</td><td style=\"text-align: right;\"> 7745.57</td><td style=\"text-align: right;\">51.7473</td><td style=\"text-align: right;\">  0.40644 </td></tr>\n",
       "<tr><td>GBM_grid_1_AutoML_4_20220224_145614_model_58                            </td><td style=\"text-align: right;\">                 7749.92</td><td style=\"text-align: right;\"> 88.0337</td><td style=\"text-align: right;\"> 7749.92</td><td style=\"text-align: right;\">52.2677</td><td style=\"text-align: right;\">  0.405074</td></tr>\n",
       "<tr><td>DeepLearning_grid_3_AutoML_4_20220224_145614_model_3                    </td><td style=\"text-align: right;\">                 7752.09</td><td style=\"text-align: right;\"> 88.0459</td><td style=\"text-align: right;\"> 7752.09</td><td style=\"text-align: right;\">52.2682</td><td style=\"text-align: right;\">  0.408548</td></tr>\n",
       "<tr><td>GBM_1_AutoML_4_20220224_145614                                          </td><td style=\"text-align: right;\">                 7753.84</td><td style=\"text-align: right;\"> 88.0559</td><td style=\"text-align: right;\"> 7753.84</td><td style=\"text-align: right;\">51.9746</td><td style=\"text-align: right;\">  0.40693 </td></tr>\n",
       "<tr><td>GBM_grid_1_AutoML_4_20220224_145614_model_31                            </td><td style=\"text-align: right;\">                 7754.31</td><td style=\"text-align: right;\"> 88.0585</td><td style=\"text-align: right;\"> 7754.31</td><td style=\"text-align: right;\">51.8727</td><td style=\"text-align: right;\">  0.406242</td></tr>\n",
       "<tr><td>XGBoost_grid_1_AutoML_4_20220224_145614_model_30                        </td><td style=\"text-align: right;\">                 7757.77</td><td style=\"text-align: right;\"> 88.0782</td><td style=\"text-align: right;\"> 7757.77</td><td style=\"text-align: right;\">52.9946</td><td style=\"text-align: right;\">  0.410912</td></tr>\n",
       "<tr><td>GBM_grid_1_AutoML_4_20220224_145614_model_59                            </td><td style=\"text-align: right;\">                 7764.25</td><td style=\"text-align: right;\"> 88.115 </td><td style=\"text-align: right;\"> 7764.25</td><td style=\"text-align: right;\">52.361 </td><td style=\"text-align: right;\">  0.403536</td></tr>\n",
       "<tr><td>GBM_grid_1_AutoML_4_20220224_145614_model_48                            </td><td style=\"text-align: right;\">                 7764.42</td><td style=\"text-align: right;\"> 88.1159</td><td style=\"text-align: right;\"> 7764.42</td><td style=\"text-align: right;\">52.1994</td><td style=\"text-align: right;\">  0.405836</td></tr>\n",
       "<tr><td>DeepLearning_grid_2_AutoML_4_20220224_145614_model_9                    </td><td style=\"text-align: right;\">                 7764.8 </td><td style=\"text-align: right;\"> 88.1181</td><td style=\"text-align: right;\"> 7764.8 </td><td style=\"text-align: right;\">53.2867</td><td style=\"text-align: right;\">nan       </td></tr>\n",
       "<tr><td>GBM_grid_1_AutoML_4_20220224_145614_model_27                            </td><td style=\"text-align: right;\">                 7767.24</td><td style=\"text-align: right;\"> 88.1319</td><td style=\"text-align: right;\"> 7767.24</td><td style=\"text-align: right;\">52.0816</td><td style=\"text-align: right;\">  0.406397</td></tr>\n",
       "<tr><td>GBM_grid_1_AutoML_4_20220224_145614_model_4                             </td><td style=\"text-align: right;\">                 7770.27</td><td style=\"text-align: right;\"> 88.1492</td><td style=\"text-align: right;\"> 7770.27</td><td style=\"text-align: right;\">52.589 </td><td style=\"text-align: right;\">  0.409538</td></tr>\n",
       "<tr><td>XGBoost_grid_1_AutoML_4_20220224_145614_model_36                        </td><td style=\"text-align: right;\">                 7776.81</td><td style=\"text-align: right;\"> 88.1862</td><td style=\"text-align: right;\"> 7776.81</td><td style=\"text-align: right;\">52.6747</td><td style=\"text-align: right;\">  0.408799</td></tr>\n",
       "<tr><td>XGBoost_grid_1_AutoML_4_20220224_145614_model_2                         </td><td style=\"text-align: right;\">                 7777.22</td><td style=\"text-align: right;\"> 88.1886</td><td style=\"text-align: right;\"> 7777.22</td><td style=\"text-align: right;\">53.116 </td><td style=\"text-align: right;\">  0.414575</td></tr>\n",
       "<tr><td>XGBoost_grid_1_AutoML_4_20220224_145614_model_49                        </td><td style=\"text-align: right;\">                 7781.05</td><td style=\"text-align: right;\"> 88.2103</td><td style=\"text-align: right;\"> 7781.05</td><td style=\"text-align: right;\">52.6368</td><td style=\"text-align: right;\">  0.417312</td></tr>\n",
       "<tr><td>XGBoost_3_AutoML_4_20220224_145614                                      </td><td style=\"text-align: right;\">                 7788.74</td><td style=\"text-align: right;\"> 88.2538</td><td style=\"text-align: right;\"> 7788.74</td><td style=\"text-align: right;\">53.3363</td><td style=\"text-align: right;\">nan       </td></tr>\n",
       "<tr><td>XGBoost_grid_1_AutoML_4_20220224_145614_model_1                         </td><td style=\"text-align: right;\">                 7795.48</td><td style=\"text-align: right;\"> 88.292 </td><td style=\"text-align: right;\"> 7795.48</td><td style=\"text-align: right;\">53.7862</td><td style=\"text-align: right;\">  0.420612</td></tr>\n",
       "<tr><td>DRF_1_AutoML_4_20220224_145614                                          </td><td style=\"text-align: right;\">                 7814.48</td><td style=\"text-align: right;\"> 88.3996</td><td style=\"text-align: right;\"> 7814.48</td><td style=\"text-align: right;\">53.1602</td><td style=\"text-align: right;\">  0.40375 </td></tr>\n",
       "<tr><td>GBM_grid_1_AutoML_4_20220224_145614_model_23                            </td><td style=\"text-align: right;\">                 7817.23</td><td style=\"text-align: right;\"> 88.4151</td><td style=\"text-align: right;\"> 7817.23</td><td style=\"text-align: right;\">52.3386</td><td style=\"text-align: right;\">  0.409867</td></tr>\n",
       "<tr><td>XRT_1_AutoML_4_20220224_145614                                          </td><td style=\"text-align: right;\">                 7823.76</td><td style=\"text-align: right;\"> 88.452 </td><td style=\"text-align: right;\"> 7823.76</td><td style=\"text-align: right;\">53.5774</td><td style=\"text-align: right;\">  0.412096</td></tr>\n",
       "<tr><td>GBM_grid_1_AutoML_4_20220224_145614_model_47                            </td><td style=\"text-align: right;\">                 7824.75</td><td style=\"text-align: right;\"> 88.4576</td><td style=\"text-align: right;\"> 7824.75</td><td style=\"text-align: right;\">52.1003</td><td style=\"text-align: right;\">  0.401851</td></tr>\n",
       "<tr><td>XGBoost_grid_1_AutoML_4_20220224_145614_model_15                        </td><td style=\"text-align: right;\">                 7834.76</td><td style=\"text-align: right;\"> 88.5142</td><td style=\"text-align: right;\"> 7834.76</td><td style=\"text-align: right;\">53.0715</td><td style=\"text-align: right;\">  0.418716</td></tr>\n",
       "<tr><td>GBM_grid_1_AutoML_4_20220224_145614_model_46                            </td><td style=\"text-align: right;\">                 7834.76</td><td style=\"text-align: right;\"> 88.5142</td><td style=\"text-align: right;\"> 7834.76</td><td style=\"text-align: right;\">52.9804</td><td style=\"text-align: right;\">  0.404458</td></tr>\n",
       "<tr><td>GBM_grid_1_AutoML_4_20220224_145614_model_40                            </td><td style=\"text-align: right;\">                 7854.2 </td><td style=\"text-align: right;\"> 88.6239</td><td style=\"text-align: right;\"> 7854.2 </td><td style=\"text-align: right;\">53.0254</td><td style=\"text-align: right;\">  0.405456</td></tr>\n",
       "<tr><td>GBM_grid_1_AutoML_4_20220224_145614_model_54                            </td><td style=\"text-align: right;\">                 7857.81</td><td style=\"text-align: right;\"> 88.6443</td><td style=\"text-align: right;\"> 7857.81</td><td style=\"text-align: right;\">53.0067</td><td style=\"text-align: right;\">  0.402291</td></tr>\n",
       "<tr><td>XGBoost_grid_1_AutoML_4_20220224_145614_model_26                        </td><td style=\"text-align: right;\">                 7869.81</td><td style=\"text-align: right;\"> 88.712 </td><td style=\"text-align: right;\"> 7869.81</td><td style=\"text-align: right;\">52.8154</td><td style=\"text-align: right;\">nan       </td></tr>\n",
       "<tr><td>XGBoost_grid_1_AutoML_4_20220224_145614_model_39                        </td><td style=\"text-align: right;\">                 7874.5 </td><td style=\"text-align: right;\"> 88.7384</td><td style=\"text-align: right;\"> 7874.5 </td><td style=\"text-align: right;\">52.9781</td><td style=\"text-align: right;\">  0.412841</td></tr>\n",
       "<tr><td>DeepLearning_grid_1_AutoML_4_20220224_145614_model_7                    </td><td style=\"text-align: right;\">                 7887.24</td><td style=\"text-align: right;\"> 88.8101</td><td style=\"text-align: right;\"> 7887.24</td><td style=\"text-align: right;\">53.6551</td><td style=\"text-align: right;\">nan       </td></tr>\n",
       "<tr><td>DeepLearning_grid_2_AutoML_4_20220224_145614_model_11                   </td><td style=\"text-align: right;\">                 7890.5 </td><td style=\"text-align: right;\"> 88.8285</td><td style=\"text-align: right;\"> 7890.5 </td><td style=\"text-align: right;\">53.7767</td><td style=\"text-align: right;\">nan       </td></tr>\n",
       "<tr><td>GBM_grid_1_AutoML_4_20220224_145614_model_51                            </td><td style=\"text-align: right;\">                 7890.67</td><td style=\"text-align: right;\"> 88.8294</td><td style=\"text-align: right;\"> 7890.67</td><td style=\"text-align: right;\">52.5537</td><td style=\"text-align: right;\">  0.414434</td></tr>\n",
       "<tr><td>GBM_grid_1_AutoML_4_20220224_145614_model_17                            </td><td style=\"text-align: right;\">                 7902.19</td><td style=\"text-align: right;\"> 88.8943</td><td style=\"text-align: right;\"> 7902.19</td><td style=\"text-align: right;\">53.5217</td><td style=\"text-align: right;\">  0.417946</td></tr>\n",
       "<tr><td>XGBoost_grid_1_AutoML_4_20220224_145614_model_21                        </td><td style=\"text-align: right;\">                 7913.18</td><td style=\"text-align: right;\"> 88.9561</td><td style=\"text-align: right;\"> 7913.18</td><td style=\"text-align: right;\">53.0271</td><td style=\"text-align: right;\">nan       </td></tr>\n",
       "<tr><td>XGBoost_grid_1_AutoML_4_20220224_145614_model_20                        </td><td style=\"text-align: right;\">                 7926.54</td><td style=\"text-align: right;\"> 89.0311</td><td style=\"text-align: right;\"> 7926.54</td><td style=\"text-align: right;\">53.8716</td><td style=\"text-align: right;\">  0.429032</td></tr>\n",
       "<tr><td>GBM_grid_1_AutoML_4_20220224_145614_model_56                            </td><td style=\"text-align: right;\">                 7927.41</td><td style=\"text-align: right;\"> 89.036 </td><td style=\"text-align: right;\"> 7927.41</td><td style=\"text-align: right;\">54.414 </td><td style=\"text-align: right;\">  0.415607</td></tr>\n",
       "<tr><td>XGBoost_grid_1_AutoML_4_20220224_145614_model_4                         </td><td style=\"text-align: right;\">                 7929.29</td><td style=\"text-align: right;\"> 89.0466</td><td style=\"text-align: right;\"> 7929.29</td><td style=\"text-align: right;\">53.6876</td><td style=\"text-align: right;\">nan       </td></tr>\n",
       "<tr><td>XGBoost_grid_1_AutoML_4_20220224_145614_model_74                        </td><td style=\"text-align: right;\">                 7933.32</td><td style=\"text-align: right;\"> 89.0692</td><td style=\"text-align: right;\"> 7933.32</td><td style=\"text-align: right;\">54.0661</td><td style=\"text-align: right;\">  0.418504</td></tr>\n",
       "<tr><td>XGBoost_grid_1_AutoML_4_20220224_145614_model_31                        </td><td style=\"text-align: right;\">                 7941.1 </td><td style=\"text-align: right;\"> 89.1128</td><td style=\"text-align: right;\"> 7941.1 </td><td style=\"text-align: right;\">53.9459</td><td style=\"text-align: right;\">nan       </td></tr>\n",
       "<tr><td>XGBoost_grid_1_AutoML_4_20220224_145614_model_63                        </td><td style=\"text-align: right;\">                 7952.47</td><td style=\"text-align: right;\"> 89.1766</td><td style=\"text-align: right;\"> 7952.47</td><td style=\"text-align: right;\">54.0541</td><td style=\"text-align: right;\">nan       </td></tr>\n",
       "<tr><td>XGBoost_grid_1_AutoML_4_20220224_145614_model_18                        </td><td style=\"text-align: right;\">                 7955.28</td><td style=\"text-align: right;\"> 89.1924</td><td style=\"text-align: right;\"> 7955.28</td><td style=\"text-align: right;\">53.7226</td><td style=\"text-align: right;\">  0.415867</td></tr>\n",
       "<tr><td>GBM_grid_1_AutoML_4_20220224_145614_model_32                            </td><td style=\"text-align: right;\">                 7955.53</td><td style=\"text-align: right;\"> 89.1938</td><td style=\"text-align: right;\"> 7955.53</td><td style=\"text-align: right;\">52.8782</td><td style=\"text-align: right;\">  0.414203</td></tr>\n",
       "<tr><td>XGBoost_grid_1_AutoML_4_20220224_145614_model_54                        </td><td style=\"text-align: right;\">                 7963.37</td><td style=\"text-align: right;\"> 89.2377</td><td style=\"text-align: right;\"> 7963.37</td><td style=\"text-align: right;\">54.2648</td><td style=\"text-align: right;\">  0.433242</td></tr>\n",
       "<tr><td>GBM_grid_1_AutoML_4_20220224_145614_model_41                            </td><td style=\"text-align: right;\">                 7966.23</td><td style=\"text-align: right;\"> 89.2538</td><td style=\"text-align: right;\"> 7966.23</td><td style=\"text-align: right;\">54.261 </td><td style=\"text-align: right;\">  0.413937</td></tr>\n",
       "<tr><td>DeepLearning_grid_2_AutoML_4_20220224_145614_model_10                   </td><td style=\"text-align: right;\">                 7969.77</td><td style=\"text-align: right;\"> 89.2736</td><td style=\"text-align: right;\"> 7969.77</td><td style=\"text-align: right;\">55.8209</td><td style=\"text-align: right;\">nan       </td></tr>\n",
       "<tr><td>XGBoost_grid_1_AutoML_4_20220224_145614_model_61                        </td><td style=\"text-align: right;\">                 7970.46</td><td style=\"text-align: right;\"> 89.2774</td><td style=\"text-align: right;\"> 7970.46</td><td style=\"text-align: right;\">54.8138</td><td style=\"text-align: right;\">nan       </td></tr>\n",
       "<tr><td>XGBoost_grid_1_AutoML_4_20220224_145614_model_8                         </td><td style=\"text-align: right;\">                 7982   </td><td style=\"text-align: right;\"> 89.342 </td><td style=\"text-align: right;\"> 7982   </td><td style=\"text-align: right;\">52.7405</td><td style=\"text-align: right;\">nan       </td></tr>\n",
       "<tr><td>XGBoost_grid_1_AutoML_4_20220224_145614_model_19                        </td><td style=\"text-align: right;\">                 7987.32</td><td style=\"text-align: right;\"> 89.3718</td><td style=\"text-align: right;\"> 7987.32</td><td style=\"text-align: right;\">55.3582</td><td style=\"text-align: right;\">  0.429302</td></tr>\n",
       "<tr><td>DeepLearning_grid_2_AutoML_4_20220224_145614_model_14                   </td><td style=\"text-align: right;\">                 7988.4 </td><td style=\"text-align: right;\"> 89.3778</td><td style=\"text-align: right;\"> 7988.4 </td><td style=\"text-align: right;\">57.2588</td><td style=\"text-align: right;\">nan       </td></tr>\n",
       "<tr><td>DeepLearning_grid_1_AutoML_4_20220224_145614_model_2                    </td><td style=\"text-align: right;\">                 7988.62</td><td style=\"text-align: right;\"> 89.3791</td><td style=\"text-align: right;\"> 7988.62</td><td style=\"text-align: right;\">54.8228</td><td style=\"text-align: right;\">nan       </td></tr>\n",
       "<tr><td>DeepLearning_grid_1_AutoML_4_20220224_145614_model_3                    </td><td style=\"text-align: right;\">                 8007.03</td><td style=\"text-align: right;\"> 89.482 </td><td style=\"text-align: right;\"> 8007.03</td><td style=\"text-align: right;\">54.1358</td><td style=\"text-align: right;\">nan       </td></tr>\n",
       "<tr><td>DeepLearning_grid_1_AutoML_4_20220224_145614_model_17                   </td><td style=\"text-align: right;\">                 8007.13</td><td style=\"text-align: right;\"> 89.4825</td><td style=\"text-align: right;\"> 8007.13</td><td style=\"text-align: right;\">54.1681</td><td style=\"text-align: right;\">nan       </td></tr>\n",
       "<tr><td>GBM_grid_1_AutoML_4_20220224_145614_model_13                            </td><td style=\"text-align: right;\">                 8027.99</td><td style=\"text-align: right;\"> 89.5991</td><td style=\"text-align: right;\"> 8027.99</td><td style=\"text-align: right;\">54.2254</td><td style=\"text-align: right;\">  0.414478</td></tr>\n",
       "<tr><td>DeepLearning_grid_2_AutoML_4_20220224_145614_model_8                    </td><td style=\"text-align: right;\">                 8030.91</td><td style=\"text-align: right;\"> 89.6153</td><td style=\"text-align: right;\"> 8030.91</td><td style=\"text-align: right;\">55.9415</td><td style=\"text-align: right;\">nan       </td></tr>\n",
       "<tr><td>GBM_grid_1_AutoML_4_20220224_145614_model_30                            </td><td style=\"text-align: right;\">                 8041.83</td><td style=\"text-align: right;\"> 89.6762</td><td style=\"text-align: right;\"> 8041.83</td><td style=\"text-align: right;\">54.3299</td><td style=\"text-align: right;\">  0.413817</td></tr>\n",
       "<tr><td>DeepLearning_grid_1_AutoML_4_20220224_145614_model_6                    </td><td style=\"text-align: right;\">                 8049.37</td><td style=\"text-align: right;\"> 89.7183</td><td style=\"text-align: right;\"> 8049.37</td><td style=\"text-align: right;\">54.0573</td><td style=\"text-align: right;\">nan       </td></tr>\n",
       "<tr><td>XGBoost_grid_1_AutoML_4_20220224_145614_model_52                        </td><td style=\"text-align: right;\">                 8054.7 </td><td style=\"text-align: right;\"> 89.748 </td><td style=\"text-align: right;\"> 8054.7 </td><td style=\"text-align: right;\">54.8088</td><td style=\"text-align: right;\">nan       </td></tr>\n",
       "<tr><td>XGBoost_grid_1_AutoML_4_20220224_145614_model_29                        </td><td style=\"text-align: right;\">                 8058.49</td><td style=\"text-align: right;\"> 89.7691</td><td style=\"text-align: right;\"> 8058.49</td><td style=\"text-align: right;\">53.153 </td><td style=\"text-align: right;\">nan       </td></tr>\n",
       "<tr><td>XGBoost_grid_1_AutoML_4_20220224_145614_model_38                        </td><td style=\"text-align: right;\">                 8061.77</td><td style=\"text-align: right;\"> 89.7874</td><td style=\"text-align: right;\"> 8061.77</td><td style=\"text-align: right;\">54.8788</td><td style=\"text-align: right;\">  0.428943</td></tr>\n",
       "<tr><td>XGBoost_grid_1_AutoML_4_20220224_145614_model_90                        </td><td style=\"text-align: right;\">                 8069.24</td><td style=\"text-align: right;\"> 89.8289</td><td style=\"text-align: right;\"> 8069.24</td><td style=\"text-align: right;\">53.4467</td><td style=\"text-align: right;\">  0.410786</td></tr>\n",
       "<tr><td>XGBoost_grid_1_AutoML_4_20220224_145614_model_77                        </td><td style=\"text-align: right;\">                 8072.39</td><td style=\"text-align: right;\"> 89.8465</td><td style=\"text-align: right;\"> 8072.39</td><td style=\"text-align: right;\">54.1719</td><td style=\"text-align: right;\">nan       </td></tr>\n",
       "<tr><td>DeepLearning_grid_1_AutoML_4_20220224_145614_model_16                   </td><td style=\"text-align: right;\">                 8074.18</td><td style=\"text-align: right;\"> 89.8564</td><td style=\"text-align: right;\"> 8074.18</td><td style=\"text-align: right;\">53.2143</td><td style=\"text-align: right;\">nan       </td></tr>\n",
       "<tr><td>DeepLearning_grid_1_AutoML_4_20220224_145614_model_14                   </td><td style=\"text-align: right;\">                 8082.94</td><td style=\"text-align: right;\"> 89.9052</td><td style=\"text-align: right;\"> 8082.94</td><td style=\"text-align: right;\">54.2516</td><td style=\"text-align: right;\">nan       </td></tr>\n",
       "<tr><td>GBM_grid_1_AutoML_4_20220224_145614_model_24                            </td><td style=\"text-align: right;\">                 8083.39</td><td style=\"text-align: right;\"> 89.9077</td><td style=\"text-align: right;\"> 8083.39</td><td style=\"text-align: right;\">54.8053</td><td style=\"text-align: right;\">  0.415422</td></tr>\n",
       "<tr><td>XGBoost_grid_1_AutoML_4_20220224_145614_model_73                        </td><td style=\"text-align: right;\">                 8092.63</td><td style=\"text-align: right;\"> 89.959 </td><td style=\"text-align: right;\"> 8092.63</td><td style=\"text-align: right;\">55.426 </td><td style=\"text-align: right;\">  0.437926</td></tr>\n",
       "<tr><td>GBM_grid_1_AutoML_4_20220224_145614_model_37                            </td><td style=\"text-align: right;\">                 8097.29</td><td style=\"text-align: right;\"> 89.9849</td><td style=\"text-align: right;\"> 8097.29</td><td style=\"text-align: right;\">54.1149</td><td style=\"text-align: right;\">  0.410089</td></tr>\n",
       "<tr><td>DeepLearning_grid_1_AutoML_4_20220224_145614_model_15                   </td><td style=\"text-align: right;\">                 8101.67</td><td style=\"text-align: right;\"> 90.0093</td><td style=\"text-align: right;\"> 8101.67</td><td style=\"text-align: right;\">53.5268</td><td style=\"text-align: right;\">nan       </td></tr>\n",
       "<tr><td>XGBoost_grid_1_AutoML_4_20220224_145614_model_83                        </td><td style=\"text-align: right;\">                 8101.77</td><td style=\"text-align: right;\"> 90.0098</td><td style=\"text-align: right;\"> 8101.77</td><td style=\"text-align: right;\">54.8249</td><td style=\"text-align: right;\">nan       </td></tr>\n",
       "<tr><td>DeepLearning_grid_2_AutoML_4_20220224_145614_model_3                    </td><td style=\"text-align: right;\">                 8103.3 </td><td style=\"text-align: right;\"> 90.0183</td><td style=\"text-align: right;\"> 8103.3 </td><td style=\"text-align: right;\">56.1653</td><td style=\"text-align: right;\">nan       </td></tr>\n",
       "<tr><td>DeepLearning_grid_2_AutoML_4_20220224_145614_model_16                   </td><td style=\"text-align: right;\">                 8117.93</td><td style=\"text-align: right;\"> 90.0996</td><td style=\"text-align: right;\"> 8117.93</td><td style=\"text-align: right;\">53.8065</td><td style=\"text-align: right;\">  0.420263</td></tr>\n",
       "<tr><td>DeepLearning_grid_2_AutoML_4_20220224_145614_model_12                   </td><td style=\"text-align: right;\">                 8128.45</td><td style=\"text-align: right;\"> 90.1579</td><td style=\"text-align: right;\"> 8128.45</td><td style=\"text-align: right;\">57.789 </td><td style=\"text-align: right;\">nan       </td></tr>\n",
       "<tr><td>XGBoost_grid_1_AutoML_4_20220224_145614_model_27                        </td><td style=\"text-align: right;\">                 8140.89</td><td style=\"text-align: right;\"> 90.2269</td><td style=\"text-align: right;\"> 8140.89</td><td style=\"text-align: right;\">55.4258</td><td style=\"text-align: right;\">  0.434467</td></tr>\n",
       "<tr><td>GBM_grid_1_AutoML_4_20220224_145614_model_42                            </td><td style=\"text-align: right;\">                 8149.18</td><td style=\"text-align: right;\"> 90.2728</td><td style=\"text-align: right;\"> 8149.18</td><td style=\"text-align: right;\">54.4619</td><td style=\"text-align: right;\">  0.418817</td></tr>\n",
       "<tr><td>DeepLearning_grid_1_AutoML_4_20220224_145614_model_12                   </td><td style=\"text-align: right;\">                 8149.45</td><td style=\"text-align: right;\"> 90.2743</td><td style=\"text-align: right;\"> 8149.45</td><td style=\"text-align: right;\">55.0391</td><td style=\"text-align: right;\">nan       </td></tr>\n",
       "<tr><td>DeepLearning_grid_1_AutoML_4_20220224_145614_model_1                    </td><td style=\"text-align: right;\">                 8152.82</td><td style=\"text-align: right;\"> 90.2929</td><td style=\"text-align: right;\"> 8152.82</td><td style=\"text-align: right;\">54.6291</td><td style=\"text-align: right;\">nan       </td></tr>\n",
       "<tr><td>XGBoost_grid_1_AutoML_4_20220224_145614_model_53                        </td><td style=\"text-align: right;\">                 8158.13</td><td style=\"text-align: right;\"> 90.3224</td><td style=\"text-align: right;\"> 8158.13</td><td style=\"text-align: right;\">55.3068</td><td style=\"text-align: right;\">  0.425175</td></tr>\n",
       "<tr><td>DeepLearning_grid_1_AutoML_4_20220224_145614_model_4                    </td><td style=\"text-align: right;\">                 8174.32</td><td style=\"text-align: right;\"> 90.4119</td><td style=\"text-align: right;\"> 8174.32</td><td style=\"text-align: right;\">55.7318</td><td style=\"text-align: right;\">nan       </td></tr>\n",
       "<tr><td>XGBoost_grid_1_AutoML_4_20220224_145614_model_6                         </td><td style=\"text-align: right;\">                 8185.18</td><td style=\"text-align: right;\"> 90.472 </td><td style=\"text-align: right;\"> 8185.18</td><td style=\"text-align: right;\">55.0494</td><td style=\"text-align: right;\">  0.437567</td></tr>\n",
       "<tr><td>DeepLearning_grid_1_AutoML_4_20220224_145614_model_18                   </td><td style=\"text-align: right;\">                 8195.28</td><td style=\"text-align: right;\"> 90.5278</td><td style=\"text-align: right;\"> 8195.28</td><td style=\"text-align: right;\">55.284 </td><td style=\"text-align: right;\">nan       </td></tr>\n",
       "<tr><td>DeepLearning_grid_1_AutoML_4_20220224_145614_model_11                   </td><td style=\"text-align: right;\">                 8213.39</td><td style=\"text-align: right;\"> 90.6278</td><td style=\"text-align: right;\"> 8213.39</td><td style=\"text-align: right;\">55.8338</td><td style=\"text-align: right;\">nan       </td></tr>\n",
       "<tr><td>XGBoost_grid_1_AutoML_4_20220224_145614_model_11                        </td><td style=\"text-align: right;\">                 8215.4 </td><td style=\"text-align: right;\"> 90.6389</td><td style=\"text-align: right;\"> 8215.4 </td><td style=\"text-align: right;\">55.8548</td><td style=\"text-align: right;\">nan       </td></tr>\n",
       "<tr><td>XGBoost_grid_1_AutoML_4_20220224_145614_model_84                        </td><td style=\"text-align: right;\">                 8215.79</td><td style=\"text-align: right;\"> 90.641 </td><td style=\"text-align: right;\"> 8215.79</td><td style=\"text-align: right;\">54.7035</td><td style=\"text-align: right;\">nan       </td></tr>\n",
       "<tr><td>DeepLearning_grid_3_AutoML_4_20220224_145614_model_5                    </td><td style=\"text-align: right;\">                 8219.09</td><td style=\"text-align: right;\"> 90.6592</td><td style=\"text-align: right;\"> 8219.09</td><td style=\"text-align: right;\">57.7931</td><td style=\"text-align: right;\">nan       </td></tr>\n",
       "<tr><td>DeepLearning_grid_2_AutoML_4_20220224_145614_model_13                   </td><td style=\"text-align: right;\">                 8241.18</td><td style=\"text-align: right;\"> 90.7809</td><td style=\"text-align: right;\"> 8241.18</td><td style=\"text-align: right;\">57.4534</td><td style=\"text-align: right;\">nan       </td></tr>\n",
       "<tr><td>XGBoost_grid_1_AutoML_4_20220224_145614_model_51                        </td><td style=\"text-align: right;\">                 8247.71</td><td style=\"text-align: right;\"> 90.8169</td><td style=\"text-align: right;\"> 8247.71</td><td style=\"text-align: right;\">55.1236</td><td style=\"text-align: right;\">nan       </td></tr>\n",
       "<tr><td>DeepLearning_grid_2_AutoML_4_20220224_145614_model_6                    </td><td style=\"text-align: right;\">                 8249.33</td><td style=\"text-align: right;\"> 90.8258</td><td style=\"text-align: right;\"> 8249.33</td><td style=\"text-align: right;\">56.4307</td><td style=\"text-align: right;\">nan       </td></tr>\n",
       "<tr><td>XGBoost_grid_1_AutoML_4_20220224_145614_model_40                        </td><td style=\"text-align: right;\">                 8261.15</td><td style=\"text-align: right;\"> 90.8909</td><td style=\"text-align: right;\"> 8261.15</td><td style=\"text-align: right;\">54.1475</td><td style=\"text-align: right;\">  0.417196</td></tr>\n",
       "<tr><td>XGBoost_grid_1_AutoML_4_20220224_145614_model_89                        </td><td style=\"text-align: right;\">                 8280.35</td><td style=\"text-align: right;\"> 90.9964</td><td style=\"text-align: right;\"> 8280.35</td><td style=\"text-align: right;\">56.208 </td><td style=\"text-align: right;\">nan       </td></tr>\n",
       "<tr><td>GBM_grid_1_AutoML_4_20220224_145614_model_45                            </td><td style=\"text-align: right;\">                 8283.13</td><td style=\"text-align: right;\"> 91.0117</td><td style=\"text-align: right;\"> 8283.13</td><td style=\"text-align: right;\">56.2998</td><td style=\"text-align: right;\">  0.429183</td></tr>\n",
       "<tr><td>DeepLearning_1_AutoML_4_20220224_145614                                 </td><td style=\"text-align: right;\">                 8289.04</td><td style=\"text-align: right;\"> 91.0442</td><td style=\"text-align: right;\"> 8289.04</td><td style=\"text-align: right;\">56.0106</td><td style=\"text-align: right;\">nan       </td></tr>\n",
       "<tr><td>DeepLearning_grid_1_AutoML_4_20220224_145614_model_8                    </td><td style=\"text-align: right;\">                 8300.62</td><td style=\"text-align: right;\"> 91.1078</td><td style=\"text-align: right;\"> 8300.62</td><td style=\"text-align: right;\">56.6907</td><td style=\"text-align: right;\">nan       </td></tr>\n",
       "<tr><td>XGBoost_grid_1_AutoML_4_20220224_145614_model_78                        </td><td style=\"text-align: right;\">                 8301.99</td><td style=\"text-align: right;\"> 91.1153</td><td style=\"text-align: right;\"> 8301.99</td><td style=\"text-align: right;\">56.9235</td><td style=\"text-align: right;\">nan       </td></tr>\n",
       "<tr><td>XGBoost_grid_1_AutoML_4_20220224_145614_model_12                        </td><td style=\"text-align: right;\">                 8304.98</td><td style=\"text-align: right;\"> 91.1317</td><td style=\"text-align: right;\"> 8304.98</td><td style=\"text-align: right;\">55.4061</td><td style=\"text-align: right;\">  0.428846</td></tr>\n",
       "<tr><td>XGBoost_grid_1_AutoML_4_20220224_145614_model_55                        </td><td style=\"text-align: right;\">                 8321.78</td><td style=\"text-align: right;\"> 91.2238</td><td style=\"text-align: right;\"> 8321.78</td><td style=\"text-align: right;\">56.984 </td><td style=\"text-align: right;\">  0.44808 </td></tr>\n",
       "<tr><td>XGBoost_grid_1_AutoML_4_20220224_145614_model_70                        </td><td style=\"text-align: right;\">                 8321.98</td><td style=\"text-align: right;\"> 91.2249</td><td style=\"text-align: right;\"> 8321.98</td><td style=\"text-align: right;\">55.2814</td><td style=\"text-align: right;\">  0.424419</td></tr>\n",
       "<tr><td>XGBoost_grid_1_AutoML_4_20220224_145614_model_88                        </td><td style=\"text-align: right;\">                 8329.46</td><td style=\"text-align: right;\"> 91.2659</td><td style=\"text-align: right;\"> 8329.46</td><td style=\"text-align: right;\">56.3687</td><td style=\"text-align: right;\">  0.441176</td></tr>\n",
       "<tr><td>XGBoost_grid_1_AutoML_4_20220224_145614_model_13                        </td><td style=\"text-align: right;\">                 8352.86</td><td style=\"text-align: right;\"> 91.394 </td><td style=\"text-align: right;\"> 8352.86</td><td style=\"text-align: right;\">56.5048</td><td style=\"text-align: right;\">nan       </td></tr>\n",
       "<tr><td>StackedEnsemble_BestOfFamily_6_AutoML_4_20220224_145614                 </td><td style=\"text-align: right;\">                 8355.62</td><td style=\"text-align: right;\"> 91.4091</td><td style=\"text-align: right;\"> 8355.62</td><td style=\"text-align: right;\">53.714 </td><td style=\"text-align: right;\">  0.40789 </td></tr>\n",
       "<tr><td>XGBoost_grid_1_AutoML_4_20220224_145614_model_79                        </td><td style=\"text-align: right;\">                 8356.55</td><td style=\"text-align: right;\"> 91.4142</td><td style=\"text-align: right;\"> 8356.55</td><td style=\"text-align: right;\">56.1252</td><td style=\"text-align: right;\">  0.441391</td></tr>\n",
       "<tr><td>DeepLearning_grid_2_AutoML_4_20220224_145614_model_2                    </td><td style=\"text-align: right;\">                 8365.5 </td><td style=\"text-align: right;\"> 91.4631</td><td style=\"text-align: right;\"> 8365.5 </td><td style=\"text-align: right;\">56.5794</td><td style=\"text-align: right;\">nan       </td></tr>\n",
       "<tr><td>XGBoost_grid_1_AutoML_4_20220224_145614_model_50                        </td><td style=\"text-align: right;\">                 8395.11</td><td style=\"text-align: right;\"> 91.6248</td><td style=\"text-align: right;\"> 8395.11</td><td style=\"text-align: right;\">56.0141</td><td style=\"text-align: right;\">nan       </td></tr>\n",
       "<tr><td>XGBoost_grid_1_AutoML_4_20220224_145614_model_69                        </td><td style=\"text-align: right;\">                 8404.27</td><td style=\"text-align: right;\"> 91.6748</td><td style=\"text-align: right;\"> 8404.27</td><td style=\"text-align: right;\">54.1323</td><td style=\"text-align: right;\">  0.417848</td></tr>\n",
       "<tr><td>DeepLearning_grid_3_AutoML_4_20220224_145614_model_1                    </td><td style=\"text-align: right;\">                 8413.94</td><td style=\"text-align: right;\"> 91.7275</td><td style=\"text-align: right;\"> 8413.94</td><td style=\"text-align: right;\">59.0535</td><td style=\"text-align: right;\">nan       </td></tr>\n",
       "<tr><td>StackedEnsemble_AllModels_5_AutoML_4_20220224_145614                    </td><td style=\"text-align: right;\">                 8443.07</td><td style=\"text-align: right;\"> 91.8862</td><td style=\"text-align: right;\"> 8443.07</td><td style=\"text-align: right;\">55.4549</td><td style=\"text-align: right;\">  0.4212  </td></tr>\n",
       "<tr><td>GLM_1_AutoML_4_20220224_145614                                          </td><td style=\"text-align: right;\">                 8458.23</td><td style=\"text-align: right;\"> 91.9686</td><td style=\"text-align: right;\"> 8458.23</td><td style=\"text-align: right;\">57.045 </td><td style=\"text-align: right;\">nan       </td></tr>\n",
       "<tr><td>DeepLearning_grid_2_AutoML_4_20220224_145614_model_5                    </td><td style=\"text-align: right;\">                 8463.3 </td><td style=\"text-align: right;\"> 91.9962</td><td style=\"text-align: right;\"> 8463.3 </td><td style=\"text-align: right;\">58.0824</td><td style=\"text-align: right;\">  0.459046</td></tr>\n",
       "<tr><td>DeepLearning_grid_1_AutoML_4_20220224_145614_model_9                    </td><td style=\"text-align: right;\">                 8483.56</td><td style=\"text-align: right;\"> 92.1062</td><td style=\"text-align: right;\"> 8483.56</td><td style=\"text-align: right;\">54.3684</td><td style=\"text-align: right;\">nan       </td></tr>\n",
       "<tr><td>XGBoost_grid_1_AutoML_4_20220224_145614_model_68                        </td><td style=\"text-align: right;\">                 8515.7 </td><td style=\"text-align: right;\"> 92.2806</td><td style=\"text-align: right;\"> 8515.7 </td><td style=\"text-align: right;\">58.7622</td><td style=\"text-align: right;\">nan       </td></tr>\n",
       "<tr><td>XGBoost_grid_1_AutoML_4_20220224_145614_model_58                        </td><td style=\"text-align: right;\">                 8520.03</td><td style=\"text-align: right;\"> 92.304 </td><td style=\"text-align: right;\"> 8520.03</td><td style=\"text-align: right;\">55.3237</td><td style=\"text-align: right;\">  0.426764</td></tr>\n",
       "<tr><td>DeepLearning_grid_2_AutoML_4_20220224_145614_model_7                    </td><td style=\"text-align: right;\">                 8535.78</td><td style=\"text-align: right;\"> 92.3893</td><td style=\"text-align: right;\"> 8535.78</td><td style=\"text-align: right;\">59.6803</td><td style=\"text-align: right;\">nan       </td></tr>\n",
       "<tr><td>XGBoost_grid_1_AutoML_4_20220224_145614_model_60                        </td><td style=\"text-align: right;\">                 8548.99</td><td style=\"text-align: right;\"> 92.4607</td><td style=\"text-align: right;\"> 8548.99</td><td style=\"text-align: right;\">57.561 </td><td style=\"text-align: right;\">nan       </td></tr>\n",
       "<tr><td>XGBoost_grid_1_AutoML_4_20220224_145614_model_87                        </td><td style=\"text-align: right;\">                 8555.97</td><td style=\"text-align: right;\"> 92.4985</td><td style=\"text-align: right;\"> 8555.97</td><td style=\"text-align: right;\">56.3094</td><td style=\"text-align: right;\">  0.440433</td></tr>\n",
       "<tr><td>DeepLearning_grid_2_AutoML_4_20220224_145614_model_17                   </td><td style=\"text-align: right;\">                 8570.12</td><td style=\"text-align: right;\"> 92.5749</td><td style=\"text-align: right;\"> 8570.12</td><td style=\"text-align: right;\">57.4305</td><td style=\"text-align: right;\">nan       </td></tr>\n",
       "<tr><td>XGBoost_grid_1_AutoML_4_20220224_145614_model_67                        </td><td style=\"text-align: right;\">                 8587.48</td><td style=\"text-align: right;\"> 92.6687</td><td style=\"text-align: right;\"> 8587.48</td><td style=\"text-align: right;\">58.0563</td><td style=\"text-align: right;\">nan       </td></tr>\n",
       "<tr><td>DeepLearning_grid_3_AutoML_4_20220224_145614_model_10                   </td><td style=\"text-align: right;\">                 8619.34</td><td style=\"text-align: right;\"> 92.8404</td><td style=\"text-align: right;\"> 8619.34</td><td style=\"text-align: right;\">57.5236</td><td style=\"text-align: right;\">nan       </td></tr>\n",
       "<tr><td>DeepLearning_grid_3_AutoML_4_20220224_145614_model_8                    </td><td style=\"text-align: right;\">                 8635.65</td><td style=\"text-align: right;\"> 92.9282</td><td style=\"text-align: right;\"> 8635.65</td><td style=\"text-align: right;\">56.5381</td><td style=\"text-align: right;\">nan       </td></tr>\n",
       "<tr><td>XGBoost_grid_1_AutoML_4_20220224_145614_model_7                         </td><td style=\"text-align: right;\">                 8645.25</td><td style=\"text-align: right;\"> 92.9798</td><td style=\"text-align: right;\"> 8645.25</td><td style=\"text-align: right;\">57.8785</td><td style=\"text-align: right;\">nan       </td></tr>\n",
       "<tr><td>DeepLearning_grid_1_AutoML_4_20220224_145614_model_5                    </td><td style=\"text-align: right;\">                 8659.87</td><td style=\"text-align: right;\"> 93.0584</td><td style=\"text-align: right;\"> 8659.87</td><td style=\"text-align: right;\">58.0704</td><td style=\"text-align: right;\">nan       </td></tr>\n",
       "<tr><td>XGBoost_grid_1_AutoML_4_20220224_145614_model_33                        </td><td style=\"text-align: right;\">                 8660.99</td><td style=\"text-align: right;\"> 93.0644</td><td style=\"text-align: right;\"> 8660.99</td><td style=\"text-align: right;\">58.371 </td><td style=\"text-align: right;\">nan       </td></tr>\n",
       "<tr><td>DeepLearning_grid_2_AutoML_4_20220224_145614_model_18                   </td><td style=\"text-align: right;\">                 8691.3 </td><td style=\"text-align: right;\"> 93.2272</td><td style=\"text-align: right;\"> 8691.3 </td><td style=\"text-align: right;\">58.7222</td><td style=\"text-align: right;\">nan       </td></tr>\n",
       "<tr><td>XGBoost_grid_1_AutoML_4_20220224_145614_model_65                        </td><td style=\"text-align: right;\">                 8692.49</td><td style=\"text-align: right;\"> 93.2336</td><td style=\"text-align: right;\"> 8692.49</td><td style=\"text-align: right;\">57.3072</td><td style=\"text-align: right;\">  0.435986</td></tr>\n",
       "<tr><td>XGBoost_grid_1_AutoML_4_20220224_145614_model_47                        </td><td style=\"text-align: right;\">                 8737.04</td><td style=\"text-align: right;\"> 93.4721</td><td style=\"text-align: right;\"> 8737.04</td><td style=\"text-align: right;\">58.9374</td><td style=\"text-align: right;\">nan       </td></tr>\n",
       "<tr><td>XGBoost_grid_1_AutoML_4_20220224_145614_model_22                        </td><td style=\"text-align: right;\">                 8766.4 </td><td style=\"text-align: right;\"> 93.6291</td><td style=\"text-align: right;\"> 8766.4 </td><td style=\"text-align: right;\">58.2792</td><td style=\"text-align: right;\">nan       </td></tr>\n",
       "<tr><td>XGBoost_grid_1_AutoML_4_20220224_145614_model_28                        </td><td style=\"text-align: right;\">                 8772.88</td><td style=\"text-align: right;\"> 93.6637</td><td style=\"text-align: right;\"> 8772.88</td><td style=\"text-align: right;\">58.5922</td><td style=\"text-align: right;\">nan       </td></tr>\n",
       "<tr><td>DeepLearning_grid_3_AutoML_4_20220224_145614_model_6                    </td><td style=\"text-align: right;\">                 8786.96</td><td style=\"text-align: right;\"> 93.7388</td><td style=\"text-align: right;\"> 8786.96</td><td style=\"text-align: right;\">63.3893</td><td style=\"text-align: right;\">nan       </td></tr>\n",
       "<tr><td>XGBoost_grid_1_AutoML_4_20220224_145614_model_80                        </td><td style=\"text-align: right;\">                 8796.09</td><td style=\"text-align: right;\"> 93.7875</td><td style=\"text-align: right;\"> 8796.09</td><td style=\"text-align: right;\">57.8704</td><td style=\"text-align: right;\">nan       </td></tr>\n",
       "<tr><td>XGBoost_grid_1_AutoML_4_20220224_145614_model_82                        </td><td style=\"text-align: right;\">                 8808.69</td><td style=\"text-align: right;\"> 93.8546</td><td style=\"text-align: right;\"> 8808.69</td><td style=\"text-align: right;\">57.2229</td><td style=\"text-align: right;\">nan       </td></tr>\n",
       "<tr><td>XGBoost_grid_1_AutoML_4_20220224_145614_model_45                        </td><td style=\"text-align: right;\">                 8822.69</td><td style=\"text-align: right;\"> 93.9292</td><td style=\"text-align: right;\"> 8822.69</td><td style=\"text-align: right;\">58.7884</td><td style=\"text-align: right;\">  0.456778</td></tr>\n",
       "<tr><td>DeepLearning_grid_2_AutoML_4_20220224_145614_model_15                   </td><td style=\"text-align: right;\">                 8828.62</td><td style=\"text-align: right;\"> 93.9608</td><td style=\"text-align: right;\"> 8828.62</td><td style=\"text-align: right;\">64.8285</td><td style=\"text-align: right;\">nan       </td></tr>\n",
       "<tr><td>XGBoost_1_AutoML_4_20220224_145614                                      </td><td style=\"text-align: right;\">                 8834.41</td><td style=\"text-align: right;\"> 93.9916</td><td style=\"text-align: right;\"> 8834.41</td><td style=\"text-align: right;\">60.056 </td><td style=\"text-align: right;\">nan       </td></tr>\n",
       "<tr><td>XGBoost_grid_1_AutoML_4_20220224_145614_model_17                        </td><td style=\"text-align: right;\">                 8874.89</td><td style=\"text-align: right;\"> 94.2066</td><td style=\"text-align: right;\"> 8874.89</td><td style=\"text-align: right;\">59.2023</td><td style=\"text-align: right;\">nan       </td></tr>\n",
       "<tr><td>XGBoost_grid_1_AutoML_4_20220224_145614_model_57                        </td><td style=\"text-align: right;\">                 8887.9 </td><td style=\"text-align: right;\"> 94.2756</td><td style=\"text-align: right;\"> 8887.9 </td><td style=\"text-align: right;\">58.471 </td><td style=\"text-align: right;\">nan       </td></tr>\n",
       "<tr><td>XGBoost_grid_1_AutoML_4_20220224_145614_model_44                        </td><td style=\"text-align: right;\">                 8890.89</td><td style=\"text-align: right;\"> 94.2915</td><td style=\"text-align: right;\"> 8890.89</td><td style=\"text-align: right;\">57.2696</td><td style=\"text-align: right;\">nan       </td></tr>\n",
       "<tr><td>XGBoost_grid_1_AutoML_4_20220224_145614_model_85                        </td><td style=\"text-align: right;\">                 8906.2 </td><td style=\"text-align: right;\"> 94.3727</td><td style=\"text-align: right;\"> 8906.2 </td><td style=\"text-align: right;\">58.6919</td><td style=\"text-align: right;\">  0.45393 </td></tr>\n",
       "<tr><td>XGBoost_grid_1_AutoML_4_20220224_145614_model_14                        </td><td style=\"text-align: right;\">                 8912.28</td><td style=\"text-align: right;\"> 94.4049</td><td style=\"text-align: right;\"> 8912.28</td><td style=\"text-align: right;\">58.4861</td><td style=\"text-align: right;\">nan       </td></tr>\n",
       "<tr><td>GBM_grid_1_AutoML_4_20220224_145614_model_61                            </td><td style=\"text-align: right;\">                 8913.82</td><td style=\"text-align: right;\"> 94.413 </td><td style=\"text-align: right;\"> 8913.82</td><td style=\"text-align: right;\">58.3773</td><td style=\"text-align: right;\">  0.455008</td></tr>\n",
       "<tr><td>XGBoost_grid_1_AutoML_4_20220224_145614_model_41                        </td><td style=\"text-align: right;\">                 8924.07</td><td style=\"text-align: right;\"> 94.4673</td><td style=\"text-align: right;\"> 8924.07</td><td style=\"text-align: right;\">57.1584</td><td style=\"text-align: right;\">nan       </td></tr>\n",
       "<tr><td>XGBoost_grid_1_AutoML_4_20220224_145614_model_62                        </td><td style=\"text-align: right;\">                 8958.22</td><td style=\"text-align: right;\"> 94.6479</td><td style=\"text-align: right;\"> 8958.22</td><td style=\"text-align: right;\">58.0085</td><td style=\"text-align: right;\">  0.44145 </td></tr>\n",
       "<tr><td>DeepLearning_grid_1_AutoML_4_20220224_145614_model_10                   </td><td style=\"text-align: right;\">                 9002.39</td><td style=\"text-align: right;\"> 94.8809</td><td style=\"text-align: right;\"> 9002.39</td><td style=\"text-align: right;\">59.1599</td><td style=\"text-align: right;\">nan       </td></tr>\n",
       "<tr><td>XGBoost_grid_1_AutoML_4_20220224_145614_model_5                         </td><td style=\"text-align: right;\">                 9059.49</td><td style=\"text-align: right;\"> 95.1814</td><td style=\"text-align: right;\"> 9059.49</td><td style=\"text-align: right;\">59.8348</td><td style=\"text-align: right;\">nan       </td></tr>\n",
       "<tr><td>XGBoost_grid_1_AutoML_4_20220224_145614_model_37                        </td><td style=\"text-align: right;\">                 9066.9 </td><td style=\"text-align: right;\"> 95.2203</td><td style=\"text-align: right;\"> 9066.9 </td><td style=\"text-align: right;\">60.5302</td><td style=\"text-align: right;\">nan       </td></tr>\n",
       "<tr><td>DeepLearning_grid_3_AutoML_4_20220224_145614_model_4                    </td><td style=\"text-align: right;\">                 9086.43</td><td style=\"text-align: right;\"> 95.3228</td><td style=\"text-align: right;\"> 9086.43</td><td style=\"text-align: right;\">61.1079</td><td style=\"text-align: right;\">  0.479435</td></tr>\n",
       "<tr><td>XGBoost_2_AutoML_4_20220224_145614                                      </td><td style=\"text-align: right;\">                 9138.74</td><td style=\"text-align: right;\"> 95.5968</td><td style=\"text-align: right;\"> 9138.74</td><td style=\"text-align: right;\">59.5946</td><td style=\"text-align: right;\">nan       </td></tr>\n",
       "<tr><td>DeepLearning_grid_2_AutoML_4_20220224_145614_model_1                    </td><td style=\"text-align: right;\">                 9146.74</td><td style=\"text-align: right;\"> 95.6386</td><td style=\"text-align: right;\"> 9146.74</td><td style=\"text-align: right;\">59.6082</td><td style=\"text-align: right;\">nan       </td></tr>\n",
       "<tr><td>XGBoost_grid_1_AutoML_4_20220224_145614_model_64                        </td><td style=\"text-align: right;\">                 9231.64</td><td style=\"text-align: right;\"> 96.0814</td><td style=\"text-align: right;\"> 9231.64</td><td style=\"text-align: right;\">59.2314</td><td style=\"text-align: right;\">  0.456545</td></tr>\n",
       "<tr><td>XGBoost_grid_1_AutoML_4_20220224_145614_model_59                        </td><td style=\"text-align: right;\">                 9320.91</td><td style=\"text-align: right;\"> 96.5448</td><td style=\"text-align: right;\"> 9320.91</td><td style=\"text-align: right;\">58.8488</td><td style=\"text-align: right;\">nan       </td></tr>\n",
       "<tr><td>DeepLearning_grid_3_AutoML_4_20220224_145614_model_2                    </td><td style=\"text-align: right;\">                 9371.88</td><td style=\"text-align: right;\"> 96.8085</td><td style=\"text-align: right;\"> 9371.88</td><td style=\"text-align: right;\">60.1723</td><td style=\"text-align: right;\">nan       </td></tr>\n",
       "<tr><td>DeepLearning_grid_2_AutoML_4_20220224_145614_model_4                    </td><td style=\"text-align: right;\">                 9481.83</td><td style=\"text-align: right;\"> 97.3747</td><td style=\"text-align: right;\"> 9481.83</td><td style=\"text-align: right;\">62.2779</td><td style=\"text-align: right;\">nan       </td></tr>\n",
       "<tr><td>XGBoost_grid_1_AutoML_4_20220224_145614_model_42                        </td><td style=\"text-align: right;\">                 9632.88</td><td style=\"text-align: right;\"> 98.1472</td><td style=\"text-align: right;\"> 9632.88</td><td style=\"text-align: right;\">60.6328</td><td style=\"text-align: right;\">nan       </td></tr>\n",
       "<tr><td>DeepLearning_grid_1_AutoML_4_20220224_145614_model_13                   </td><td style=\"text-align: right;\">                 9636.44</td><td style=\"text-align: right;\"> 98.1654</td><td style=\"text-align: right;\"> 9636.44</td><td style=\"text-align: right;\">59.9214</td><td style=\"text-align: right;\">nan       </td></tr>\n",
       "<tr><td>XGBoost_grid_1_AutoML_4_20220224_145614_model_3                         </td><td style=\"text-align: right;\">                 9640.7 </td><td style=\"text-align: right;\"> 98.1871</td><td style=\"text-align: right;\"> 9640.7 </td><td style=\"text-align: right;\">59.568 </td><td style=\"text-align: right;\">  0.460174</td></tr>\n",
       "<tr><td>XGBoost_grid_1_AutoML_4_20220224_145614_model_71                        </td><td style=\"text-align: right;\">                 9712.21</td><td style=\"text-align: right;\"> 98.5505</td><td style=\"text-align: right;\"> 9712.21</td><td style=\"text-align: right;\">61.0408</td><td style=\"text-align: right;\">nan       </td></tr>\n",
       "<tr><td>DeepLearning_grid_3_AutoML_4_20220224_145614_model_9                    </td><td style=\"text-align: right;\">                10107.7 </td><td style=\"text-align: right;\">100.537 </td><td style=\"text-align: right;\">10107.7 </td><td style=\"text-align: right;\">60.6721</td><td style=\"text-align: right;\">  0.475166</td></tr>\n",
       "<tr><td>XGBoost_grid_1_AutoML_4_20220224_145614_model_81                        </td><td style=\"text-align: right;\">                10136.5 </td><td style=\"text-align: right;\">100.68  </td><td style=\"text-align: right;\">10136.5 </td><td style=\"text-align: right;\">61.4214</td><td style=\"text-align: right;\">nan       </td></tr>\n",
       "<tr><td>GBM_grid_1_AutoML_4_20220224_145614_model_62                            </td><td style=\"text-align: right;\">                11454.2 </td><td style=\"text-align: right;\">107.024 </td><td style=\"text-align: right;\">11454.2 </td><td style=\"text-align: right;\">69.3182</td><td style=\"text-align: right;\">  0.540763</td></tr>\n",
       "<tr><td>DeepLearning_grid_3_AutoML_4_20220224_145614_model_7                    </td><td style=\"text-align: right;\">                15106.8 </td><td style=\"text-align: right;\">122.91  </td><td style=\"text-align: right;\">15106.8 </td><td style=\"text-align: right;\">55.5389</td><td style=\"text-align: right;\">nan       </td></tr>\n",
       "<tr><td>XGBoost_grid_1_AutoML_4_20220224_145614_model_91                        </td><td style=\"text-align: right;\">                17545.6 </td><td style=\"text-align: right;\">132.46  </td><td style=\"text-align: right;\">17545.6 </td><td style=\"text-align: right;\">88.2793</td><td style=\"text-align: right;\">  0.818496</td></tr>\n",
       "</tbody>\n",
       "</table>"
      ]
     },
     "metadata": {},
     "output_type": "display_data"
    },
    {
     "data": {
      "text/plain": []
     },
     "execution_count": 72,
     "metadata": {},
     "output_type": "execute_result"
    }
   ],
   "source": [
    "lb3 =aml3.leaderboard\n",
    "\n",
    "lb3.head(rows=lb3.nrows)"
   ]
  },
  {
   "cell_type": "code",
   "execution_count": 73,
   "id": "6c990c1b",
   "metadata": {
    "scrolled": false
   },
   "outputs": [
    {
     "name": "stdout",
     "output_type": "stream",
     "text": [
      "Model Details\n",
      "=============\n",
      "H2OStackedEnsembleEstimator :  Stacked Ensemble\n",
      "Model Key:  StackedEnsemble_AllModels_3_AutoML_4_20220224_145614\n",
      "\n",
      "No model summary for this model\n",
      "\n",
      "ModelMetricsRegressionGLM: stackedensemble\n",
      "** Reported on train data. **\n",
      "\n",
      "MSE: 3046.1547186894136\n",
      "RMSE: 55.1919805650188\n",
      "MAE: 33.18807692584005\n",
      "RMSLE: 0.2630079781348781\n",
      "R^2: 0.759170938373203\n",
      "Mean Residual Deviance: 3046.1547186894136\n",
      "Null degrees of freedom: 3327\n",
      "Residual degrees of freedom: 3310\n",
      "Null deviance: 42094599.52764423\n",
      "Residual deviance: 10137602.903798368\n",
      "AIC: 36178.45724266859\n",
      "\n",
      "ModelMetricsRegressionGLM: stackedensemble\n",
      "** Reported on cross-validation data. **\n",
      "\n",
      "MSE: 7209.82688674268\n",
      "RMSE: 84.91069948329644\n",
      "MAE: 50.01178778310782\n",
      "RMSLE: NaN\n",
      "R^2: 0.42999092167815534\n",
      "Mean Residual Deviance: 7209.82688674268\n",
      "Null degrees of freedom: 3327\n",
      "Residual degrees of freedom: 3310\n",
      "Null deviance: 42112184.03134992\n",
      "Residual deviance: 23994303.879079636\n",
      "AIC: 39045.74520860531\n"
     ]
    },
    {
     "data": {
      "text/plain": []
     },
     "execution_count": 73,
     "metadata": {},
     "output_type": "execute_result"
    }
   ],
   "source": [
    "aml3.leader"
   ]
  },
  {
   "cell_type": "markdown",
   "id": "453eecb9",
   "metadata": {},
   "source": [
    "# Predecimos con los leaders"
   ]
  },
  {
   "cell_type": "code",
   "execution_count": 137,
   "id": "ef5dbb9f",
   "metadata": {},
   "outputs": [],
   "source": [
    "test_def = pd.read_csv('data/clean_test.csv')"
   ]
  },
  {
   "cell_type": "code",
   "execution_count": 138,
   "id": "d7191a7f",
   "metadata": {},
   "outputs": [],
   "source": [
    "test_superdef = test_def[['latitude', 'longitude', 'host_since', 'amenities', 'reviews_per_month',\n",
    "                   'number_of_reviews', 'host_verifications', 'host_total_listings_count', 'accommodates',\n",
    "                   'review_scores_rating', 'minimum_nights', 'bathrooms_text', 'host_is_superhost']]"
   ]
  },
  {
   "cell_type": "code",
   "execution_count": 139,
   "id": "b176b86a",
   "metadata": {
    "scrolled": false
   },
   "outputs": [
    {
     "name": "stdout",
     "output_type": "stream",
     "text": [
      "Parse progress: |████████████████████████████████████████████████████████████████| (done) 100%\n"
     ]
    }
   ],
   "source": [
    "test_ = h2o.H2OFrame(test_superdef)"
   ]
  },
  {
   "cell_type": "markdown",
   "id": "7befcf4c",
   "metadata": {},
   "source": [
    "**H2O v1**"
   ]
  },
  {
   "cell_type": "code",
   "execution_count": 140,
   "id": "a1d61b12",
   "metadata": {},
   "outputs": [
    {
     "name": "stdout",
     "output_type": "stream",
     "text": [
      "stackedensemble prediction progress: |███████████████████████████████████████████| (done) 100%\n"
     ]
    }
   ],
   "source": [
    "pred_ = aml.leader.predict(test_)"
   ]
  },
  {
   "cell_type": "code",
   "execution_count": 141,
   "id": "c6e4c472",
   "metadata": {},
   "outputs": [],
   "source": [
    "pred_ = pred_.as_data_frame()"
   ]
  },
  {
   "cell_type": "code",
   "execution_count": 142,
   "id": "8b41ef88",
   "metadata": {},
   "outputs": [],
   "source": [
    "sample_test_h2o = pd.DataFrame()\n",
    "\n",
    "sample_test_h2o['id'] = [str(i) for i in range(len(pred_))]\n",
    "sample_test_h2o['price'] = pred_.predict\n",
    "\n",
    "sample_test_h2o.to_csv(\"data/predict1.csv\", index = False, header=True)"
   ]
  },
  {
   "cell_type": "markdown",
   "id": "b134e873",
   "metadata": {},
   "source": [
    "**H2O v2**"
   ]
  },
  {
   "cell_type": "code",
   "execution_count": 143,
   "id": "59ee5288",
   "metadata": {},
   "outputs": [
    {
     "name": "stdout",
     "output_type": "stream",
     "text": [
      "stackedensemble prediction progress: |███████████████████████████████████████████| (done) 100%\n"
     ]
    }
   ],
   "source": [
    "pred_ = aml2.leader.predict(test_)"
   ]
  },
  {
   "cell_type": "code",
   "execution_count": 144,
   "id": "1b6fc720",
   "metadata": {},
   "outputs": [],
   "source": [
    "pred_ = pred_.as_data_frame()"
   ]
  },
  {
   "cell_type": "code",
   "execution_count": 145,
   "id": "c3386965",
   "metadata": {},
   "outputs": [],
   "source": [
    "sample_test_h2o = pd.DataFrame()\n",
    "\n",
    "sample_test_h2o['id'] = [str(i) for i in range(len(pred_))]\n",
    "sample_test_h2o['price'] = pred_.predict\n",
    "\n",
    "sample_test_h2o.to_csv(\"data/predict2.csv\", index = False, header=True)"
   ]
  },
  {
   "cell_type": "markdown",
   "id": "6e013218",
   "metadata": {},
   "source": [
    "**H2O v3**"
   ]
  },
  {
   "cell_type": "code",
   "execution_count": 146,
   "id": "4c55a7a3",
   "metadata": {
    "scrolled": true
   },
   "outputs": [
    {
     "name": "stdout",
     "output_type": "stream",
     "text": [
      "stackedensemble prediction progress: |███████████████████████████████████████████| (done) 100%\n"
     ]
    }
   ],
   "source": [
    "pred_ = aml3.leader.predict(test_)"
   ]
  },
  {
   "cell_type": "code",
   "execution_count": 147,
   "id": "a9c7f611",
   "metadata": {},
   "outputs": [],
   "source": [
    "pred_ = pred_.as_data_frame()"
   ]
  },
  {
   "cell_type": "code",
   "execution_count": 148,
   "id": "383ce781",
   "metadata": {},
   "outputs": [],
   "source": [
    "sample_test_h2o = pd.DataFrame()\n",
    "\n",
    "sample_test_h2o['id'] = [str(i) for i in range(len(pred_))]\n",
    "sample_test_h2o['price'] = pred_.predict\n",
    "\n",
    "sample_test_h2o.to_csv(\"data/predict3.csv\", index = False, header=True)"
   ]
  }
 ],
 "metadata": {
  "kernelspec": {
   "display_name": "ironhack",
   "language": "python",
   "name": "myenv"
  },
  "language_info": {
   "codemirror_mode": {
    "name": "ipython",
    "version": 3
   },
   "file_extension": ".py",
   "mimetype": "text/x-python",
   "name": "python",
   "nbconvert_exporter": "python",
   "pygments_lexer": "ipython3",
   "version": "3.8.5"
  }
 },
 "nbformat": 4,
 "nbformat_minor": 5
}
