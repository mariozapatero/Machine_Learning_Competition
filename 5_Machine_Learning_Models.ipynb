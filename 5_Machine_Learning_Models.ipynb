{
 "cells": [
  {
   "cell_type": "code",
   "execution_count": 4,
   "id": "bff9fbed",
   "metadata": {},
   "outputs": [],
   "source": [
    "import pandas as pd\n",
    "import numpy as np\n",
    "\n",
    "from scipy.stats import linregress\n",
    "\n",
    "import statsmodels.api as sm\n",
    "from statsmodels.formula.api import ols\n",
    "\n",
    "from sklearn.model_selection import train_test_split as tts"
   ]
  },
  {
   "cell_type": "code",
   "execution_count": 5,
   "id": "2261ffe4",
   "metadata": {},
   "outputs": [],
   "source": [
    "data = pd.read_csv('data/clean_train.csv')"
   ]
  },
  {
   "cell_type": "code",
   "execution_count": 6,
   "id": "79dc4d5e",
   "metadata": {},
   "outputs": [],
   "source": [
    "X = data.drop('price', axis=1)\n",
    "y = data.price"
   ]
  },
  {
   "cell_type": "code",
   "execution_count": 7,
   "id": "f1b8cf63",
   "metadata": {},
   "outputs": [],
   "source": [
    "X_train, X_test, y_train, y_test = tts(X, y, test_size=0.2, train_size=0.8, random_state=42)"
   ]
  },
  {
   "cell_type": "code",
   "execution_count": 8,
   "id": "b30f7d30",
   "metadata": {},
   "outputs": [
    {
     "data": {
      "text/plain": [
       "LinearRegression()"
      ]
     },
     "execution_count": 8,
     "metadata": {},
     "output_type": "execute_result"
    }
   ],
   "source": [
    "# modelo\n",
    "\n",
    "from sklearn.linear_model import LinearRegression as LinReg\n",
    "\n",
    "linreg=LinReg()\n",
    "\n",
    "linreg.fit(X_train, y_train)"
   ]
  },
  {
   "cell_type": "code",
   "execution_count": 9,
   "id": "3551c658",
   "metadata": {},
   "outputs": [],
   "source": [
    "y_pred=linreg.predict(X_test)"
   ]
  },
  {
   "cell_type": "code",
   "execution_count": 10,
   "id": "e6e454db",
   "metadata": {},
   "outputs": [
    {
     "name": "stdout",
     "output_type": "stream",
     "text": [
      "Train: 0.14690477174563454\n",
      "Test: 0.3418211850621623\n"
     ]
    }
   ],
   "source": [
    "train_score=linreg.score(X_train, y_train)  # R2\n",
    "test_score=linreg.score(X_test, y_test)\n",
    "\n",
    "\n",
    "print('Train:', train_score)\n",
    "print('Test:', test_score)"
   ]
  },
  {
   "cell_type": "markdown",
   "id": "76a0f429",
   "metadata": {},
   "source": [
    "# Lasso"
   ]
  },
  {
   "cell_type": "code",
   "execution_count": 11,
   "id": "51958a18",
   "metadata": {},
   "outputs": [],
   "source": [
    "from sklearn.linear_model import Lasso"
   ]
  },
  {
   "cell_type": "code",
   "execution_count": 12,
   "id": "7319be24",
   "metadata": {},
   "outputs": [
    {
     "name": "stdout",
     "output_type": "stream",
     "text": [
      "Train: 0.13976915847732774\n",
      "Test: 0.3335011589833955\n"
     ]
    }
   ],
   "source": [
    "# Lasso L1\n",
    "\n",
    "lasso=Lasso()\n",
    "lasso.fit(X_train, y_train)\n",
    "\n",
    "train_score=lasso.score(X_train, y_train)  \n",
    "test_score=lasso.score(X_test, y_test)\n",
    "\n",
    "\n",
    "print('Train:', train_score)\n",
    "print('Test:', test_score) "
   ]
  },
  {
   "cell_type": "markdown",
   "id": "f0cfd200",
   "metadata": {},
   "source": [
    "# Ridge"
   ]
  },
  {
   "cell_type": "code",
   "execution_count": 13,
   "id": "e769860d",
   "metadata": {},
   "outputs": [],
   "source": [
    "from sklearn.linear_model import Ridge"
   ]
  },
  {
   "cell_type": "code",
   "execution_count": 14,
   "id": "9c62074a",
   "metadata": {},
   "outputs": [
    {
     "name": "stdout",
     "output_type": "stream",
     "text": [
      "Train: 0.14633150863746003\n",
      "Test: 0.33976228024304\n"
     ]
    }
   ],
   "source": [
    "# Ridge L2\n",
    "\n",
    "ridge=Ridge()\n",
    "ridge.fit(X_train, y_train)\n",
    "\n",
    "train_score=ridge.score(X_train, y_train)  \n",
    "test_score=ridge.score(X_test, y_test)\n",
    "\n",
    "\n",
    "print('Train:', train_score)\n",
    "print('Test:', test_score) "
   ]
  },
  {
   "cell_type": "markdown",
   "id": "54e6dc00",
   "metadata": {},
   "source": [
    "# ElasticNet"
   ]
  },
  {
   "cell_type": "code",
   "execution_count": 15,
   "id": "470b54d4",
   "metadata": {},
   "outputs": [],
   "source": [
    "from sklearn.linear_model import ElasticNet"
   ]
  },
  {
   "cell_type": "code",
   "execution_count": 16,
   "id": "ef12d291",
   "metadata": {},
   "outputs": [
    {
     "name": "stdout",
     "output_type": "stream",
     "text": [
      "Train: 0.11845579662153494\n",
      "Test: 0.3112274672804425\n"
     ]
    }
   ],
   "source": [
    "# ElasticNet  L1+L2\n",
    "\n",
    "elastic=ElasticNet()\n",
    "elastic.fit(X_train, y_train)\n",
    "\n",
    "train_score=elastic.score(X_train, y_train)  \n",
    "test_score=elastic.score(X_test, y_test)\n",
    "\n",
    "\n",
    "print('Train:', train_score)\n",
    "print('Test:', test_score) "
   ]
  },
  {
   "cell_type": "markdown",
   "id": "46f4a054",
   "metadata": {},
   "source": [
    "# Máquina de Soporte Vectorial"
   ]
  },
  {
   "cell_type": "code",
   "execution_count": 17,
   "id": "9cd634a0",
   "metadata": {},
   "outputs": [],
   "source": [
    "from sklearn.svm import SVR"
   ]
  },
  {
   "cell_type": "code",
   "execution_count": 18,
   "id": "fad5e536",
   "metadata": {},
   "outputs": [
    {
     "name": "stdout",
     "output_type": "stream",
     "text": [
      "Train: -0.01764617275274416\n",
      "Test: -0.03488028344823624\n"
     ]
    }
   ],
   "source": [
    "svr=SVR(kernel='poly', degree=10)\n",
    "svr.fit(X_train, y_train)\n",
    "\n",
    "y_pred=svr.predict(X_test)\n",
    "\n",
    "train_score=svr.score(X_train, y_train)  \n",
    "test_score=svr.score(X_test, y_test)\n",
    "\n",
    "\n",
    "print('Train:', train_score)\n",
    "print('Test:', test_score) "
   ]
  },
  {
   "cell_type": "markdown",
   "id": "78ebafcc",
   "metadata": {},
   "source": [
    "# Random Forest"
   ]
  },
  {
   "cell_type": "code",
   "execution_count": 19,
   "id": "45f5a59a",
   "metadata": {},
   "outputs": [],
   "source": [
    "from sklearn.ensemble import RandomForestRegressor as RFR"
   ]
  },
  {
   "cell_type": "code",
   "execution_count": 20,
   "id": "9977b40e",
   "metadata": {},
   "outputs": [
    {
     "name": "stdout",
     "output_type": "stream",
     "text": [
      "Train: 0.8703781261305832\n",
      "Test: -0.9707038794349756\n"
     ]
    }
   ],
   "source": [
    "rfr=RFR(n_estimators=132)\n",
    "rfr.fit(X_train, y_train)\n",
    "\n",
    "y_pred=rfr.predict(X_test)\n",
    "\n",
    "train_score=rfr.score(X_train, y_train)  \n",
    "test_score=rfr.score(X_test, y_test)\n",
    "\n",
    "\n",
    "print('Train:', train_score)\n",
    "print('Test:', test_score)"
   ]
  },
  {
   "cell_type": "code",
   "execution_count": 21,
   "id": "e74696db",
   "metadata": {},
   "outputs": [],
   "source": [
    "def bosque(n):\n",
    "    rfr=RFR(n_estimators=n)\n",
    "    rfr.fit(X_train, y_train)\n",
    "\n",
    "    y_pred=rfr.predict(X_test)\n",
    "\n",
    "    train_score=rfr.score(X_train, y_train)  \n",
    "    test_score=rfr.score(X_test, y_test)\n",
    "\n",
    "\n",
    "    print('Train:', train_score)\n",
    "    print('Test:', test_score) "
   ]
  },
  {
   "cell_type": "code",
   "execution_count": 22,
   "id": "f3d04ec0",
   "metadata": {},
   "outputs": [
    {
     "name": "stdout",
     "output_type": "stream",
     "text": [
      "Train: 0.6636915497065528\n",
      "Test: -2.1896293572990833\n",
      "2 None\n",
      "Train: 0.5363585363369836\n",
      "Test: -6.8728196685399405\n",
      "5 None\n",
      "Train: 0.8578732231059017\n",
      "Test: -1.7397042861258485\n",
      "50 None\n",
      "Train: 0.8724723949345651\n",
      "Test: -1.1523357065856268\n",
      "100 None\n",
      "Train: 0.8620090139088246\n",
      "Test: -0.9682220647614672\n",
      "200 None\n"
     ]
    }
   ],
   "source": [
    "for e in [2, 5, 50, 100, 200]:\n",
    "    print(e, bosque(e))"
   ]
  },
  {
   "cell_type": "markdown",
   "id": "12c49e9b",
   "metadata": {},
   "source": [
    "# Aún más modelos."
   ]
  },
  {
   "cell_type": "code",
   "execution_count": 28,
   "id": "e23ce7f1",
   "metadata": {},
   "outputs": [],
   "source": [
    "def regre(modelo):\n",
    "    \n",
    "    modelo.fit(X_train, y_train)\n",
    "    \n",
    "    train_score=modelo.score(X_train, y_train)  # R2\n",
    "    test_score=modelo.score(X_test, y_test)\n",
    "    \n",
    "    print(modelo)\n",
    "    print('Train R2:', train_score)\n",
    "    print('Test R2:', test_score)\n",
    "    \n",
    "    return modelo"
   ]
  },
  {
   "cell_type": "markdown",
   "id": "a1035859",
   "metadata": {},
   "source": [
    "## SGDC"
   ]
  },
  {
   "cell_type": "code",
   "execution_count": 29,
   "id": "08d81468",
   "metadata": {},
   "outputs": [
    {
     "name": "stdout",
     "output_type": "stream",
     "text": [
      "SGDRegressor(max_iter=50000)\n",
      "Train R2: -9.931602069607105e+25\n",
      "Test R2: -2.7663650037630836e+26\n"
     ]
    }
   ],
   "source": [
    "from sklearn.linear_model import SGDRegressor as SGDR\n",
    "\n",
    "sgdr=SGDR(max_iter=50000)\n",
    "\n",
    "sgdr=regre(sgdr)"
   ]
  },
  {
   "cell_type": "markdown",
   "id": "935397d4",
   "metadata": {},
   "source": [
    "## KNNR"
   ]
  },
  {
   "cell_type": "code",
   "execution_count": 46,
   "id": "93570ad8",
   "metadata": {
    "scrolled": true
   },
   "outputs": [
    {
     "name": "stdout",
     "output_type": "stream",
     "text": [
      "KNeighborsRegressor(n_neighbors=112, weights='distance')\n",
      "Train R2: 0.9999064128569031\n",
      "Test R2: 0.13989448750144917\n"
     ]
    }
   ],
   "source": [
    "from sklearn.neighbors import KNeighborsRegressor as KNNR\n",
    "\n",
    "knnr=KNNR(n_neighbors=112, weights='distance')\n",
    "\n",
    "knnr=regre(knnr)"
   ]
  },
  {
   "cell_type": "code",
   "execution_count": 64,
   "id": "7d1f8a19",
   "metadata": {},
   "outputs": [
    {
     "name": "stdout",
     "output_type": "stream",
     "text": [
      "KNeighborsRegressor(n_neighbors=85)\n",
      "Train R2: 0.06824971128553325\n",
      "Test R2: 0.12247137583099943\n"
     ]
    }
   ],
   "source": [
    "from sklearn.neighbors import KNeighborsRegressor as KNNR\n",
    "\n",
    "knnr=KNNR(n_neighbors=85, weights='uniform')\n",
    "\n",
    "knnr=regre(knnr)"
   ]
  },
  {
   "cell_type": "code",
   "execution_count": null,
   "id": "2930b6f7",
   "metadata": {},
   "outputs": [],
   "source": []
  },
  {
   "cell_type": "markdown",
   "id": "d632a149",
   "metadata": {},
   "source": [
    "### Super Train"
   ]
  },
  {
   "cell_type": "code",
   "execution_count": 67,
   "id": "5b46927b",
   "metadata": {},
   "outputs": [],
   "source": [
    "test = pd.read_csv('data/clean_test.csv')"
   ]
  },
  {
   "cell_type": "code",
   "execution_count": 65,
   "id": "130fa81d",
   "metadata": {},
   "outputs": [],
   "source": [
    "knnr=KNNR(n_neighbors=112, weights='distance')"
   ]
  },
  {
   "cell_type": "code",
   "execution_count": 69,
   "id": "fc2358f3",
   "metadata": {},
   "outputs": [
    {
     "data": {
      "text/plain": [
       "KNeighborsRegressor(n_neighbors=112, weights='distance')"
      ]
     },
     "execution_count": 69,
     "metadata": {},
     "output_type": "execute_result"
    }
   ],
   "source": [
    "knnr.fit(X, y)"
   ]
  },
  {
   "cell_type": "code",
   "execution_count": 71,
   "id": "0089666e",
   "metadata": {},
   "outputs": [],
   "source": [
    "preds = knnr.predict(test)"
   ]
  },
  {
   "cell_type": "code",
   "execution_count": 74,
   "id": "5b7590d2",
   "metadata": {},
   "outputs": [],
   "source": [
    "sample = pd.read_csv('data/sample.csv')"
   ]
  },
  {
   "cell_type": "code",
   "execution_count": 76,
   "id": "019dce2c",
   "metadata": {},
   "outputs": [],
   "source": [
    "sample.price = preds"
   ]
  },
  {
   "cell_type": "code",
   "execution_count": 79,
   "id": "e49b47b5",
   "metadata": {},
   "outputs": [],
   "source": [
    "sample.to_csv('data/submit_2.csv', index=False)"
   ]
  },
  {
   "cell_type": "code",
   "execution_count": 73,
   "id": "d73e4878",
   "metadata": {},
   "outputs": [
    {
     "ename": "AttributeError",
     "evalue": "'numpy.ndarray' object has no attribute 'count'",
     "output_type": "error",
     "traceback": [
      "\u001b[0;31m---------------------------------------------------------------------------\u001b[0m",
      "\u001b[0;31mAttributeError\u001b[0m                            Traceback (most recent call last)",
      "\u001b[0;32m<ipython-input-73-b266face4612>\u001b[0m in \u001b[0;36m<module>\u001b[0;34m\u001b[0m\n\u001b[0;32m----> 1\u001b[0;31m \u001b[0mpreds\u001b[0m\u001b[0;34m.\u001b[0m\u001b[0mcount\u001b[0m\u001b[0;34m(\u001b[0m\u001b[0;34m)\u001b[0m\u001b[0;34m\u001b[0m\u001b[0;34m\u001b[0m\u001b[0m\n\u001b[0m",
      "\u001b[0;31mAttributeError\u001b[0m: 'numpy.ndarray' object has no attribute 'count'"
     ]
    }
   ],
   "source": [
    "preds.to_"
   ]
  }
 ],
 "metadata": {
  "kernelspec": {
   "display_name": "Python 3",
   "language": "python",
   "name": "python3"
  },
  "language_info": {
   "codemirror_mode": {
    "name": "ipython",
    "version": 3
   },
   "file_extension": ".py",
   "mimetype": "text/x-python",
   "name": "python",
   "nbconvert_exporter": "python",
   "pygments_lexer": "ipython3",
   "version": "3.8.5"
  }
 },
 "nbformat": 4,
 "nbformat_minor": 5
}
