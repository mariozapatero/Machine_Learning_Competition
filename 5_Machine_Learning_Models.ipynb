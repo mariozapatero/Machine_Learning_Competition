{
 "cells": [
  {
   "cell_type": "code",
   "execution_count": 4,
   "id": "4a4c8ba9",
   "metadata": {},
   "outputs": [],
   "source": [
    "import pandas as pd\n",
    "import numpy as np\n",
    "\n",
    "from scipy.stats import linregress\n",
    "\n",
    "import statsmodels.api as sm\n",
    "from statsmodels.formula.api import ols\n",
    "\n",
    "from sklearn.model_selection import train_test_split as tts"
   ]
  },
  {
   "cell_type": "code",
   "execution_count": 5,
   "id": "c61b624a",
   "metadata": {},
   "outputs": [],
   "source": [
    "data = pd.read_csv('data/clean_train.csv')"
   ]
  },
  {
   "cell_type": "code",
   "execution_count": 6,
   "id": "de17102c",
   "metadata": {},
   "outputs": [],
   "source": [
    "X = data.drop('price', axis=1)\n",
    "y = data.price"
   ]
  },
  {
   "cell_type": "code",
   "execution_count": 7,
   "id": "fa63ef96",
   "metadata": {},
   "outputs": [],
   "source": [
    "X_train, X_test, y_train, y_test = tts(X, y, test_size=0.2, train_size=0.8, random_state=42)"
   ]
  },
  {
   "cell_type": "code",
   "execution_count": 80,
   "id": "92cf8c13",
   "metadata": {},
   "outputs": [],
   "source": [
    "umbral_65 = pd.read_csv('data/train_umbralF_65.csv')"
   ]
  },
  {
   "cell_type": "code",
   "execution_count": 81,
   "id": "f3e8219e",
   "metadata": {},
   "outputs": [],
   "source": [
    "X2 = umbral_65.drop('price', axis=1)\n",
    "y2 = umbral_65.price\n",
    "\n",
    "X2_train, X2_test, y2_train, y2_test = tts(X2, y2, test_size=0.2, train_size=0.8, random_state=42)"
   ]
  },
  {
   "cell_type": "markdown",
   "id": "15214dc4",
   "metadata": {},
   "source": [
    "# Linear Regression"
   ]
  },
  {
   "cell_type": "code",
   "execution_count": 8,
   "id": "9f43bc75",
   "metadata": {},
   "outputs": [
    {
     "data": {
      "text/plain": [
       "LinearRegression()"
      ]
     },
     "execution_count": 8,
     "metadata": {},
     "output_type": "execute_result"
    }
   ],
   "source": [
    "# modelo\n",
    "\n",
    "from sklearn.linear_model import LinearRegression as LinReg\n",
    "\n",
    "linreg=LinReg()\n",
    "\n",
    "linreg.fit(X_train, y_train)"
   ]
  },
  {
   "cell_type": "code",
   "execution_count": 9,
   "id": "cad175f1",
   "metadata": {},
   "outputs": [],
   "source": [
    "y_pred=linreg.predict(X_test)"
   ]
  },
  {
   "cell_type": "code",
   "execution_count": 10,
   "id": "22a90b2a",
   "metadata": {},
   "outputs": [
    {
     "name": "stdout",
     "output_type": "stream",
     "text": [
      "Train: 0.14690477174563454\n",
      "Test: 0.3418211850621623\n"
     ]
    }
   ],
   "source": [
    "train_score=linreg.score(X_train, y_train)  # R2\n",
    "test_score=linreg.score(X_test, y_test)\n",
    "\n",
    "\n",
    "print('Train:', train_score)\n",
    "print('Test:', test_score)"
   ]
  },
  {
   "cell_type": "code",
   "execution_count": 82,
   "id": "23c077de",
   "metadata": {},
   "outputs": [
    {
     "name": "stdout",
     "output_type": "stream",
     "text": [
      "Train: 0.33855722058492266\n",
      "Test: 0.29546036477560556\n"
     ]
    }
   ],
   "source": [
    "linreg.fit(X2_train, y2_train)\n",
    "\n",
    "y_pred=linreg.predict(X2_test)\n",
    "\n",
    "train_score=linreg.score(X2_train, y2_train)  # R2\n",
    "test_score=linreg.score(X2_test, y2_test)\n",
    "\n",
    "\n",
    "print('Train:', train_score)\n",
    "print('Test:', test_score)"
   ]
  },
  {
   "cell_type": "markdown",
   "id": "f1543419",
   "metadata": {},
   "source": [
    "# Lasso"
   ]
  },
  {
   "cell_type": "code",
   "execution_count": 11,
   "id": "37671a22",
   "metadata": {},
   "outputs": [],
   "source": [
    "from sklearn.linear_model import Lasso"
   ]
  },
  {
   "cell_type": "code",
   "execution_count": 12,
   "id": "ea15ee5e",
   "metadata": {},
   "outputs": [
    {
     "name": "stdout",
     "output_type": "stream",
     "text": [
      "Train: 0.13976915847732774\n",
      "Test: 0.3335011589833955\n"
     ]
    }
   ],
   "source": [
    "# Lasso L1\n",
    "\n",
    "lasso=Lasso()\n",
    "lasso.fit(X_train, y_train)\n",
    "\n",
    "train_score=lasso.score(X_train, y_train)  \n",
    "test_score=lasso.score(X_test, y_test)\n",
    "\n",
    "\n",
    "print('Train:', train_score)\n",
    "print('Test:', test_score) "
   ]
  },
  {
   "cell_type": "code",
   "execution_count": 83,
   "id": "59950a38",
   "metadata": {},
   "outputs": [
    {
     "name": "stdout",
     "output_type": "stream",
     "text": [
      "Train: 0.3364318508847277\n",
      "Test: 0.2965886500361614\n"
     ]
    }
   ],
   "source": [
    "lasso=Lasso()\n",
    "lasso.fit(X2_train, y2_train)\n",
    "\n",
    "train_score=lasso.score(X2_train, y2_train)  \n",
    "test_score=lasso.score(X2_test, y2_test)\n",
    "\n",
    "\n",
    "print('Train:', train_score)\n",
    "print('Test:', test_score)"
   ]
  },
  {
   "cell_type": "markdown",
   "id": "a82f718b",
   "metadata": {},
   "source": [
    "# Ridge"
   ]
  },
  {
   "cell_type": "code",
   "execution_count": 13,
   "id": "2dd35cdb",
   "metadata": {},
   "outputs": [],
   "source": [
    "from sklearn.linear_model import Ridge"
   ]
  },
  {
   "cell_type": "code",
   "execution_count": 14,
   "id": "3c576247",
   "metadata": {},
   "outputs": [
    {
     "name": "stdout",
     "output_type": "stream",
     "text": [
      "Train: 0.14633150863746003\n",
      "Test: 0.33976228024304\n"
     ]
    }
   ],
   "source": [
    "# Ridge L2\n",
    "\n",
    "ridge=Ridge()\n",
    "ridge.fit(X_train, y_train)\n",
    "\n",
    "train_score=ridge.score(X_train, y_train)  \n",
    "test_score=ridge.score(X_test, y_test)\n",
    "\n",
    "\n",
    "print('Train:', train_score)\n",
    "print('Test:', test_score) "
   ]
  },
  {
   "cell_type": "code",
   "execution_count": 84,
   "id": "3db1f477",
   "metadata": {},
   "outputs": [
    {
     "name": "stdout",
     "output_type": "stream",
     "text": [
      "Train: 0.3384417944358885\n",
      "Test: 0.29515780572744543\n"
     ]
    }
   ],
   "source": [
    "ridge=Ridge()\n",
    "ridge.fit(X2_train, y2_train)\n",
    "\n",
    "train_score=ridge.score(X2_train, y2_train)  \n",
    "test_score=ridge.score(X2_test, y2_test)\n",
    "\n",
    "\n",
    "print('Train:', train_score)\n",
    "print('Test:', test_score) "
   ]
  },
  {
   "cell_type": "markdown",
   "id": "46760f86",
   "metadata": {},
   "source": [
    "# ElasticNet"
   ]
  },
  {
   "cell_type": "code",
   "execution_count": 15,
   "id": "b0109951",
   "metadata": {},
   "outputs": [],
   "source": [
    "from sklearn.linear_model import ElasticNet"
   ]
  },
  {
   "cell_type": "code",
   "execution_count": 16,
   "id": "710c9dfa",
   "metadata": {},
   "outputs": [
    {
     "name": "stdout",
     "output_type": "stream",
     "text": [
      "Train: 0.11845579662153494\n",
      "Test: 0.3112274672804425\n"
     ]
    }
   ],
   "source": [
    "# ElasticNet  L1+L2\n",
    "\n",
    "elastic=ElasticNet()\n",
    "elastic.fit(X_train, y_train)\n",
    "\n",
    "train_score=elastic.score(X_train, y_train)  \n",
    "test_score=elastic.score(X_test, y_test)\n",
    "\n",
    "\n",
    "print('Train:', train_score)\n",
    "print('Test:', test_score) "
   ]
  },
  {
   "cell_type": "code",
   "execution_count": 85,
   "id": "6f89749e",
   "metadata": {},
   "outputs": [
    {
     "name": "stdout",
     "output_type": "stream",
     "text": [
      "Train: 0.3188780008765909\n",
      "Test: 0.28622941972188076\n"
     ]
    }
   ],
   "source": [
    "elastic=ElasticNet()\n",
    "elastic.fit(X2_train, y2_train)\n",
    "\n",
    "train_score=elastic.score(X2_train, y2_train)  \n",
    "test_score=elastic.score(X2_test, y2_test)\n",
    "\n",
    "\n",
    "print('Train:', train_score)\n",
    "print('Test:', test_score) "
   ]
  },
  {
   "cell_type": "markdown",
   "id": "7329e904",
   "metadata": {},
   "source": [
    "# Máquina de Soporte Vectorial"
   ]
  },
  {
   "cell_type": "code",
   "execution_count": 17,
   "id": "0c24e378",
   "metadata": {},
   "outputs": [],
   "source": [
    "from sklearn.svm import SVR"
   ]
  },
  {
   "cell_type": "code",
   "execution_count": 18,
   "id": "e181f75f",
   "metadata": {},
   "outputs": [
    {
     "name": "stdout",
     "output_type": "stream",
     "text": [
      "Train: -0.01764617275274416\n",
      "Test: -0.03488028344823624\n"
     ]
    }
   ],
   "source": [
    "svr=SVR(kernel='poly', degree=10)\n",
    "svr.fit(X_train, y_train)\n",
    "\n",
    "y_pred=svr.predict(X_test)\n",
    "\n",
    "train_score=svr.score(X_train, y_train)  \n",
    "test_score=svr.score(X_test, y_test)\n",
    "\n",
    "\n",
    "print('Train:', train_score)\n",
    "print('Test:', test_score) "
   ]
  },
  {
   "cell_type": "code",
   "execution_count": 86,
   "id": "61fef928",
   "metadata": {},
   "outputs": [
    {
     "name": "stdout",
     "output_type": "stream",
     "text": [
      "Train: -0.01628587848288965\n",
      "Test: -0.006734442212936731\n"
     ]
    }
   ],
   "source": [
    "svr=SVR(kernel='poly', degree=10)\n",
    "svr.fit(X2_train, y2_train)\n",
    "\n",
    "y_pred=svr.predict(X2_test)\n",
    "\n",
    "train_score=svr.score(X2_train, y2_train)  \n",
    "test_score=svr.score(X2_test, y2_test)\n",
    "\n",
    "\n",
    "print('Train:', train_score)\n",
    "print('Test:', test_score) "
   ]
  },
  {
   "cell_type": "code",
   "execution_count": 19,
   "id": "c6fc7ead",
   "metadata": {},
   "outputs": [],
   "source": [
    "from sklearn.ensemble import RandomForestRegressor as RFR"
   ]
  },
  {
   "cell_type": "code",
   "execution_count": 20,
   "id": "aaf5edb2",
   "metadata": {},
   "outputs": [
    {
     "name": "stdout",
     "output_type": "stream",
     "text": [
      "Train: 0.8703781261305832\n",
      "Test: -0.9707038794349756\n"
     ]
    }
   ],
   "source": [
    "rfr=RFR(n_estimators=132)\n",
    "rfr.fit(X_train, y_train)\n",
    "\n",
    "y_pred=rfr.predict(X_test)\n",
    "\n",
    "train_score=rfr.score(X_train, y_train)  \n",
    "test_score=rfr.score(X_test, y_test)\n",
    "\n",
    "\n",
    "print('Train:', train_score)\n",
    "print('Test:', test_score)"
   ]
  },
  {
   "cell_type": "code",
   "execution_count": 21,
   "id": "9bb64ceb",
   "metadata": {},
   "outputs": [],
   "source": [
    "def bosque(n):\n",
    "    rfr=RFR(n_estimators=n)\n",
    "    rfr.fit(X_train, y_train)\n",
    "\n",
    "    y_pred=rfr.predict(X_test)\n",
    "\n",
    "    train_score=rfr.score(X_train, y_train)  \n",
    "    test_score=rfr.score(X_test, y_test)\n",
    "\n",
    "\n",
    "    print('Train:', train_score)\n",
    "    print('Test:', test_score) "
   ]
  },
  {
   "cell_type": "code",
   "execution_count": 22,
   "id": "61911280",
   "metadata": {
    "scrolled": true
   },
   "outputs": [
    {
     "name": "stdout",
     "output_type": "stream",
     "text": [
      "Train: 0.6636915497065528\n",
      "Test: -2.1896293572990833\n",
      "2 None\n",
      "Train: 0.5363585363369836\n",
      "Test: -6.8728196685399405\n",
      "5 None\n",
      "Train: 0.8578732231059017\n",
      "Test: -1.7397042861258485\n",
      "50 None\n",
      "Train: 0.8724723949345651\n",
      "Test: -1.1523357065856268\n",
      "100 None\n",
      "Train: 0.8620090139088246\n",
      "Test: -0.9682220647614672\n",
      "200 None\n"
     ]
    }
   ],
   "source": [
    "for e in [2, 5, 50, 100, 200]:\n",
    "    print(e, bosque(e))"
   ]
  },
  {
   "cell_type": "code",
   "execution_count": 92,
   "id": "87270836",
   "metadata": {},
   "outputs": [],
   "source": [
    "def bosque2(n):\n",
    "    rfr=RFR(n_estimators=n)\n",
    "    rfr.fit(X2_train, y2_train)\n",
    "\n",
    "    y_pred=rfr.predict(X2_test)\n",
    "\n",
    "    train_score=rfr.score(X2_train, y2_train)  \n",
    "    test_score=rfr.score(X2_test, y2_test)\n",
    "\n",
    "\n",
    "    print('Train:', train_score)\n",
    "    print('Test:', test_score)"
   ]
  },
  {
   "cell_type": "code",
   "execution_count": 94,
   "id": "f5d0abe1",
   "metadata": {},
   "outputs": [
    {
     "name": "stdout",
     "output_type": "stream",
     "text": [
      "Train: 0.9079704299124288\n",
      "Test: 0.33444458539560806\n",
      "50 None\n",
      "Train: 0.9142624208183321\n",
      "Test: 0.3288773768894825\n",
      "100 None\n",
      "Train: 0.9186645357609028\n",
      "Test: 0.33705809184692037\n",
      "200 None\n",
      "Train: 0.9137990523159553\n",
      "Test: 0.33420298140542515\n",
      "300 None\n",
      "Train: 0.9172942272070344\n",
      "Test: 0.3291629684427323\n",
      "500 None\n",
      "Train: 0.9171521129395384\n",
      "Test: 0.3328403578200253\n",
      "1000 None\n"
     ]
    }
   ],
   "source": [
    "for e in [50, 100, 200, 300, 500, 1000]:\n",
    "    print(e, bosque2(e))"
   ]
  },
  {
   "cell_type": "markdown",
   "id": "923458c7",
   "metadata": {},
   "source": [
    "# Aún más modelos."
   ]
  },
  {
   "cell_type": "code",
   "execution_count": 28,
   "id": "bb80177c",
   "metadata": {},
   "outputs": [],
   "source": [
    "def regre(modelo):\n",
    "    \n",
    "    modelo.fit(X_train, y_train)\n",
    "    \n",
    "    train_score=modelo.score(X_train, y_train)  # R2\n",
    "    test_score=modelo.score(X_test, y_test)\n",
    "    \n",
    "    print(modelo)\n",
    "    print('Train R2:', train_score)\n",
    "    print('Test R2:', test_score)\n",
    "    \n",
    "    return modelo"
   ]
  },
  {
   "cell_type": "code",
   "execution_count": 95,
   "id": "a1073a47",
   "metadata": {},
   "outputs": [],
   "source": [
    "def regre2(modelo):\n",
    "    \n",
    "    modelo.fit(X2_train, y2_train)\n",
    "    \n",
    "    train_score=modelo.score(X2_train, y2_train)  # R2\n",
    "    test_score=modelo.score(X2_test, y2_test)\n",
    "    \n",
    "    print(modelo)\n",
    "    print('Train R2:', train_score)\n",
    "    print('Test R2:', test_score)\n",
    "    \n",
    "    return modelo"
   ]
  },
  {
   "cell_type": "markdown",
   "id": "fe3ca1be",
   "metadata": {},
   "source": [
    "## SGDC"
   ]
  },
  {
   "cell_type": "code",
   "execution_count": 29,
   "id": "60a1b117",
   "metadata": {},
   "outputs": [
    {
     "name": "stdout",
     "output_type": "stream",
     "text": [
      "SGDRegressor(max_iter=50000)\n",
      "Train R2: -9.931602069607105e+25\n",
      "Test R2: -2.7663650037630836e+26\n"
     ]
    }
   ],
   "source": [
    "from sklearn.linear_model import SGDRegressor as SGDR\n",
    "\n",
    "sgdr=SGDR(max_iter=50000)\n",
    "\n",
    "sgdr=regre(sgdr)"
   ]
  },
  {
   "cell_type": "code",
   "execution_count": 96,
   "id": "3695df4d",
   "metadata": {},
   "outputs": [
    {
     "name": "stdout",
     "output_type": "stream",
     "text": [
      "SGDRegressor(max_iter=50000)\n",
      "Train R2: -3.3574374541784975e+25\n",
      "Test R2: -2.3537322748308385e+25\n"
     ]
    }
   ],
   "source": [
    "sgdr=regre2(sgdr)"
   ]
  },
  {
   "cell_type": "markdown",
   "id": "bbec8099",
   "metadata": {},
   "source": [
    "## KNNR"
   ]
  },
  {
   "cell_type": "code",
   "execution_count": 46,
   "id": "9761491d",
   "metadata": {
    "scrolled": true
   },
   "outputs": [
    {
     "name": "stdout",
     "output_type": "stream",
     "text": [
      "KNeighborsRegressor(n_neighbors=112, weights='distance')\n",
      "Train R2: 0.9999064128569031\n",
      "Test R2: 0.13989448750144917\n"
     ]
    }
   ],
   "source": [
    "from sklearn.neighbors import KNeighborsRegressor as KNNR\n",
    "\n",
    "knnr=KNNR(n_neighbors=112, weights='distance')\n",
    "\n",
    "knnr=regre(knnr)"
   ]
  },
  {
   "cell_type": "code",
   "execution_count": 106,
   "id": "b6e9bb8d",
   "metadata": {},
   "outputs": [
    {
     "name": "stdout",
     "output_type": "stream",
     "text": [
      "KNeighborsRegressor(n_neighbors=50)\n",
      "Train R2: 0.0915800660970838\n",
      "Test R2: 0.11298430845905938\n"
     ]
    }
   ],
   "source": [
    "from sklearn.neighbors import KNeighborsRegressor as KNNR\n",
    "\n",
    "knnr=KNNR(n_neighbors=50, weights='uniform')\n",
    "\n",
    "knnr=regre(knnr)"
   ]
  },
  {
   "cell_type": "code",
   "execution_count": 107,
   "id": "dc574422",
   "metadata": {},
   "outputs": [
    {
     "name": "stdout",
     "output_type": "stream",
     "text": [
      "KNeighborsRegressor(n_neighbors=50)\n",
      "Train R2: 0.1741759550516515\n",
      "Test R2: 0.13434733324960257\n"
     ]
    }
   ],
   "source": [
    "knnr=regre2(knnr)"
   ]
  },
  {
   "cell_type": "markdown",
   "id": "734b801b",
   "metadata": {},
   "source": [
    "### Super Train"
   ]
  },
  {
   "cell_type": "code",
   "execution_count": 67,
   "id": "f9023f23",
   "metadata": {},
   "outputs": [],
   "source": [
    "test = pd.read_csv('data/clean_test.csv')"
   ]
  },
  {
   "cell_type": "code",
   "execution_count": 65,
   "id": "fe1da0b8",
   "metadata": {},
   "outputs": [],
   "source": [
    "knnr=KNNR(n_neighbors=112, weights='distance')"
   ]
  },
  {
   "cell_type": "code",
   "execution_count": 69,
   "id": "c446752c",
   "metadata": {},
   "outputs": [
    {
     "data": {
      "text/plain": [
       "KNeighborsRegressor(n_neighbors=112, weights='distance')"
      ]
     },
     "execution_count": 69,
     "metadata": {},
     "output_type": "execute_result"
    }
   ],
   "source": [
    "knnr.fit(X, y)"
   ]
  },
  {
   "cell_type": "code",
   "execution_count": 71,
   "id": "264d2601",
   "metadata": {},
   "outputs": [],
   "source": [
    "preds = knnr.predict(test)"
   ]
  },
  {
   "cell_type": "code",
   "execution_count": 74,
   "id": "c24d994f",
   "metadata": {},
   "outputs": [],
   "source": [
    "sample = pd.read_csv('data/sample.csv')"
   ]
  },
  {
   "cell_type": "code",
   "execution_count": 76,
   "id": "c749646f",
   "metadata": {},
   "outputs": [],
   "source": [
    "sample.price = preds"
   ]
  },
  {
   "cell_type": "code",
   "execution_count": 79,
   "id": "f3f4f071",
   "metadata": {},
   "outputs": [],
   "source": [
    "sample.to_csv('data/submit_2.csv', index=False)"
   ]
  },
  {
   "cell_type": "code",
   "execution_count": 73,
   "id": "16992d5d",
   "metadata": {},
   "outputs": [
    {
     "ename": "AttributeError",
     "evalue": "'numpy.ndarray' object has no attribute 'count'",
     "output_type": "error",
     "traceback": [
      "\u001b[0;31m---------------------------------------------------------------------------\u001b[0m",
      "\u001b[0;31mAttributeError\u001b[0m                            Traceback (most recent call last)",
      "\u001b[0;32m<ipython-input-73-b266face4612>\u001b[0m in \u001b[0;36m<module>\u001b[0;34m\u001b[0m\n\u001b[0;32m----> 1\u001b[0;31m \u001b[0mpreds\u001b[0m\u001b[0;34m.\u001b[0m\u001b[0mcount\u001b[0m\u001b[0;34m(\u001b[0m\u001b[0;34m)\u001b[0m\u001b[0;34m\u001b[0m\u001b[0;34m\u001b[0m\u001b[0m\n\u001b[0m",
      "\u001b[0;31mAttributeError\u001b[0m: 'numpy.ndarray' object has no attribute 'count'"
     ]
    }
   ],
   "source": [
    "preds.to_"
   ]
  }
 ],
 "metadata": {
  "kernelspec": {
   "display_name": "Python 3",
   "language": "python",
   "name": "python3"
  },
  "language_info": {
   "codemirror_mode": {
    "name": "ipython",
    "version": 3
   },
   "file_extension": ".py",
   "mimetype": "text/x-python",
   "name": "python",
   "nbconvert_exporter": "python",
   "pygments_lexer": "ipython3",
   "version": "3.8.5"
  }
 },
 "nbformat": 4,
 "nbformat_minor": 5
}
