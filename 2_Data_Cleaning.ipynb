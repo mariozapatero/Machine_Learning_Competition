{
 "cells": [
  {
   "cell_type": "code",
   "execution_count": 1,
   "id": "df77974c",
   "metadata": {},
   "outputs": [],
   "source": [
    "import pandas as pd\n",
    "pd.options.display.max_columns = None\n",
    "\n",
    "data = pd.read_csv('data/train.csv')"
   ]
  },
  {
   "cell_type": "code",
   "execution_count": 2,
   "id": "62351a99",
   "metadata": {},
   "outputs": [],
   "source": [
    "import regex as re"
   ]
  },
  {
   "cell_type": "code",
   "execution_count": 3,
   "id": "8bcfe4bd",
   "metadata": {},
   "outputs": [
    {
     "data": {
      "text/plain": [
       "(4167, 74)"
      ]
     },
     "execution_count": 3,
     "metadata": {},
     "output_type": "execute_result"
    }
   ],
   "source": [
    "data.shape"
   ]
  },
  {
   "cell_type": "markdown",
   "id": "897d8747",
   "metadata": {},
   "source": [
    "Comenzaremos eliminando las columnas que decidimos descartar de mara directa en la exploración inicial."
   ]
  },
  {
   "cell_type": "code",
   "execution_count": 4,
   "id": "761d8b6e",
   "metadata": {},
   "outputs": [],
   "source": [
    "columns = ['neighbourhood_group_cleansed', 'bathrooms', 'calendar_updated', 'listing_url', 'scrape_id', 'last_scraped',\n",
    "           'picture_url', 'host_id', 'host_url', 'host_thumbnail_url', 'host_picture_url', 'calendar_last_scraped', 'license']\n",
    "\n",
    "data.drop(columns, axis=1, inplace=True)"
   ]
  },
  {
   "cell_type": "code",
   "execution_count": 5,
   "id": "88519ff8",
   "metadata": {
    "scrolled": true
   },
   "outputs": [
    {
     "data": {
      "text/plain": [
       "(4167, 61)"
      ]
     },
     "execution_count": 5,
     "metadata": {},
     "output_type": "execute_result"
    }
   ],
   "source": [
    "data.shape"
   ]
  },
  {
   "cell_type": "markdown",
   "id": "bc0fb285",
   "metadata": {},
   "source": [
    "Cuanto mayor sea el número de columnas, más complicado será trabajar con ellas. Por eso lo que haremos será reducirlas mucho (aun sabiendo que algunas de las que descartamos pueden aportar valor a nuestro modelo) y a partir de ahí trataremos de afinar el modelo incluyendo algunas de esas columnas eliminadas (si lo considerásemos oportuno).\n",
    "\n",
    "Empezamos dropeando las columnas que sospechamos que no aportan valor (sin entrar en profundidad en los datos, ya sea por la información que aportan los datos o por el formato en el que se nos proporcionan). También haremos algunas comprobacionas con las que tengamos dudas más específicas."
   ]
  },
  {
   "cell_type": "code",
   "execution_count": 6,
   "id": "b0ea470f",
   "metadata": {},
   "outputs": [],
   "source": [
    "columns = ['name', 'description', 'neighborhood_overview', 'host_name', 'host_location', 'host_about', 'host_listings_count',\n",
    "          'neighbourhood', 'property_type', 'maximum_nights', 'minimum_minimum_nights', 'maximum_minimum_nights',\n",
    "          'minimum_maximum_nights', 'maximum_maximum_nights', 'minimum_nights_avg_ntm', 'maximum_nights_avg_ntm',\n",
    "          'has_availability', 'availability_30', 'availability_60', 'availability_90', 'availability_365',\n",
    "          'number_of_reviews_ltm', 'number_of_reviews_l30d', 'review_scores_accuracy', 'review_scores_cleanliness',\n",
    "          'review_scores_checkin', 'review_scores_communication', 'review_scores_location', 'review_scores_value',\n",
    "          'calculated_host_listings_count', 'calculated_host_listings_count_entire_homes',\n",
    "          'calculated_host_listings_count_private_rooms', 'calculated_host_listings_count_shared_rooms']\n",
    "\n",
    "cleaning = data.drop(columns, axis=1)"
   ]
  },
  {
   "cell_type": "code",
   "execution_count": 7,
   "id": "a70fdd4f",
   "metadata": {},
   "outputs": [
    {
     "data": {
      "text/plain": [
       "(4167, 28)"
      ]
     },
     "execution_count": 7,
     "metadata": {},
     "output_type": "execute_result"
    }
   ],
   "source": [
    "cleaning.shape"
   ]
  },
  {
   "cell_type": "code",
   "execution_count": 8,
   "id": "4e0078a8",
   "metadata": {},
   "outputs": [
    {
     "data": {
      "text/plain": [
       "Index(['id', 'host_since', 'host_response_time', 'host_response_rate',\n",
       "       'host_acceptance_rate', 'host_is_superhost', 'host_neighbourhood',\n",
       "       'host_total_listings_count', 'host_verifications',\n",
       "       'host_has_profile_pic', 'host_identity_verified',\n",
       "       'neighbourhood_cleansed', 'latitude', 'longitude', 'room_type',\n",
       "       'accommodates', 'bathrooms_text', 'bedrooms', 'beds', 'amenities',\n",
       "       'price', 'minimum_nights', 'number_of_reviews', 'first_review',\n",
       "       'last_review', 'review_scores_rating', 'instant_bookable',\n",
       "       'reviews_per_month'],\n",
       "      dtype='object')"
      ]
     },
     "execution_count": 8,
     "metadata": {},
     "output_type": "execute_result"
    }
   ],
   "source": [
    "cleaning.columns"
   ]
  },
  {
   "cell_type": "markdown",
   "id": "13116efc",
   "metadata": {},
   "source": [
    "Una vez hecha la limpieza general, vamos fila por fila para transformar los datos según consideremos oportuno."
   ]
  },
  {
   "cell_type": "markdown",
   "id": "da392842",
   "metadata": {},
   "source": [
    "**'host_since'**: los valores son fechas en tipo string. Lo que haremos será establecer como valor el año (en formato int) en lugar de la fecha completa. Esto lo hacemos en base a la creencia de que el año de registro del host influye en el precio esablecido."
   ]
  },
  {
   "cell_type": "code",
   "execution_count": 9,
   "id": "cd10d9de",
   "metadata": {
    "scrolled": false
   },
   "outputs": [
    {
     "data": {
      "text/plain": [
       "'2012-07-24'"
      ]
     },
     "execution_count": 9,
     "metadata": {},
     "output_type": "execute_result"
    }
   ],
   "source": [
    "cleaning.host_since[0]"
   ]
  },
  {
   "cell_type": "code",
   "execution_count": 10,
   "id": "7c9a96e8",
   "metadata": {
    "scrolled": true
   },
   "outputs": [],
   "source": [
    "cleaning.host_since = cleaning.host_since.apply(lambda x: int(x[:4]))"
   ]
  },
  {
   "cell_type": "code",
   "execution_count": 11,
   "id": "7d152887",
   "metadata": {},
   "outputs": [
    {
     "data": {
      "text/plain": [
       "2014    705\n",
       "2013    641\n",
       "2015    585\n",
       "2016    511\n",
       "2012    407\n",
       "2019    303\n",
       "2018    289\n",
       "2017    252\n",
       "2020    170\n",
       "2021    146\n",
       "2011    125\n",
       "2010     29\n",
       "2009      3\n",
       "2008      1\n",
       "Name: host_since, dtype: int64"
      ]
     },
     "execution_count": 11,
     "metadata": {},
     "output_type": "execute_result"
    }
   ],
   "source": [
    "cleaning.host_since.value_counts()"
   ]
  },
  {
   "cell_type": "markdown",
   "id": "2a966a10",
   "metadata": {},
   "source": [
    "**'host_response_time'**: tiene cuatro valores únicos que indican la rapidez de respuesta del host. Podemos entenderlo como una escala ordinal por lo que lo trataremos como tal. Es cierto que este orden no debería ser homogéneo, es decir, no es lo mismo el salto de una hora a unas pocas horas que de un día a varios días o más. No tenemos una base real para esto, por lo que simplificaremos bastante esta distinción. Lo que haremos será \"penalizar\" a aquellos hosts que responden en varios días o más (entendemos que es el tiempo de respuesta al que el usuario es más sensible)."
   ]
  },
  {
   "cell_type": "code",
   "execution_count": 12,
   "id": "6a724dfe",
   "metadata": {},
   "outputs": [
    {
     "data": {
      "text/plain": [
       "within an hour        1550\n",
       "within a few hours     573\n",
       "within a day           556\n",
       "a few days or more      75\n",
       "Name: host_response_time, dtype: int64"
      ]
     },
     "execution_count": 12,
     "metadata": {},
     "output_type": "execute_result"
    }
   ],
   "source": [
    "cleaning.host_response_time.value_counts()"
   ]
  },
  {
   "cell_type": "code",
   "execution_count": 13,
   "id": "a464184d",
   "metadata": {
    "scrolled": true
   },
   "outputs": [],
   "source": [
    "cleaning.host_response_time = cleaning.host_response_time.replace(['within an hour', 'within a few hours', 'within a day', 'a few days or more'],\n",
    "                                    [1, 2, 3, 5])"
   ]
  },
  {
   "cell_type": "markdown",
   "id": "381bc94b",
   "metadata": {},
   "source": [
    "Una vez hecha la transformación nos damos cuenta de que la cantidad de NaN es excesiva y no tendría mucho sentido definir valores sin saber cuál es realmente el tiempo de respuesta (al menos, según nuestro planteamiento). Entedemos que la presencia de NaN no es algo que dependa del host o de la propia plataforma Airbnb, sino que se debe a fallos en la extracción de los datos, lo cual complica aún más el manejo de los valores nulos. Decidimos eliminar la columna 'host_response_time'."
   ]
  },
  {
   "cell_type": "code",
   "execution_count": 14,
   "id": "3b248b89",
   "metadata": {},
   "outputs": [
    {
     "data": {
      "text/plain": [
       "1413"
      ]
     },
     "execution_count": 14,
     "metadata": {},
     "output_type": "execute_result"
    }
   ],
   "source": [
    "cleaning.host_response_time.isnull().sum()"
   ]
  },
  {
   "cell_type": "code",
   "execution_count": 15,
   "id": "873deb1b",
   "metadata": {},
   "outputs": [],
   "source": [
    "cleaning.drop('host_response_time', axis=1, inplace=True)"
   ]
  },
  {
   "cell_type": "markdown",
   "id": "9fe2a2e2",
   "metadata": {},
   "source": [
    "**'host_response_rate'**: siguiendo el planteamiento anterior (gran proporción de NaN y dificultad para gestionarlos), decidimos eliminar esta columna."
   ]
  },
  {
   "cell_type": "code",
   "execution_count": 16,
   "id": "2b9015ee",
   "metadata": {},
   "outputs": [
    {
     "data": {
      "text/plain": [
       "1413"
      ]
     },
     "execution_count": 16,
     "metadata": {},
     "output_type": "execute_result"
    }
   ],
   "source": [
    "cleaning.host_response_rate.isnull().sum()"
   ]
  },
  {
   "cell_type": "code",
   "execution_count": 17,
   "id": "1b636e04",
   "metadata": {},
   "outputs": [],
   "source": [
    "cleaning.drop('host_response_rate', axis=1, inplace=True)"
   ]
  },
  {
   "cell_type": "markdown",
   "id": "3a636f22",
   "metadata": {},
   "source": [
    "**'host_acceptance_rate'**: en la linea de lo anterior y teniendo en cuenta que ya dudábamos de la aportación de valor de esta columna, también decidimos eliminar esta columna."
   ]
  },
  {
   "cell_type": "code",
   "execution_count": 18,
   "id": "627e394f",
   "metadata": {},
   "outputs": [
    {
     "data": {
      "text/plain": [
       "1092"
      ]
     },
     "execution_count": 18,
     "metadata": {},
     "output_type": "execute_result"
    }
   ],
   "source": [
    "cleaning.host_acceptance_rate.isnull().sum()"
   ]
  },
  {
   "cell_type": "code",
   "execution_count": 19,
   "id": "d4ace4c5",
   "metadata": {},
   "outputs": [],
   "source": [
    "cleaning.drop('host_acceptance_rate', axis=1, inplace=True)"
   ]
  },
  {
   "cell_type": "markdown",
   "id": "b6008fcd",
   "metadata": {},
   "source": [
    "**'host_is_superhost'**: los valores son 'f' (false) o 't' (true) en formato string. No hay NaN ni ningún otro valor. Simplemente lo que haremos será sustituir 'f' por 0 y 't' por 1 (en formato int lógicamente)."
   ]
  },
  {
   "cell_type": "code",
   "execution_count": 20,
   "id": "8502d548",
   "metadata": {},
   "outputs": [
    {
     "data": {
      "text/plain": [
       "f    3081\n",
       "t    1086\n",
       "Name: host_is_superhost, dtype: int64"
      ]
     },
     "execution_count": 20,
     "metadata": {},
     "output_type": "execute_result"
    }
   ],
   "source": [
    "cleaning.host_is_superhost.value_counts()"
   ]
  },
  {
   "cell_type": "code",
   "execution_count": 21,
   "id": "d791dd56",
   "metadata": {
    "scrolled": true
   },
   "outputs": [],
   "source": [
    "cleaning.host_is_superhost = cleaning.host_is_superhost.replace(['f', 't'], [0, 1])"
   ]
  },
  {
   "cell_type": "code",
   "execution_count": 22,
   "id": "99e8370b",
   "metadata": {},
   "outputs": [
    {
     "data": {
      "text/plain": [
       "0    3081\n",
       "1    1086\n",
       "Name: host_is_superhost, dtype: int64"
      ]
     },
     "execution_count": 22,
     "metadata": {},
     "output_type": "execute_result"
    }
   ],
   "source": [
    "cleaning.host_is_superhost.value_counts()"
   ]
  },
  {
   "cell_type": "markdown",
   "id": "aeabd660",
   "metadata": {},
   "source": [
    "**'host_neighbourhood'**: nos damos cueta de que ya existe otra columna que hace referencia al barrio ('neighbourhood_cleansed') y además esta otra columna tiene un formato más amigable (22 valores únicos). Decidimos eliminar esta columna."
   ]
  },
  {
   "cell_type": "code",
   "execution_count": 23,
   "id": "0bfd59a3",
   "metadata": {},
   "outputs": [
    {
     "data": {
      "text/plain": [
       "52"
      ]
     },
     "execution_count": 23,
     "metadata": {},
     "output_type": "execute_result"
    }
   ],
   "source": [
    "len(cleaning.host_neighbourhood.unique())"
   ]
  },
  {
   "cell_type": "code",
   "execution_count": 24,
   "id": "3983027b",
   "metadata": {},
   "outputs": [
    {
     "data": {
      "text/plain": [
       "22"
      ]
     },
     "execution_count": 24,
     "metadata": {},
     "output_type": "execute_result"
    }
   ],
   "source": [
    "len(cleaning.neighbourhood_cleansed.unique())"
   ]
  },
  {
   "cell_type": "code",
   "execution_count": 25,
   "id": "3c9f6262",
   "metadata": {},
   "outputs": [],
   "source": [
    "cleaning.drop('host_neighbourhood', axis=1, inplace=True)"
   ]
  },
  {
   "cell_type": "markdown",
   "id": "ba500681",
   "metadata": {},
   "source": [
    "**'host_total_listings_count'**: nos indica la cantidad de propiedades listadas por el host. Entendemos que esto puede influir en el precio ya que, a mayor número de propiedades, más competitivo podrá ser el precio (especialmente si se trata de inmobiliarias o similares). No contiene valores nulos, por lo que mantenemos la columna como está."
   ]
  },
  {
   "cell_type": "code",
   "execution_count": 26,
   "id": "72433f98",
   "metadata": {},
   "outputs": [
    {
     "data": {
      "text/plain": [
       "0"
      ]
     },
     "execution_count": 26,
     "metadata": {},
     "output_type": "execute_result"
    }
   ],
   "source": [
    "cleaning.host_total_listings_count.isnull().sum()"
   ]
  },
  {
   "cell_type": "markdown",
   "id": "840402e0",
   "metadata": {},
   "source": [
    "**'host_verifications'**: es una columna bastante incómoda de tratar. Viene en formato lista y contiene (o no) diferentes valores en cada caso. Lo que haremos será hacer un recuento de los diferentes tipos de verificación para ese host y establecer este recuento como valor (entendiendo que a mayor cantidad, mayor fiabilidad o facilidad para el usuario)."
   ]
  },
  {
   "cell_type": "code",
   "execution_count": 27,
   "id": "caebd9ff",
   "metadata": {},
   "outputs": [],
   "source": [
    "def limpieza_lista(x):\n",
    "    x = x.lstrip(\"['\")\n",
    "    x = x.rstrip(\"']\")\n",
    "    x = x.split(\"', '\")\n",
    "    return len(x)"
   ]
  },
  {
   "cell_type": "code",
   "execution_count": 28,
   "id": "1498cd31",
   "metadata": {},
   "outputs": [],
   "source": [
    "cleaning.host_verifications = cleaning.host_verifications.apply(limpieza_lista)"
   ]
  },
  {
   "cell_type": "code",
   "execution_count": 29,
   "id": "64d33154",
   "metadata": {},
   "outputs": [
    {
     "data": {
      "text/plain": [
       "4     700\n",
       "5     629\n",
       "8     553\n",
       "7     537\n",
       "2     500\n",
       "6     489\n",
       "3     423\n",
       "9     191\n",
       "1      90\n",
       "10     45\n",
       "11     10\n",
       "Name: host_verifications, dtype: int64"
      ]
     },
     "execution_count": 29,
     "metadata": {},
     "output_type": "execute_result"
    }
   ],
   "source": [
    "cleaning.host_verifications.value_counts()"
   ]
  },
  {
   "cell_type": "markdown",
   "id": "02987482",
   "metadata": {},
   "source": [
    "**'host_has_profile_pic'**: nos damos cuenta de que sólo hay 12 valores 'f' y el resto son 't'. Esto no aportará valor a nuestro modelo, por lo que eliminamos la columna."
   ]
  },
  {
   "cell_type": "code",
   "execution_count": 30,
   "id": "df1adc06",
   "metadata": {
    "scrolled": true
   },
   "outputs": [
    {
     "data": {
      "text/plain": [
       "t    4155\n",
       "f      12\n",
       "Name: host_has_profile_pic, dtype: int64"
      ]
     },
     "execution_count": 30,
     "metadata": {},
     "output_type": "execute_result"
    }
   ],
   "source": [
    "cleaning.host_has_profile_pic.value_counts()"
   ]
  },
  {
   "cell_type": "code",
   "execution_count": 31,
   "id": "8ab6521a",
   "metadata": {},
   "outputs": [
    {
     "data": {
      "text/plain": [
       "0"
      ]
     },
     "execution_count": 31,
     "metadata": {},
     "output_type": "execute_result"
    }
   ],
   "source": [
    "cleaning.host_has_profile_pic.isnull().sum()"
   ]
  },
  {
   "cell_type": "code",
   "execution_count": 32,
   "id": "29d54b3c",
   "metadata": {},
   "outputs": [],
   "source": [
    "cleaning.drop('host_has_profile_pic', axis=1, inplace=True)"
   ]
  },
  {
   "cell_type": "markdown",
   "id": "66fddcff",
   "metadata": {},
   "source": [
    "**'host_identity_verified'**: seguimos el mismo planteamiento que en 'host_is_superhost', sustituyendo los valores que son 'f' 'f' por 0 y los 't' por 1 (en formato int lógicamente)."
   ]
  },
  {
   "cell_type": "code",
   "execution_count": 33,
   "id": "758d6dfe",
   "metadata": {},
   "outputs": [
    {
     "data": {
      "text/plain": [
       "t    3355\n",
       "f     812\n",
       "Name: host_identity_verified, dtype: int64"
      ]
     },
     "execution_count": 33,
     "metadata": {},
     "output_type": "execute_result"
    }
   ],
   "source": [
    "cleaning.host_identity_verified.value_counts()"
   ]
  },
  {
   "cell_type": "code",
   "execution_count": 34,
   "id": "0b57574f",
   "metadata": {},
   "outputs": [],
   "source": [
    "cleaning.host_identity_verified = cleaning.host_identity_verified.replace(['f', 't'], [0, 1])"
   ]
  },
  {
   "cell_type": "code",
   "execution_count": 35,
   "id": "2656f259",
   "metadata": {},
   "outputs": [
    {
     "data": {
      "text/plain": [
       "1    3355\n",
       "0     812\n",
       "Name: host_identity_verified, dtype: int64"
      ]
     },
     "execution_count": 35,
     "metadata": {},
     "output_type": "execute_result"
    }
   ],
   "source": [
    "cleaning.host_identity_verified.value_counts()"
   ]
  },
  {
   "cell_type": "markdown",
   "id": "fa93bb35",
   "metadata": {},
   "source": [
    "**'cleaning.neighbourhood_cleansed'**: contiene 22 valores únicos referentes al barrio. Generaremos variables ficticias a través de un get_dummies."
   ]
  },
  {
   "cell_type": "code",
   "execution_count": 36,
   "id": "fab5a647",
   "metadata": {},
   "outputs": [
    {
     "data": {
      "text/plain": [
       "22"
      ]
     },
     "execution_count": 36,
     "metadata": {},
     "output_type": "execute_result"
    }
   ],
   "source": [
    "len(cleaning.neighbourhood_cleansed.unique())"
   ]
  },
  {
   "cell_type": "code",
   "execution_count": 37,
   "id": "6f736749",
   "metadata": {},
   "outputs": [
    {
     "data": {
      "text/plain": [
       "0"
      ]
     },
     "execution_count": 37,
     "metadata": {},
     "output_type": "execute_result"
    }
   ],
   "source": [
    "cleaning.neighbourhood_cleansed.isnull().sum()"
   ]
  },
  {
   "cell_type": "code",
   "execution_count": 38,
   "id": "2843d280",
   "metadata": {},
   "outputs": [
    {
     "data": {
      "text/plain": [
       "Centrum-West                              639\n",
       "De Baarsjes - Oud-West                    611\n",
       "Centrum-Oost                              470\n",
       "De Pijp - Rivierenbuurt                   423\n",
       "Zuid                                      275\n",
       "Westerpark                                266\n",
       "Oud-Oost                                  241\n",
       "Bos en Lommer                             193\n",
       "Oud-Noord                                 188\n",
       "Oostelijk Havengebied - Indische Buurt    166\n",
       "IJburg - Zeeburgereiland                  111\n",
       "Watergraafsmeer                           108\n",
       "Noord-West                                 88\n",
       "Noord-Oost                                 76\n",
       "Slotervaart                                68\n",
       "Geuzenveld - Slotermeer                    58\n",
       "Buitenveldert - Zuidas                     44\n",
       "De Aker - Nieuw Sloten                     38\n",
       "Gaasperdam - Driemond                      32\n",
       "Osdorp                                     29\n",
       "Bijlmer-Centrum                            28\n",
       "Bijlmer-Oost                               15\n",
       "Name: neighbourhood_cleansed, dtype: int64"
      ]
     },
     "execution_count": 38,
     "metadata": {},
     "output_type": "execute_result"
    }
   ],
   "source": [
    "cleaning.neighbourhood_cleansed.value_counts()"
   ]
  },
  {
   "cell_type": "code",
   "execution_count": 39,
   "id": "443d5215",
   "metadata": {},
   "outputs": [],
   "source": [
    "barrio = pd.get_dummies(cleaning.neighbourhood_cleansed)"
   ]
  },
  {
   "cell_type": "code",
   "execution_count": 40,
   "id": "11aee91f",
   "metadata": {},
   "outputs": [],
   "source": [
    "cleaning = pd.concat([cleaning, barrio], axis=1)"
   ]
  },
  {
   "cell_type": "code",
   "execution_count": 41,
   "id": "2d16d502",
   "metadata": {},
   "outputs": [],
   "source": [
    "cleaning.drop('neighbourhood_cleansed', axis=1, inplace=True)"
   ]
  },
  {
   "cell_type": "markdown",
   "id": "2689e8be",
   "metadata": {},
   "source": [
    "**'latitude' & 'longitude'**: aunque puede parecer un poco confuso y no sabemos si realmente aportará valor al modelo, dejamos estas columnas tal cual están (teniendo en cuenta que no existen valores nulos) y que estas columnas son tipo float."
   ]
  },
  {
   "cell_type": "code",
   "execution_count": 42,
   "id": "7b3dc2a3",
   "metadata": {},
   "outputs": [
    {
     "data": {
      "text/plain": [
       "0"
      ]
     },
     "execution_count": 42,
     "metadata": {},
     "output_type": "execute_result"
    }
   ],
   "source": [
    "cleaning.latitude.isnull().sum()"
   ]
  },
  {
   "cell_type": "code",
   "execution_count": 43,
   "id": "64596eaf",
   "metadata": {
    "scrolled": true
   },
   "outputs": [
    {
     "data": {
      "text/plain": [
       "0"
      ]
     },
     "execution_count": 43,
     "metadata": {},
     "output_type": "execute_result"
    }
   ],
   "source": [
    "cleaning.longitude.isnull().sum()"
   ]
  },
  {
   "cell_type": "code",
   "execution_count": 44,
   "id": "6212928b",
   "metadata": {
    "scrolled": true
   },
   "outputs": [
    {
     "name": "stdout",
     "output_type": "stream",
     "text": [
      "<class 'pandas.core.frame.DataFrame'>\n",
      "RangeIndex: 4167 entries, 0 to 4166\n",
      "Data columns (total 44 columns):\n",
      " #   Column                                  Non-Null Count  Dtype  \n",
      "---  ------                                  --------------  -----  \n",
      " 0   id                                      4167 non-null   int64  \n",
      " 1   host_since                              4167 non-null   int64  \n",
      " 2   host_is_superhost                       4167 non-null   int64  \n",
      " 3   host_total_listings_count               4167 non-null   int64  \n",
      " 4   host_verifications                      4167 non-null   int64  \n",
      " 5   host_identity_verified                  4167 non-null   int64  \n",
      " 6   latitude                                4167 non-null   float64\n",
      " 7   longitude                               4167 non-null   float64\n",
      " 8   room_type                               4167 non-null   object \n",
      " 9   accommodates                            4167 non-null   int64  \n",
      " 10  bathrooms_text                          4159 non-null   object \n",
      " 11  bedrooms                                3914 non-null   float64\n",
      " 12  beds                                    3993 non-null   float64\n",
      " 13  amenities                               4167 non-null   object \n",
      " 14  price                                   4167 non-null   float64\n",
      " 15  minimum_nights                          4167 non-null   int64  \n",
      " 16  number_of_reviews                       4167 non-null   int64  \n",
      " 17  first_review                            3790 non-null   object \n",
      " 18  last_review                             3790 non-null   object \n",
      " 19  review_scores_rating                    3790 non-null   float64\n",
      " 20  instant_bookable                        4167 non-null   object \n",
      " 21  reviews_per_month                       3790 non-null   float64\n",
      " 22  Bijlmer-Centrum                         4167 non-null   uint8  \n",
      " 23  Bijlmer-Oost                            4167 non-null   uint8  \n",
      " 24  Bos en Lommer                           4167 non-null   uint8  \n",
      " 25  Buitenveldert - Zuidas                  4167 non-null   uint8  \n",
      " 26  Centrum-Oost                            4167 non-null   uint8  \n",
      " 27  Centrum-West                            4167 non-null   uint8  \n",
      " 28  De Aker - Nieuw Sloten                  4167 non-null   uint8  \n",
      " 29  De Baarsjes - Oud-West                  4167 non-null   uint8  \n",
      " 30  De Pijp - Rivierenbuurt                 4167 non-null   uint8  \n",
      " 31  Gaasperdam - Driemond                   4167 non-null   uint8  \n",
      " 32  Geuzenveld - Slotermeer                 4167 non-null   uint8  \n",
      " 33  IJburg - Zeeburgereiland                4167 non-null   uint8  \n",
      " 34  Noord-Oost                              4167 non-null   uint8  \n",
      " 35  Noord-West                              4167 non-null   uint8  \n",
      " 36  Oostelijk Havengebied - Indische Buurt  4167 non-null   uint8  \n",
      " 37  Osdorp                                  4167 non-null   uint8  \n",
      " 38  Oud-Noord                               4167 non-null   uint8  \n",
      " 39  Oud-Oost                                4167 non-null   uint8  \n",
      " 40  Slotervaart                             4167 non-null   uint8  \n",
      " 41  Watergraafsmeer                         4167 non-null   uint8  \n",
      " 42  Westerpark                              4167 non-null   uint8  \n",
      " 43  Zuid                                    4167 non-null   uint8  \n",
      "dtypes: float64(7), int64(9), object(6), uint8(22)\n",
      "memory usage: 805.9+ KB\n"
     ]
    }
   ],
   "source": [
    "cleaning.info()"
   ]
  },
  {
   "cell_type": "markdown",
   "id": "71d5edda",
   "metadata": {},
   "source": [
    "**'room_type'**: solo existen cuatro posibles valores para esta columna (y no encontramos NaN). Decidimos generar variables ficticias a través de pd.get_dummies()"
   ]
  },
  {
   "cell_type": "code",
   "execution_count": 45,
   "id": "b3b67740",
   "metadata": {},
   "outputs": [
    {
     "data": {
      "text/plain": [
       "array(['Private room', 'Entire home/apt', 'Hotel room', 'Shared room'],\n",
       "      dtype=object)"
      ]
     },
     "execution_count": 45,
     "metadata": {},
     "output_type": "execute_result"
    }
   ],
   "source": [
    "cleaning.room_type.unique()"
   ]
  },
  {
   "cell_type": "code",
   "execution_count": 46,
   "id": "b9df41d0",
   "metadata": {},
   "outputs": [],
   "source": [
    "room_type = pd.get_dummies(cleaning.room_type)"
   ]
  },
  {
   "cell_type": "code",
   "execution_count": 47,
   "id": "afbd85ba",
   "metadata": {},
   "outputs": [],
   "source": [
    "cleaning = pd.concat([cleaning, room_type], axis=1)"
   ]
  },
  {
   "cell_type": "code",
   "execution_count": 48,
   "id": "825df3cc",
   "metadata": {},
   "outputs": [],
   "source": [
    "cleaning.drop('room_type', axis=1, inplace=True)"
   ]
  },
  {
   "cell_type": "markdown",
   "id": "84a7a2f8",
   "metadata": {},
   "source": [
    "**'accommodates'**: indica la capacidad de huéspedes. No hay problemas aparentes en los datos (más allá de dos valores 0; lo cual no tiene sentido), por lo que dejamos la columna como está."
   ]
  },
  {
   "cell_type": "code",
   "execution_count": 49,
   "id": "97d986ab",
   "metadata": {},
   "outputs": [
    {
     "data": {
      "text/plain": [
       "0"
      ]
     },
     "execution_count": 49,
     "metadata": {},
     "output_type": "execute_result"
    }
   ],
   "source": [
    "cleaning.accommodates.isnull().sum()"
   ]
  },
  {
   "cell_type": "code",
   "execution_count": 50,
   "id": "450a0ef2",
   "metadata": {},
   "outputs": [
    {
     "data": {
      "text/plain": [
       "array([ 3,  4,  2,  6,  1,  5, 14,  7, 16, 12,  8,  0, 13, 10])"
      ]
     },
     "execution_count": 50,
     "metadata": {},
     "output_type": "execute_result"
    }
   ],
   "source": [
    "cleaning.accommodates.unique()"
   ]
  },
  {
   "cell_type": "code",
   "execution_count": 51,
   "id": "08fd966e",
   "metadata": {
    "scrolled": true
   },
   "outputs": [
    {
     "data": {
      "text/plain": [
       "2     2196\n",
       "4     1309\n",
       "3      302\n",
       "1      117\n",
       "6      107\n",
       "5       79\n",
       "8       18\n",
       "7       15\n",
       "16      13\n",
       "12       5\n",
       "14       2\n",
       "0        2\n",
       "13       1\n",
       "10       1\n",
       "Name: accommodates, dtype: int64"
      ]
     },
     "execution_count": 51,
     "metadata": {},
     "output_type": "execute_result"
    }
   ],
   "source": [
    "cleaning.accommodates.value_counts()"
   ]
  },
  {
   "cell_type": "markdown",
   "id": "056d5eb2",
   "metadata": {},
   "source": [
    "**'bathrooms_text'**: indica la cantidad de baños. Los valores vienen en una string que contiene un dígito con el número de baños y especifica el tipo de baño del que se trata o las condiciones de su uso. No entraremos a valorar el tipo de baño y únicamente extraeremos el dígito contenido en la string.\n",
    "\n",
    "También encontramos 8 valores NaN. Lo primero que haremos será rellenarlos con 0 (entendemos que si no ponen nada es porque no tienen). Luego estableceremos el resto de valores con el dígito contenido en el texto (en los que no contienen dígitos, el texto hace referencia a un half-bath, por lo que definiremos el valor como 0.5)."
   ]
  },
  {
   "cell_type": "code",
   "execution_count": 52,
   "id": "997456e2",
   "metadata": {
    "scrolled": true
   },
   "outputs": [
    {
     "data": {
      "text/plain": [
       "array(['1.5 shared baths', '1 bath', '1 private bath', '1.5 baths',\n",
       "       '2.5 baths', '1 shared bath', '2 baths', '3.5 shared baths',\n",
       "       '3 baths', 'Half-bath', 'Shared half-bath', '0 baths', nan,\n",
       "       '4 shared baths', '3.5 baths', '5 baths', '3 shared baths',\n",
       "       '0 shared baths', '2 shared baths', 'Private half-bath',\n",
       "       '4.5 baths', '5.5 baths', '4 baths'], dtype=object)"
      ]
     },
     "execution_count": 52,
     "metadata": {},
     "output_type": "execute_result"
    }
   ],
   "source": [
    "cleaning.bathrooms_text.unique()\n",
    "\n",
    "# Nos damos cuenta de los que no tienen dígitos se correponden con 0.5 bathrooms."
   ]
  },
  {
   "cell_type": "code",
   "execution_count": 53,
   "id": "6e7c3bc6",
   "metadata": {
    "scrolled": false
   },
   "outputs": [
    {
     "data": {
      "text/plain": [
       "8"
      ]
     },
     "execution_count": 53,
     "metadata": {},
     "output_type": "execute_result"
    }
   ],
   "source": [
    "cleaning.bathrooms_text.isnull().sum()"
   ]
  },
  {
   "cell_type": "code",
   "execution_count": 54,
   "id": "979be624",
   "metadata": {},
   "outputs": [],
   "source": [
    "cleaning.bathrooms_text.fillna('0.0', inplace=True)"
   ]
  },
  {
   "cell_type": "code",
   "execution_count": 55,
   "id": "688fc5b1",
   "metadata": {},
   "outputs": [
    {
     "data": {
      "text/plain": [
       "0"
      ]
     },
     "execution_count": 55,
     "metadata": {},
     "output_type": "execute_result"
    }
   ],
   "source": [
    "cleaning.bathrooms_text.isnull().sum()"
   ]
  },
  {
   "cell_type": "code",
   "execution_count": 56,
   "id": "500248b8",
   "metadata": {},
   "outputs": [],
   "source": [
    "def baños_digit (x):\n",
    "    try:\n",
    "        digit = re.findall('\\d.?\\d?', x)\n",
    "        return float(digit[0])\n",
    "    except:\n",
    "        return 0.5  # Los que no contienen dígitos los definimos como 0.5"
   ]
  },
  {
   "cell_type": "code",
   "execution_count": 57,
   "id": "d72637ce",
   "metadata": {},
   "outputs": [],
   "source": [
    "cleaning.bathrooms_text = cleaning.bathrooms_text.apply(baños_digit)"
   ]
  },
  {
   "cell_type": "code",
   "execution_count": 58,
   "id": "a3750c5a",
   "metadata": {
    "scrolled": false
   },
   "outputs": [
    {
     "data": {
      "text/plain": [
       "1.0    2517\n",
       "1.5    1207\n",
       "2.0     231\n",
       "2.5      88\n",
       "3.0      45\n",
       "0.0      30\n",
       "0.5      22\n",
       "3.5      19\n",
       "4.0       3\n",
       "5.0       2\n",
       "4.5       2\n",
       "5.5       1\n",
       "Name: bathrooms_text, dtype: int64"
      ]
     },
     "execution_count": 58,
     "metadata": {},
     "output_type": "execute_result"
    }
   ],
   "source": [
    "cleaning.bathrooms_text.value_counts()"
   ]
  },
  {
   "cell_type": "markdown",
   "id": "28f01d9a",
   "metadata": {},
   "source": [
    "**'bedrooms' & 'beds'**: sospechamos que estas dos columnas pueden tener una colinealidad elevada con alguna de las que ya tenemos hasta ahora (accommodates, por ejemplo), así que testeamos esta hipótesis.\n",
    "\n",
    "Confirmamos que exista una colinealidad fuerte ................ Decidimos eliminar estas dos columnas."
   ]
  },
  {
   "cell_type": "code",
   "execution_count": null,
   "id": "4c2bdd04",
   "metadata": {},
   "outputs": [],
   "source": []
  },
  {
   "cell_type": "code",
   "execution_count": null,
   "id": "ef77fabf",
   "metadata": {},
   "outputs": [],
   "source": []
  },
  {
   "cell_type": "markdown",
   "id": "8c64c1e5",
   "metadata": {},
   "source": [
    "**'amenities'**: es una lista con los amenities que ofrece el hospedaje en cuestión. Seguimos el mismo razonamiento que en 'host_verifications'. Tendremos en cuenta el número de amenities que ofrece, más allá de los amenities en sí. Por tanto, sustituiremos el valor por la longitud de la lista de amenities para cada registro (nº de amenities)."
   ]
  },
  {
   "cell_type": "code",
   "execution_count": 67,
   "id": "f3be6e09",
   "metadata": {},
   "outputs": [],
   "source": [
    "def limpieza_lista2 (x):\n",
    "    x = x.lstrip('''[\"''')\n",
    "    x = x.rstrip('''\"]''')\n",
    "    x = x.split('''\", \"''')\n",
    "    return len(x)"
   ]
  },
  {
   "cell_type": "code",
   "execution_count": 71,
   "id": "f87cd0b7",
   "metadata": {},
   "outputs": [],
   "source": [
    "cleaning.amenities = cleaning.amenities.apply(limpieza_lista2)"
   ]
  },
  {
   "cell_type": "code",
   "execution_count": 83,
   "id": "d601ac7e",
   "metadata": {},
   "outputs": [
    {
     "data": {
      "text/plain": [
       "array([16, 40, 20, 24, 25, 23, 43, 22,  8, 62, 29, 31, 26, 54, 53, 38, 37,\n",
       "       39, 51, 21, 47, 17, 18, 28, 41, 27,  6, 34, 52, 15,  7, 45, 33, 30,\n",
       "       57, 11, 10, 49, 13, 14, 32, 12, 19, 42, 35, 36, 48, 44, 69, 46,  3,\n",
       "       66, 50, 58, 59,  5, 61,  9, 64, 55,  4, 56, 70,  1, 68,  2, 63, 60,\n",
       "       71, 72, 65])"
      ]
     },
     "execution_count": 83,
     "metadata": {},
     "output_type": "execute_result"
    }
   ],
   "source": [
    "cleaning.amenities.unique()"
   ]
  },
  {
   "cell_type": "markdown",
   "id": "675161d8",
   "metadata": {},
   "source": [
    "**'price'**: es nuestra **columna objetivo** por lo que la dejaremos tal y como está y tendremos especial cuidado en no alterarla.\n",
    "    "
   ]
  },
  {
   "cell_type": "markdown",
   "id": "e52d48aa",
   "metadata": {},
   "source": [
    "**'minimum_nights'**: no tiene nulos ni valores problemáticos. Sí que parece un poco extraño los valores 1000 y 1001 (incluso 180), pero su frecuencia es muy escasa y asumimos que son valores correctos correspondientes a alquileres de \"larga duración\". No aplicamos cambios a la columna (más adelante veremos si se trata de outlies que debamos descartar)."
   ]
  },
  {
   "cell_type": "code",
   "execution_count": 87,
   "id": "6817fb1e",
   "metadata": {},
   "outputs": [
    {
     "data": {
      "text/plain": [
       "0"
      ]
     },
     "execution_count": 87,
     "metadata": {},
     "output_type": "execute_result"
    }
   ],
   "source": [
    "cleaning.minimum_nights.isnull().sum()"
   ]
  },
  {
   "cell_type": "code",
   "execution_count": 88,
   "id": "2d9c8024",
   "metadata": {},
   "outputs": [
    {
     "data": {
      "text/plain": [
       "array([   2,    1,    3,    5,    7,    8,    4,  180,   10,    6,   30,\n",
       "         26,   28,   15,   25,   20,    9,   12,   29,   14,   19,   18,\n",
       "         60,   21,   59, 1000,   23, 1001,   13,   17,   11])"
      ]
     },
     "execution_count": 88,
     "metadata": {},
     "output_type": "execute_result"
    }
   ],
   "source": [
    "cleaning.minimum_nights.unique()"
   ]
  },
  {
   "cell_type": "code",
   "execution_count": 89,
   "id": "9f33d221",
   "metadata": {},
   "outputs": [
    {
     "data": {
      "text/plain": [
       "2       1432\n",
       "3       1017\n",
       "1        818\n",
       "4        318\n",
       "5        221\n",
       "7        187\n",
       "6         54\n",
       "14        23\n",
       "10        20\n",
       "30        12\n",
       "28        10\n",
       "15         7\n",
       "21         7\n",
       "20         7\n",
       "8          6\n",
       "25         5\n",
       "12         3\n",
       "29         3\n",
       "18         2\n",
       "60         2\n",
       "180        2\n",
       "9          2\n",
       "19         1\n",
       "26         1\n",
       "59         1\n",
       "1000       1\n",
       "23         1\n",
       "1001       1\n",
       "13         1\n",
       "17         1\n",
       "11         1\n",
       "Name: minimum_nights, dtype: int64"
      ]
     },
     "execution_count": 89,
     "metadata": {},
     "output_type": "execute_result"
    }
   ],
   "source": [
    "cleaning.minimum_nights.value_counts()"
   ]
  },
  {
   "cell_type": "markdown",
   "id": "24f02440",
   "metadata": {},
   "source": [
    "**'number_of_reviews'**: no tiene nulos ni valores problemáticos, así que lo dejamos tal y como está."
   ]
  },
  {
   "cell_type": "code",
   "execution_count": 85,
   "id": "5592b6de",
   "metadata": {},
   "outputs": [
    {
     "data": {
      "text/plain": [
       "0"
      ]
     },
     "execution_count": 85,
     "metadata": {},
     "output_type": "execute_result"
    }
   ],
   "source": [
    "cleaning.number_of_reviews.isnull().sum()"
   ]
  },
  {
   "cell_type": "code",
   "execution_count": 86,
   "id": "7c73196e",
   "metadata": {
    "scrolled": true
   },
   "outputs": [
    {
     "data": {
      "text/plain": [
       "array([ 81,   9,  47,  10, 166, 101,  77,  19,   3,  31,  24,   0,  18,\n",
       "         8,  88,  25,  39,  20,  45, 117,  82,   1,   2,  27, 321,  33,\n",
       "       211,  37,   6, 124, 123, 234, 179,  13,   4,  30,  22,  42, 167,\n",
       "        16,  57, 170, 277, 140,  61,  12,  83,  73, 448,   5, 521,  59,\n",
       "        85,   7,  76,  40,  11, 523,  15,  14, 275, 106, 108,  38, 414,\n",
       "        50,  17,  52,  49, 392,  70,  23,  21, 119,  54,  26,  60,  48,\n",
       "        35,  56,  32,  29,  43,  62,  92,  46,  44,  58, 147, 150, 330,\n",
       "        36, 100, 171, 377, 131,  79,  51, 260, 218, 315, 127, 412, 142,\n",
       "       176, 547, 279,  28, 246, 111,  65, 121, 174, 145, 296, 303,  71,\n",
       "       104,  41, 138,  94,  86, 110, 252,  96,  93, 161, 265, 376,  53,\n",
       "       238, 157, 196,  75,  64, 169, 107, 213, 901,  55, 187,  72, 129,\n",
       "       158, 536, 822, 208, 236, 159, 182, 128, 139, 201,  63, 204,  69,\n",
       "       620, 364, 224, 168, 227,  34, 151, 214, 194,  99, 153,  90, 248,\n",
       "       126, 292, 264, 243, 135, 268, 535, 302, 105, 295, 133, 346, 178,\n",
       "       114, 304,  91, 130, 398, 239, 193, 199, 310, 306, 363,  67, 122,\n",
       "       132, 287, 285, 173, 235, 771,  66, 154,  87, 188, 300, 341, 855,\n",
       "       574, 156, 164,  74, 109, 116, 317, 141, 354, 267, 293, 312, 165,\n",
       "       272, 221, 152, 367, 190, 281, 103, 385, 436,  97, 228, 344, 397,\n",
       "       262,  95, 379, 112, 212, 465, 581, 195, 181, 515,  68, 102, 290,\n",
       "       698, 389, 764, 183, 289, 253, 113, 189, 192, 184, 225, 425, 404,\n",
       "       155,  78, 464, 144, 175,  98,  89, 254, 217, 163, 146, 286, 284,\n",
       "       118, 353, 517, 313, 205, 202, 180, 256, 340, 394, 231, 143, 707,\n",
       "       319, 540, 342, 240, 233, 457, 408,  84, 220, 222, 662, 401, 134,\n",
       "       339,  80, 610, 516, 433, 649, 297, 369, 400, 413, 209, 278, 261,\n",
       "       247, 331, 226, 477, 191, 351, 374, 115, 471, 120, 270, 316, 162,\n",
       "       807, 450, 445, 245, 298, 206, 172, 259, 584, 203, 149, 421, 616,\n",
       "       370, 280, 456, 305, 597, 534, 266, 452, 301, 216, 350, 362, 500,\n",
       "       148, 250, 361, 520, 358, 136, 273, 232, 381, 200, 322, 326, 160,\n",
       "       255, 311, 223, 538])"
      ]
     },
     "execution_count": 86,
     "metadata": {},
     "output_type": "execute_result"
    }
   ],
   "source": [
    "cleaning.number_of_reviews.unique()"
   ]
  },
  {
   "cell_type": "markdown",
   "id": "07c450ff",
   "metadata": {},
   "source": [
    "**'first_review' & 'last_review'**: a estas columnas le aplicaremos la misma transformación que hicimos antes con las fechas de 'host_since'. Nos quedaremos solo con el año, sin descartar a priori estas dimensiones. No obstante, es probable que nos den problemas en más adelante (no aporten al modelo o generen colinealidad, por ejemplo), por lo que deberemos tener esto en cuenta más adelante."
   ]
  },
  {
   "cell_type": "code",
   "execution_count": 90,
   "id": "628e329d",
   "metadata": {},
   "outputs": [
    {
     "data": {
      "text/plain": [
       "377"
      ]
     },
     "execution_count": 90,
     "metadata": {},
     "output_type": "execute_result"
    }
   ],
   "source": [
    "cleaning.first_review.isnull().sum()"
   ]
  },
  {
   "cell_type": "code",
   "execution_count": 91,
   "id": "3387e469",
   "metadata": {},
   "outputs": [
    {
     "data": {
      "text/plain": [
       "377"
      ]
     },
     "execution_count": 91,
     "metadata": {},
     "output_type": "execute_result"
    }
   ],
   "source": [
    "cleaning.last_review.isnull().sum()"
   ]
  },
  {
   "cell_type": "code",
   "execution_count": null,
   "id": "14c988b7",
   "metadata": {},
   "outputs": [],
   "source": [
    "'''''OJO QUE TENEMOS NANS'''"
   ]
  },
  {
   "cell_type": "code",
   "execution_count": null,
   "id": "9f601e45",
   "metadata": {},
   "outputs": [],
   "source": []
  },
  {
   "cell_type": "code",
   "execution_count": null,
   "id": "f8975e28",
   "metadata": {},
   "outputs": [],
   "source": [
    "cleaning.first_review = cleaning.first_review.apply(lambda x: int(x[:4]))"
   ]
  },
  {
   "cell_type": "code",
   "execution_count": null,
   "id": "b6692027",
   "metadata": {},
   "outputs": [],
   "source": []
  },
  {
   "cell_type": "code",
   "execution_count": 84,
   "id": "e5f549d9",
   "metadata": {
    "scrolled": true
   },
   "outputs": [
    {
     "data": {
      "text/html": [
       "<div>\n",
       "<style scoped>\n",
       "    .dataframe tbody tr th:only-of-type {\n",
       "        vertical-align: middle;\n",
       "    }\n",
       "\n",
       "    .dataframe tbody tr th {\n",
       "        vertical-align: top;\n",
       "    }\n",
       "\n",
       "    .dataframe thead th {\n",
       "        text-align: right;\n",
       "    }\n",
       "</style>\n",
       "<table border=\"1\" class=\"dataframe\">\n",
       "  <thead>\n",
       "    <tr style=\"text-align: right;\">\n",
       "      <th></th>\n",
       "      <th>id</th>\n",
       "      <th>host_since</th>\n",
       "      <th>host_is_superhost</th>\n",
       "      <th>host_total_listings_count</th>\n",
       "      <th>host_verifications</th>\n",
       "      <th>host_identity_verified</th>\n",
       "      <th>latitude</th>\n",
       "      <th>longitude</th>\n",
       "      <th>accommodates</th>\n",
       "      <th>bathrooms_text</th>\n",
       "      <th>bedrooms</th>\n",
       "      <th>beds</th>\n",
       "      <th>amenities</th>\n",
       "      <th>price</th>\n",
       "      <th>minimum_nights</th>\n",
       "      <th>number_of_reviews</th>\n",
       "      <th>first_review</th>\n",
       "      <th>last_review</th>\n",
       "      <th>review_scores_rating</th>\n",
       "      <th>instant_bookable</th>\n",
       "      <th>reviews_per_month</th>\n",
       "      <th>Bijlmer-Centrum</th>\n",
       "      <th>Bijlmer-Oost</th>\n",
       "      <th>Bos en Lommer</th>\n",
       "      <th>Buitenveldert - Zuidas</th>\n",
       "      <th>Centrum-Oost</th>\n",
       "      <th>Centrum-West</th>\n",
       "      <th>De Aker - Nieuw Sloten</th>\n",
       "      <th>De Baarsjes - Oud-West</th>\n",
       "      <th>De Pijp - Rivierenbuurt</th>\n",
       "      <th>Gaasperdam - Driemond</th>\n",
       "      <th>Geuzenveld - Slotermeer</th>\n",
       "      <th>IJburg - Zeeburgereiland</th>\n",
       "      <th>Noord-Oost</th>\n",
       "      <th>Noord-West</th>\n",
       "      <th>Oostelijk Havengebied - Indische Buurt</th>\n",
       "      <th>Osdorp</th>\n",
       "      <th>Oud-Noord</th>\n",
       "      <th>Oud-Oost</th>\n",
       "      <th>Slotervaart</th>\n",
       "      <th>Watergraafsmeer</th>\n",
       "      <th>Westerpark</th>\n",
       "      <th>Zuid</th>\n",
       "      <th>Entire home/apt</th>\n",
       "      <th>Hotel room</th>\n",
       "      <th>Private room</th>\n",
       "      <th>Shared room</th>\n",
       "    </tr>\n",
       "  </thead>\n",
       "  <tbody>\n",
       "    <tr>\n",
       "      <th>0</th>\n",
       "      <td>0</td>\n",
       "      <td>2012</td>\n",
       "      <td>0</td>\n",
       "      <td>13</td>\n",
       "      <td>8</td>\n",
       "      <td>1</td>\n",
       "      <td>52.39508</td>\n",
       "      <td>4.99186</td>\n",
       "      <td>3</td>\n",
       "      <td>1.5</td>\n",
       "      <td>1.0</td>\n",
       "      <td>NaN</td>\n",
       "      <td>16</td>\n",
       "      <td>87.0</td>\n",
       "      <td>2</td>\n",
       "      <td>81</td>\n",
       "      <td>2014-08-03</td>\n",
       "      <td>2019-06-15</td>\n",
       "      <td>4.62</td>\n",
       "      <td>f</td>\n",
       "      <td>0.91</td>\n",
       "      <td>0</td>\n",
       "      <td>0</td>\n",
       "      <td>0</td>\n",
       "      <td>0</td>\n",
       "      <td>0</td>\n",
       "      <td>0</td>\n",
       "      <td>0</td>\n",
       "      <td>0</td>\n",
       "      <td>0</td>\n",
       "      <td>0</td>\n",
       "      <td>0</td>\n",
       "      <td>0</td>\n",
       "      <td>1</td>\n",
       "      <td>0</td>\n",
       "      <td>0</td>\n",
       "      <td>0</td>\n",
       "      <td>0</td>\n",
       "      <td>0</td>\n",
       "      <td>0</td>\n",
       "      <td>0</td>\n",
       "      <td>0</td>\n",
       "      <td>0</td>\n",
       "      <td>0</td>\n",
       "      <td>0</td>\n",
       "      <td>1</td>\n",
       "      <td>0</td>\n",
       "    </tr>\n",
       "    <tr>\n",
       "      <th>1</th>\n",
       "      <td>1</td>\n",
       "      <td>2015</td>\n",
       "      <td>0</td>\n",
       "      <td>0</td>\n",
       "      <td>3</td>\n",
       "      <td>0</td>\n",
       "      <td>52.36371</td>\n",
       "      <td>4.90745</td>\n",
       "      <td>4</td>\n",
       "      <td>1.0</td>\n",
       "      <td>2.0</td>\n",
       "      <td>2.0</td>\n",
       "      <td>40</td>\n",
       "      <td>250.0</td>\n",
       "      <td>2</td>\n",
       "      <td>9</td>\n",
       "      <td>2020-01-26</td>\n",
       "      <td>2021-09-05</td>\n",
       "      <td>5.00</td>\n",
       "      <td>f</td>\n",
       "      <td>0.40</td>\n",
       "      <td>0</td>\n",
       "      <td>0</td>\n",
       "      <td>0</td>\n",
       "      <td>0</td>\n",
       "      <td>1</td>\n",
       "      <td>0</td>\n",
       "      <td>0</td>\n",
       "      <td>0</td>\n",
       "      <td>0</td>\n",
       "      <td>0</td>\n",
       "      <td>0</td>\n",
       "      <td>0</td>\n",
       "      <td>0</td>\n",
       "      <td>0</td>\n",
       "      <td>0</td>\n",
       "      <td>0</td>\n",
       "      <td>0</td>\n",
       "      <td>0</td>\n",
       "      <td>0</td>\n",
       "      <td>0</td>\n",
       "      <td>0</td>\n",
       "      <td>0</td>\n",
       "      <td>1</td>\n",
       "      <td>0</td>\n",
       "      <td>0</td>\n",
       "      <td>0</td>\n",
       "    </tr>\n",
       "    <tr>\n",
       "      <th>2</th>\n",
       "      <td>2</td>\n",
       "      <td>2018</td>\n",
       "      <td>1</td>\n",
       "      <td>20</td>\n",
       "      <td>2</td>\n",
       "      <td>1</td>\n",
       "      <td>52.35482</td>\n",
       "      <td>4.85329</td>\n",
       "      <td>2</td>\n",
       "      <td>1.0</td>\n",
       "      <td>1.0</td>\n",
       "      <td>1.0</td>\n",
       "      <td>20</td>\n",
       "      <td>151.0</td>\n",
       "      <td>1</td>\n",
       "      <td>47</td>\n",
       "      <td>2018-11-09</td>\n",
       "      <td>2020-03-07</td>\n",
       "      <td>4.79</td>\n",
       "      <td>t</td>\n",
       "      <td>1.25</td>\n",
       "      <td>0</td>\n",
       "      <td>0</td>\n",
       "      <td>0</td>\n",
       "      <td>0</td>\n",
       "      <td>0</td>\n",
       "      <td>0</td>\n",
       "      <td>0</td>\n",
       "      <td>0</td>\n",
       "      <td>0</td>\n",
       "      <td>0</td>\n",
       "      <td>0</td>\n",
       "      <td>0</td>\n",
       "      <td>0</td>\n",
       "      <td>0</td>\n",
       "      <td>0</td>\n",
       "      <td>0</td>\n",
       "      <td>0</td>\n",
       "      <td>0</td>\n",
       "      <td>0</td>\n",
       "      <td>0</td>\n",
       "      <td>0</td>\n",
       "      <td>1</td>\n",
       "      <td>0</td>\n",
       "      <td>1</td>\n",
       "      <td>0</td>\n",
       "      <td>0</td>\n",
       "    </tr>\n",
       "    <tr>\n",
       "      <th>3</th>\n",
       "      <td>3</td>\n",
       "      <td>2016</td>\n",
       "      <td>0</td>\n",
       "      <td>1</td>\n",
       "      <td>3</td>\n",
       "      <td>0</td>\n",
       "      <td>52.36446</td>\n",
       "      <td>4.85972</td>\n",
       "      <td>2</td>\n",
       "      <td>1.5</td>\n",
       "      <td>1.0</td>\n",
       "      <td>1.0</td>\n",
       "      <td>24</td>\n",
       "      <td>139.0</td>\n",
       "      <td>2</td>\n",
       "      <td>10</td>\n",
       "      <td>2019-04-22</td>\n",
       "      <td>2019-11-10</td>\n",
       "      <td>5.00</td>\n",
       "      <td>f</td>\n",
       "      <td>0.31</td>\n",
       "      <td>0</td>\n",
       "      <td>0</td>\n",
       "      <td>0</td>\n",
       "      <td>0</td>\n",
       "      <td>0</td>\n",
       "      <td>0</td>\n",
       "      <td>0</td>\n",
       "      <td>1</td>\n",
       "      <td>0</td>\n",
       "      <td>0</td>\n",
       "      <td>0</td>\n",
       "      <td>0</td>\n",
       "      <td>0</td>\n",
       "      <td>0</td>\n",
       "      <td>0</td>\n",
       "      <td>0</td>\n",
       "      <td>0</td>\n",
       "      <td>0</td>\n",
       "      <td>0</td>\n",
       "      <td>0</td>\n",
       "      <td>0</td>\n",
       "      <td>0</td>\n",
       "      <td>1</td>\n",
       "      <td>0</td>\n",
       "      <td>0</td>\n",
       "      <td>0</td>\n",
       "    </tr>\n",
       "    <tr>\n",
       "      <th>4</th>\n",
       "      <td>4</td>\n",
       "      <td>2013</td>\n",
       "      <td>1</td>\n",
       "      <td>1</td>\n",
       "      <td>9</td>\n",
       "      <td>1</td>\n",
       "      <td>52.34176</td>\n",
       "      <td>4.84782</td>\n",
       "      <td>2</td>\n",
       "      <td>1.5</td>\n",
       "      <td>1.0</td>\n",
       "      <td>2.0</td>\n",
       "      <td>25</td>\n",
       "      <td>95.0</td>\n",
       "      <td>2</td>\n",
       "      <td>166</td>\n",
       "      <td>2014-04-08</td>\n",
       "      <td>2019-08-26</td>\n",
       "      <td>4.67</td>\n",
       "      <td>f</td>\n",
       "      <td>1.78</td>\n",
       "      <td>0</td>\n",
       "      <td>0</td>\n",
       "      <td>0</td>\n",
       "      <td>0</td>\n",
       "      <td>0</td>\n",
       "      <td>0</td>\n",
       "      <td>0</td>\n",
       "      <td>0</td>\n",
       "      <td>0</td>\n",
       "      <td>0</td>\n",
       "      <td>0</td>\n",
       "      <td>0</td>\n",
       "      <td>0</td>\n",
       "      <td>0</td>\n",
       "      <td>0</td>\n",
       "      <td>0</td>\n",
       "      <td>0</td>\n",
       "      <td>0</td>\n",
       "      <td>0</td>\n",
       "      <td>0</td>\n",
       "      <td>0</td>\n",
       "      <td>1</td>\n",
       "      <td>0</td>\n",
       "      <td>0</td>\n",
       "      <td>1</td>\n",
       "      <td>0</td>\n",
       "    </tr>\n",
       "  </tbody>\n",
       "</table>\n",
       "</div>"
      ],
      "text/plain": [
       "   id  host_since  host_is_superhost  host_total_listings_count  \\\n",
       "0   0        2012                  0                         13   \n",
       "1   1        2015                  0                          0   \n",
       "2   2        2018                  1                         20   \n",
       "3   3        2016                  0                          1   \n",
       "4   4        2013                  1                          1   \n",
       "\n",
       "   host_verifications  host_identity_verified  latitude  longitude  \\\n",
       "0                   8                       1  52.39508    4.99186   \n",
       "1                   3                       0  52.36371    4.90745   \n",
       "2                   2                       1  52.35482    4.85329   \n",
       "3                   3                       0  52.36446    4.85972   \n",
       "4                   9                       1  52.34176    4.84782   \n",
       "\n",
       "   accommodates  bathrooms_text  bedrooms  beds  amenities  price  \\\n",
       "0             3             1.5       1.0   NaN         16   87.0   \n",
       "1             4             1.0       2.0   2.0         40  250.0   \n",
       "2             2             1.0       1.0   1.0         20  151.0   \n",
       "3             2             1.5       1.0   1.0         24  139.0   \n",
       "4             2             1.5       1.0   2.0         25   95.0   \n",
       "\n",
       "   minimum_nights  number_of_reviews first_review last_review  \\\n",
       "0               2                 81   2014-08-03  2019-06-15   \n",
       "1               2                  9   2020-01-26  2021-09-05   \n",
       "2               1                 47   2018-11-09  2020-03-07   \n",
       "3               2                 10   2019-04-22  2019-11-10   \n",
       "4               2                166   2014-04-08  2019-08-26   \n",
       "\n",
       "   review_scores_rating instant_bookable  reviews_per_month  Bijlmer-Centrum  \\\n",
       "0                  4.62                f               0.91                0   \n",
       "1                  5.00                f               0.40                0   \n",
       "2                  4.79                t               1.25                0   \n",
       "3                  5.00                f               0.31                0   \n",
       "4                  4.67                f               1.78                0   \n",
       "\n",
       "   Bijlmer-Oost  Bos en Lommer  Buitenveldert - Zuidas  Centrum-Oost  \\\n",
       "0             0              0                       0             0   \n",
       "1             0              0                       0             1   \n",
       "2             0              0                       0             0   \n",
       "3             0              0                       0             0   \n",
       "4             0              0                       0             0   \n",
       "\n",
       "   Centrum-West  De Aker - Nieuw Sloten  De Baarsjes - Oud-West  \\\n",
       "0             0                       0                       0   \n",
       "1             0                       0                       0   \n",
       "2             0                       0                       0   \n",
       "3             0                       0                       1   \n",
       "4             0                       0                       0   \n",
       "\n",
       "   De Pijp - Rivierenbuurt  Gaasperdam - Driemond  Geuzenveld - Slotermeer  \\\n",
       "0                        0                      0                        0   \n",
       "1                        0                      0                        0   \n",
       "2                        0                      0                        0   \n",
       "3                        0                      0                        0   \n",
       "4                        0                      0                        0   \n",
       "\n",
       "   IJburg - Zeeburgereiland  Noord-Oost  Noord-West  \\\n",
       "0                         0           1           0   \n",
       "1                         0           0           0   \n",
       "2                         0           0           0   \n",
       "3                         0           0           0   \n",
       "4                         0           0           0   \n",
       "\n",
       "   Oostelijk Havengebied - Indische Buurt  Osdorp  Oud-Noord  Oud-Oost  \\\n",
       "0                                       0       0          0         0   \n",
       "1                                       0       0          0         0   \n",
       "2                                       0       0          0         0   \n",
       "3                                       0       0          0         0   \n",
       "4                                       0       0          0         0   \n",
       "\n",
       "   Slotervaart  Watergraafsmeer  Westerpark  Zuid  Entire home/apt  \\\n",
       "0            0                0           0     0                0   \n",
       "1            0                0           0     0                1   \n",
       "2            0                0           0     1                0   \n",
       "3            0                0           0     0                1   \n",
       "4            0                0           0     1                0   \n",
       "\n",
       "   Hotel room  Private room  Shared room  \n",
       "0           0             1            0  \n",
       "1           0             0            0  \n",
       "2           1             0            0  \n",
       "3           0             0            0  \n",
       "4           0             1            0  "
      ]
     },
     "execution_count": 84,
     "metadata": {},
     "output_type": "execute_result"
    }
   ],
   "source": [
    "cleaning.head()"
   ]
  },
  {
   "cell_type": "code",
   "execution_count": 40,
   "id": "c456ad8c",
   "metadata": {
    "scrolled": true
   },
   "outputs": [
    {
     "name": "stdout",
     "output_type": "stream",
     "text": [
      "<class 'pandas.core.frame.DataFrame'>\n",
      "RangeIndex: 4167 entries, 0 to 4166\n",
      "Data columns (total 23 columns):\n",
      " #   Column                     Non-Null Count  Dtype  \n",
      "---  ------                     --------------  -----  \n",
      " 0   id                         4167 non-null   int64  \n",
      " 1   host_since                 4167 non-null   int64  \n",
      " 2   host_is_superhost          4167 non-null   int64  \n",
      " 3   host_total_listings_count  4167 non-null   int64  \n",
      " 4   host_verifications         4167 non-null   int64  \n",
      " 5   host_identity_verified     4167 non-null   int64  \n",
      " 6   neighbourhood_cleansed     4167 non-null   object \n",
      " 7   latitude                   4167 non-null   float64\n",
      " 8   longitude                  4167 non-null   float64\n",
      " 9   room_type                  4167 non-null   object \n",
      " 10  accommodates               4167 non-null   int64  \n",
      " 11  bathrooms_text             4159 non-null   object \n",
      " 12  bedrooms                   3914 non-null   float64\n",
      " 13  beds                       3993 non-null   float64\n",
      " 14  amenities                  4167 non-null   object \n",
      " 15  price                      4167 non-null   float64\n",
      " 16  minimum_nights             4167 non-null   int64  \n",
      " 17  number_of_reviews          4167 non-null   int64  \n",
      " 18  first_review               3790 non-null   object \n",
      " 19  last_review                3790 non-null   object \n",
      " 20  review_scores_rating       3790 non-null   float64\n",
      " 21  instant_bookable           4167 non-null   object \n",
      " 22  reviews_per_month          3790 non-null   float64\n",
      "dtypes: float64(7), int64(9), object(7)\n",
      "memory usage: 748.9+ KB\n"
     ]
    }
   ],
   "source": [
    "cleaning.info()"
   ]
  }
 ],
 "metadata": {
  "kernelspec": {
   "display_name": "Python 3 (ipykernel)",
   "language": "python",
   "name": "python3"
  },
  "language_info": {
   "codemirror_mode": {
    "name": "ipython",
    "version": 3
   },
   "file_extension": ".py",
   "mimetype": "text/x-python",
   "name": "python",
   "nbconvert_exporter": "python",
   "pygments_lexer": "ipython3",
   "version": "3.9.7"
  }
 },
 "nbformat": 4,
 "nbformat_minor": 5
}
