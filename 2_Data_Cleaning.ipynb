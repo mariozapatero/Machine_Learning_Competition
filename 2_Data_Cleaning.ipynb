{
 "cells": [
  {
   "cell_type": "code",
   "execution_count": 1,
   "id": "e75ca0d1",
   "metadata": {},
   "outputs": [],
   "source": [
    "import pandas as pd\n",
    "pd.options.display.max_columns = None\n",
    "\n",
    "data = pd.read_csv('data/train.csv')"
   ]
  },
  {
   "cell_type": "code",
   "execution_count": 4,
   "id": "e660da3c",
   "metadata": {},
   "outputs": [
    {
     "data": {
      "text/plain": [
       "(4167, 74)"
      ]
     },
     "execution_count": 4,
     "metadata": {},
     "output_type": "execute_result"
    }
   ],
   "source": [
    "data.shape"
   ]
  },
  {
   "cell_type": "markdown",
   "id": "88087c99",
   "metadata": {},
   "source": [
    "Comenzaremos eliminando las columnas que decidimos descartar de mara directa en la exploración inicial."
   ]
  },
  {
   "cell_type": "code",
   "execution_count": 6,
   "id": "3ca57567",
   "metadata": {},
   "outputs": [],
   "source": [
    "columns = ['neighbourhood_group_cleansed', 'bathrooms', 'calendar_updated', 'listing_url', 'scrape_id', 'last_scraped',\n",
    "           'picture_url', 'host_id', 'host_url', 'host_thumbnail_url', 'host_picture_url', 'calendar_last_scraped', 'license']\n",
    "\n",
    "data.drop(columns, axis=1, inplace=True)"
   ]
  },
  {
   "cell_type": "code",
   "execution_count": 7,
   "id": "5bacfcfc",
   "metadata": {
    "scrolled": true
   },
   "outputs": [
    {
     "data": {
      "text/plain": [
       "(4167, 61)"
      ]
     },
     "execution_count": 7,
     "metadata": {},
     "output_type": "execute_result"
    }
   ],
   "source": [
    "data.shape"
   ]
  },
  {
   "cell_type": "markdown",
   "id": "c218b354",
   "metadata": {},
   "source": [
    "Cuanto mayor sea el número de columnas, más complicado será trabajar con ellas. Por eso lo que haremos será reducirlas mucho (aun sabiendo que algunas de las que descartamos pueden aportar valor a nuestro modelo) y a partir de ahí trataremos de afinar el modelo incluyendo algunas de esas columnas eliminadas (si lo considerásemos oportuno).\n",
    "\n",
    "Empezamos dropeando las columnas que sospechamos que no aportan valor (sin entrar en profundidad en los datos, ya sea por la información que aportan los datos o por el formato en el que se nos proporcionan). También haremos algunas comprobacionas con las que tengamos dudas más específicas."
   ]
  },
  {
   "cell_type": "code",
   "execution_count": 43,
   "id": "0b9fe0ed",
   "metadata": {},
   "outputs": [],
   "source": [
    "columns = ['name', 'description', 'neighborhood_overview', 'host_name', 'host_location', 'host_about', 'host_listings_count',\n",
    "          'neighbourhood', 'property_type', 'maximum_nights', 'minimum_minimum_nights', 'maximum_minimum_nights',\n",
    "          'minimum_maximum_nights', 'maximum_maximum_nights', 'minimum_nights_avg_ntm', 'maximum_nights_avg_ntm',\n",
    "          'has_availability', 'availability_30', 'availability_60', 'availability_90', 'availability_365',\n",
    "          'number_of_reviews_ltm', 'number_of_reviews_l30d', 'review_scores_accuracy', 'review_scores_cleanliness',\n",
    "          'review_scores_checkin', 'review_scores_communication', 'review_scores_location', 'review_scores_value',\n",
    "          'calculated_host_listings_count', 'calculated_host_listings_count_entire_homes',\n",
    "          'calculated_host_listings_count_private_rooms', 'calculated_host_listings_count_shared_rooms']\n",
    "\n",
    "cleaning = data.drop(columns, axis=1)"
   ]
  },
  {
   "cell_type": "code",
   "execution_count": 46,
   "id": "c4dabcd8",
   "metadata": {},
   "outputs": [
    {
     "data": {
      "text/plain": [
       "(4167, 28)"
      ]
     },
     "execution_count": 46,
     "metadata": {},
     "output_type": "execute_result"
    }
   ],
   "source": [
    "cleaning.shape"
   ]
  },
  {
   "cell_type": "code",
   "execution_count": 45,
   "id": "2429d2de",
   "metadata": {},
   "outputs": [
    {
     "data": {
      "text/plain": [
       "Index(['id', 'host_since', 'host_response_time', 'host_response_rate',\n",
       "       'host_acceptance_rate', 'host_is_superhost', 'host_neighbourhood',\n",
       "       'host_total_listings_count', 'host_verifications',\n",
       "       'host_has_profile_pic', 'host_identity_verified',\n",
       "       'neighbourhood_cleansed', 'latitude', 'longitude', 'room_type',\n",
       "       'accommodates', 'bathrooms_text', 'bedrooms', 'beds', 'amenities',\n",
       "       'price', 'minimum_nights', 'number_of_reviews', 'first_review',\n",
       "       'last_review', 'review_scores_rating', 'instant_bookable',\n",
       "       'reviews_per_month'],\n",
       "      dtype='object')"
      ]
     },
     "execution_count": 45,
     "metadata": {},
     "output_type": "execute_result"
    }
   ],
   "source": [
    "cleaning.columns"
   ]
  },
  {
   "cell_type": "code",
   "execution_count": 44,
   "id": "571450e1",
   "metadata": {
    "scrolled": true
   },
   "outputs": [
    {
     "data": {
      "text/html": [
       "<div>\n",
       "<style scoped>\n",
       "    .dataframe tbody tr th:only-of-type {\n",
       "        vertical-align: middle;\n",
       "    }\n",
       "\n",
       "    .dataframe tbody tr th {\n",
       "        vertical-align: top;\n",
       "    }\n",
       "\n",
       "    .dataframe thead th {\n",
       "        text-align: right;\n",
       "    }\n",
       "</style>\n",
       "<table border=\"1\" class=\"dataframe\">\n",
       "  <thead>\n",
       "    <tr style=\"text-align: right;\">\n",
       "      <th></th>\n",
       "      <th>id</th>\n",
       "      <th>host_since</th>\n",
       "      <th>host_response_time</th>\n",
       "      <th>host_response_rate</th>\n",
       "      <th>host_acceptance_rate</th>\n",
       "      <th>host_is_superhost</th>\n",
       "      <th>host_neighbourhood</th>\n",
       "      <th>host_total_listings_count</th>\n",
       "      <th>host_verifications</th>\n",
       "      <th>host_has_profile_pic</th>\n",
       "      <th>host_identity_verified</th>\n",
       "      <th>neighbourhood_cleansed</th>\n",
       "      <th>latitude</th>\n",
       "      <th>longitude</th>\n",
       "      <th>room_type</th>\n",
       "      <th>accommodates</th>\n",
       "      <th>bathrooms_text</th>\n",
       "      <th>bedrooms</th>\n",
       "      <th>beds</th>\n",
       "      <th>amenities</th>\n",
       "      <th>price</th>\n",
       "      <th>minimum_nights</th>\n",
       "      <th>number_of_reviews</th>\n",
       "      <th>first_review</th>\n",
       "      <th>last_review</th>\n",
       "      <th>review_scores_rating</th>\n",
       "      <th>instant_bookable</th>\n",
       "      <th>reviews_per_month</th>\n",
       "    </tr>\n",
       "  </thead>\n",
       "  <tbody>\n",
       "    <tr>\n",
       "      <th>0</th>\n",
       "      <td>0</td>\n",
       "      <td>2012-07-24</td>\n",
       "      <td>within a few hours</td>\n",
       "      <td>100%</td>\n",
       "      <td>75%</td>\n",
       "      <td>f</td>\n",
       "      <td>NaN</td>\n",
       "      <td>13</td>\n",
       "      <td>['email', 'phone', 'reviews', 'jumio', 'offlin...</td>\n",
       "      <td>t</td>\n",
       "      <td>t</td>\n",
       "      <td>Noord-Oost</td>\n",
       "      <td>52.39508</td>\n",
       "      <td>4.99186</td>\n",
       "      <td>Private room</td>\n",
       "      <td>3</td>\n",
       "      <td>1.5 shared baths</td>\n",
       "      <td>1.0</td>\n",
       "      <td>NaN</td>\n",
       "      <td>[\"First aid kit\", \"Free parking on premises\", ...</td>\n",
       "      <td>87.0</td>\n",
       "      <td>2</td>\n",
       "      <td>81</td>\n",
       "      <td>2014-08-03</td>\n",
       "      <td>2019-06-15</td>\n",
       "      <td>4.62</td>\n",
       "      <td>f</td>\n",
       "      <td>0.91</td>\n",
       "    </tr>\n",
       "    <tr>\n",
       "      <th>1</th>\n",
       "      <td>1</td>\n",
       "      <td>2015-06-01</td>\n",
       "      <td>NaN</td>\n",
       "      <td>NaN</td>\n",
       "      <td>NaN</td>\n",
       "      <td>f</td>\n",
       "      <td>Weesperbuurt en Plantage</td>\n",
       "      <td>0</td>\n",
       "      <td>['email', 'phone', 'reviews']</td>\n",
       "      <td>t</td>\n",
       "      <td>f</td>\n",
       "      <td>Centrum-Oost</td>\n",
       "      <td>52.36371</td>\n",
       "      <td>4.90745</td>\n",
       "      <td>Entire home/apt</td>\n",
       "      <td>4</td>\n",
       "      <td>1 bath</td>\n",
       "      <td>2.0</td>\n",
       "      <td>2.0</td>\n",
       "      <td>[\"Hot water kettle\", \"Pocket wifi\", \"Stove\", \"...</td>\n",
       "      <td>250.0</td>\n",
       "      <td>2</td>\n",
       "      <td>9</td>\n",
       "      <td>2020-01-26</td>\n",
       "      <td>2021-09-05</td>\n",
       "      <td>5.00</td>\n",
       "      <td>f</td>\n",
       "      <td>0.40</td>\n",
       "    </tr>\n",
       "    <tr>\n",
       "      <th>2</th>\n",
       "      <td>2</td>\n",
       "      <td>2018-07-20</td>\n",
       "      <td>within an hour</td>\n",
       "      <td>100%</td>\n",
       "      <td>97%</td>\n",
       "      <td>t</td>\n",
       "      <td>Hoofddorppleinbuurt</td>\n",
       "      <td>20</td>\n",
       "      <td>['email', 'phone']</td>\n",
       "      <td>t</td>\n",
       "      <td>t</td>\n",
       "      <td>Zuid</td>\n",
       "      <td>52.35482</td>\n",
       "      <td>4.85329</td>\n",
       "      <td>Hotel room</td>\n",
       "      <td>2</td>\n",
       "      <td>1 private bath</td>\n",
       "      <td>1.0</td>\n",
       "      <td>1.0</td>\n",
       "      <td>[\"Air conditioning\", \"First aid kit\", \"Hangers...</td>\n",
       "      <td>151.0</td>\n",
       "      <td>1</td>\n",
       "      <td>47</td>\n",
       "      <td>2018-11-09</td>\n",
       "      <td>2020-03-07</td>\n",
       "      <td>4.79</td>\n",
       "      <td>t</td>\n",
       "      <td>1.25</td>\n",
       "    </tr>\n",
       "    <tr>\n",
       "      <th>3</th>\n",
       "      <td>3</td>\n",
       "      <td>2016-04-25</td>\n",
       "      <td>within an hour</td>\n",
       "      <td>100%</td>\n",
       "      <td>67%</td>\n",
       "      <td>f</td>\n",
       "      <td>Oud-West</td>\n",
       "      <td>1</td>\n",
       "      <td>['email', 'phone', 'facebook']</td>\n",
       "      <td>t</td>\n",
       "      <td>f</td>\n",
       "      <td>De Baarsjes - Oud-West</td>\n",
       "      <td>52.36446</td>\n",
       "      <td>4.85972</td>\n",
       "      <td>Entire home/apt</td>\n",
       "      <td>2</td>\n",
       "      <td>1.5 baths</td>\n",
       "      <td>1.0</td>\n",
       "      <td>1.0</td>\n",
       "      <td>[\"Hair dryer\", \"Stove\", \"Dishes and silverware...</td>\n",
       "      <td>139.0</td>\n",
       "      <td>2</td>\n",
       "      <td>10</td>\n",
       "      <td>2019-04-22</td>\n",
       "      <td>2019-11-10</td>\n",
       "      <td>5.00</td>\n",
       "      <td>f</td>\n",
       "      <td>0.31</td>\n",
       "    </tr>\n",
       "    <tr>\n",
       "      <th>4</th>\n",
       "      <td>4</td>\n",
       "      <td>2013-03-03</td>\n",
       "      <td>within a few hours</td>\n",
       "      <td>100%</td>\n",
       "      <td>75%</td>\n",
       "      <td>t</td>\n",
       "      <td>Oud-Zuid</td>\n",
       "      <td>1</td>\n",
       "      <td>['email', 'phone', 'reviews', 'manual_offline'...</td>\n",
       "      <td>t</td>\n",
       "      <td>t</td>\n",
       "      <td>Zuid</td>\n",
       "      <td>52.34176</td>\n",
       "      <td>4.84782</td>\n",
       "      <td>Private room</td>\n",
       "      <td>2</td>\n",
       "      <td>1.5 baths</td>\n",
       "      <td>1.0</td>\n",
       "      <td>2.0</td>\n",
       "      <td>[\"Hair dryer\", \"Dishes and silverware\", \"Ether...</td>\n",
       "      <td>95.0</td>\n",
       "      <td>2</td>\n",
       "      <td>166</td>\n",
       "      <td>2014-04-08</td>\n",
       "      <td>2019-08-26</td>\n",
       "      <td>4.67</td>\n",
       "      <td>f</td>\n",
       "      <td>1.78</td>\n",
       "    </tr>\n",
       "  </tbody>\n",
       "</table>\n",
       "</div>"
      ],
      "text/plain": [
       "   id  host_since  host_response_time host_response_rate host_acceptance_rate  \\\n",
       "0   0  2012-07-24  within a few hours               100%                  75%   \n",
       "1   1  2015-06-01                 NaN                NaN                  NaN   \n",
       "2   2  2018-07-20      within an hour               100%                  97%   \n",
       "3   3  2016-04-25      within an hour               100%                  67%   \n",
       "4   4  2013-03-03  within a few hours               100%                  75%   \n",
       "\n",
       "  host_is_superhost        host_neighbourhood  host_total_listings_count  \\\n",
       "0                 f                       NaN                         13   \n",
       "1                 f  Weesperbuurt en Plantage                          0   \n",
       "2                 t       Hoofddorppleinbuurt                         20   \n",
       "3                 f                  Oud-West                          1   \n",
       "4                 t                  Oud-Zuid                          1   \n",
       "\n",
       "                                  host_verifications host_has_profile_pic  \\\n",
       "0  ['email', 'phone', 'reviews', 'jumio', 'offlin...                    t   \n",
       "1                      ['email', 'phone', 'reviews']                    t   \n",
       "2                                 ['email', 'phone']                    t   \n",
       "3                     ['email', 'phone', 'facebook']                    t   \n",
       "4  ['email', 'phone', 'reviews', 'manual_offline'...                    t   \n",
       "\n",
       "  host_identity_verified  neighbourhood_cleansed  latitude  longitude  \\\n",
       "0                      t              Noord-Oost  52.39508    4.99186   \n",
       "1                      f            Centrum-Oost  52.36371    4.90745   \n",
       "2                      t                    Zuid  52.35482    4.85329   \n",
       "3                      f  De Baarsjes - Oud-West  52.36446    4.85972   \n",
       "4                      t                    Zuid  52.34176    4.84782   \n",
       "\n",
       "         room_type  accommodates    bathrooms_text  bedrooms  beds  \\\n",
       "0     Private room             3  1.5 shared baths       1.0   NaN   \n",
       "1  Entire home/apt             4            1 bath       2.0   2.0   \n",
       "2       Hotel room             2    1 private bath       1.0   1.0   \n",
       "3  Entire home/apt             2         1.5 baths       1.0   1.0   \n",
       "4     Private room             2         1.5 baths       1.0   2.0   \n",
       "\n",
       "                                           amenities  price  minimum_nights  \\\n",
       "0  [\"First aid kit\", \"Free parking on premises\", ...   87.0               2   \n",
       "1  [\"Hot water kettle\", \"Pocket wifi\", \"Stove\", \"...  250.0               2   \n",
       "2  [\"Air conditioning\", \"First aid kit\", \"Hangers...  151.0               1   \n",
       "3  [\"Hair dryer\", \"Stove\", \"Dishes and silverware...  139.0               2   \n",
       "4  [\"Hair dryer\", \"Dishes and silverware\", \"Ether...   95.0               2   \n",
       "\n",
       "   number_of_reviews first_review last_review  review_scores_rating  \\\n",
       "0                 81   2014-08-03  2019-06-15                  4.62   \n",
       "1                  9   2020-01-26  2021-09-05                  5.00   \n",
       "2                 47   2018-11-09  2020-03-07                  4.79   \n",
       "3                 10   2019-04-22  2019-11-10                  5.00   \n",
       "4                166   2014-04-08  2019-08-26                  4.67   \n",
       "\n",
       "  instant_bookable  reviews_per_month  \n",
       "0                f               0.91  \n",
       "1                f               0.40  \n",
       "2                t               1.25  \n",
       "3                f               0.31  \n",
       "4                f               1.78  "
      ]
     },
     "execution_count": 44,
     "metadata": {},
     "output_type": "execute_result"
    }
   ],
   "source": [
    "cleaning.head()"
   ]
  },
  {
   "cell_type": "code",
   "execution_count": 41,
   "id": "2b2a9339",
   "metadata": {
    "scrolled": false
   },
   "outputs": [
    {
     "data": {
      "text/plain": [
       "0     1521\n",
       "90      96\n",
       "64      82\n",
       "5       74\n",
       "1       73\n",
       "      ... \n",
       "40      13\n",
       "43      11\n",
       "25      10\n",
       "31      10\n",
       "30       8\n",
       "Name: availability_90, Length: 91, dtype: int64"
      ]
     },
     "execution_count": 41,
     "metadata": {},
     "output_type": "execute_result"
    }
   ],
   "source": [
    "data.availability_90.value_counts()"
   ]
  },
  {
   "cell_type": "code",
   "execution_count": 22,
   "id": "536037fc",
   "metadata": {},
   "outputs": [
    {
     "data": {
      "text/plain": [
       "1      2109\n",
       "0       789\n",
       "2       605\n",
       "3       187\n",
       "4        73\n",
       "5        63\n",
       "8        54\n",
       "6        53\n",
       "7        40\n",
       "20       29\n",
       "9        29\n",
       "13       20\n",
       "21       16\n",
       "22       15\n",
       "15       13\n",
       "16       12\n",
       "10       11\n",
       "12       11\n",
       "17        8\n",
       "35        8\n",
       "18        8\n",
       "32        4\n",
       "24        2\n",
       "14        2\n",
       "247       2\n",
       "432       1\n",
       "718       1\n",
       "38        1\n",
       "11        1\n",
       "Name: host_total_listings_count, dtype: int64"
      ]
     },
     "execution_count": 22,
     "metadata": {},
     "output_type": "execute_result"
    }
   ],
   "source": [
    "data.host_total_listings_count.value_counts()"
   ]
  },
  {
   "cell_type": "code",
   "execution_count": 11,
   "id": "91bb230a",
   "metadata": {},
   "outputs": [
    {
     "name": "stdout",
     "output_type": "stream",
     "text": [
      "<class 'pandas.core.frame.DataFrame'>\n",
      "RangeIndex: 4167 entries, 0 to 4166\n",
      "Data columns (total 61 columns):\n",
      " #   Column                                        Non-Null Count  Dtype  \n",
      "---  ------                                        --------------  -----  \n",
      " 0   id                                            4167 non-null   int64  \n",
      " 1   name                                          4167 non-null   object \n",
      " 2   description                                   4159 non-null   object \n",
      " 3   neighborhood_overview                         3004 non-null   object \n",
      " 4   host_name                                     4167 non-null   object \n",
      " 5   host_since                                    4167 non-null   object \n",
      " 6   host_location                                 4155 non-null   object \n",
      " 7   host_about                                    2655 non-null   object \n",
      " 8   host_response_time                            2754 non-null   object \n",
      " 9   host_response_rate                            2754 non-null   object \n",
      " 10  host_acceptance_rate                          3075 non-null   object \n",
      " 11  host_is_superhost                             4167 non-null   object \n",
      " 12  host_neighbourhood                            2381 non-null   object \n",
      " 13  host_listings_count                           4167 non-null   int64  \n",
      " 14  host_total_listings_count                     4167 non-null   int64  \n",
      " 15  host_verifications                            4167 non-null   object \n",
      " 16  host_has_profile_pic                          4167 non-null   object \n",
      " 17  host_identity_verified                        4167 non-null   object \n",
      " 18  neighbourhood                                 3004 non-null   object \n",
      " 19  neighbourhood_cleansed                        4167 non-null   object \n",
      " 20  latitude                                      4167 non-null   float64\n",
      " 21  longitude                                     4167 non-null   float64\n",
      " 22  property_type                                 4167 non-null   object \n",
      " 23  room_type                                     4167 non-null   object \n",
      " 24  accommodates                                  4167 non-null   int64  \n",
      " 25  bathrooms_text                                4159 non-null   object \n",
      " 26  bedrooms                                      3914 non-null   float64\n",
      " 27  beds                                          3993 non-null   float64\n",
      " 28  amenities                                     4167 non-null   object \n",
      " 29  price                                         4167 non-null   float64\n",
      " 30  minimum_nights                                4167 non-null   int64  \n",
      " 31  maximum_nights                                4167 non-null   int64  \n",
      " 32  minimum_minimum_nights                        4166 non-null   float64\n",
      " 33  maximum_minimum_nights                        4166 non-null   float64\n",
      " 34  minimum_maximum_nights                        4166 non-null   float64\n",
      " 35  maximum_maximum_nights                        4166 non-null   float64\n",
      " 36  minimum_nights_avg_ntm                        4166 non-null   float64\n",
      " 37  maximum_nights_avg_ntm                        4166 non-null   float64\n",
      " 38  has_availability                              4167 non-null   object \n",
      " 39  availability_30                               4167 non-null   int64  \n",
      " 40  availability_60                               4167 non-null   int64  \n",
      " 41  availability_90                               4167 non-null   int64  \n",
      " 42  availability_365                              4167 non-null   int64  \n",
      " 43  number_of_reviews                             4167 non-null   int64  \n",
      " 44  number_of_reviews_ltm                         4167 non-null   int64  \n",
      " 45  number_of_reviews_l30d                        4167 non-null   int64  \n",
      " 46  first_review                                  3790 non-null   object \n",
      " 47  last_review                                   3790 non-null   object \n",
      " 48  review_scores_rating                          3790 non-null   float64\n",
      " 49  review_scores_accuracy                        3782 non-null   float64\n",
      " 50  review_scores_cleanliness                     3782 non-null   float64\n",
      " 51  review_scores_checkin                         3782 non-null   float64\n",
      " 52  review_scores_communication                   3782 non-null   float64\n",
      " 53  review_scores_location                        3782 non-null   float64\n",
      " 54  review_scores_value                           3782 non-null   float64\n",
      " 55  instant_bookable                              4167 non-null   object \n",
      " 56  calculated_host_listings_count                4167 non-null   int64  \n",
      " 57  calculated_host_listings_count_entire_homes   4167 non-null   int64  \n",
      " 58  calculated_host_listings_count_private_rooms  4167 non-null   int64  \n",
      " 59  calculated_host_listings_count_shared_rooms   4167 non-null   int64  \n",
      " 60  reviews_per_month                             3790 non-null   float64\n",
      "dtypes: float64(19), int64(17), object(25)\n",
      "memory usage: 1.9+ MB\n"
     ]
    }
   ],
   "source": [
    "data.info()"
   ]
  }
 ],
 "metadata": {
  "kernelspec": {
   "display_name": "Python 3 (ipykernel)",
   "language": "python",
   "name": "python3"
  },
  "language_info": {
   "codemirror_mode": {
    "name": "ipython",
    "version": 3
   },
   "file_extension": ".py",
   "mimetype": "text/x-python",
   "name": "python",
   "nbconvert_exporter": "python",
   "pygments_lexer": "ipython3",
   "version": "3.9.7"
  }
 },
 "nbformat": 4,
 "nbformat_minor": 5
}
